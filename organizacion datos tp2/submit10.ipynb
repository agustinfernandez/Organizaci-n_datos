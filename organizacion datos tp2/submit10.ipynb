{
 "cells": [
  {
   "cell_type": "code",
   "execution_count": 1,
   "metadata": {},
   "outputs": [],
   "source": [
    "### lightgbm -submit10"
   ]
  },
  {
   "cell_type": "code",
   "execution_count": 2,
   "metadata": {},
   "outputs": [],
   "source": [
    "###Carga de librerias, lectura del dataset"
   ]
  },
  {
   "cell_type": "code",
   "execution_count": 3,
   "metadata": {},
   "outputs": [],
   "source": [
    "import xgboost as xgb\n",
    "from sklearn.ensemble import RandomForestClassifier\n",
    "from sklearn.metrics import mean_squared_error\n",
    "import pandas as pd\n",
    "import numpy as np\n",
    "%matplotlib inline\n",
    "import matplotlib.pyplot as plt\n",
    "from sklearn import tree"
   ]
  },
  {
   "cell_type": "code",
   "execution_count": null,
   "metadata": {},
   "outputs": [],
   "source": [
    "import warnings\n",
    "warnings.filterwarnings('ignore')"
   ]
  },
  {
   "cell_type": "code",
   "execution_count": 4,
   "metadata": {},
   "outputs": [],
   "source": [
    "#Modificar dimensiones predeterminadas de visibilidad de columnas y filas\n",
    "x = 52\n",
    "pd.set_option('display.max_columns', x) #Maximo de columnas a ver\n",
    "pd.set_option('display.max_rows', x) #Maximo de Filas a ver"
   ]
  },
  {
   "cell_type": "code",
   "execution_count": 5,
   "metadata": {},
   "outputs": [],
   "source": [
    "path_dataset = 'train.csv'\n",
    "train = pd.read_csv(path_dataset)"
   ]
  },
  {
   "cell_type": "code",
   "execution_count": 6,
   "metadata": {},
   "outputs": [],
   "source": [
    "path_dataset = 'test.csv'\n",
    "test = pd.read_csv(path_dataset)"
   ]
  },
  {
   "cell_type": "code",
   "execution_count": 7,
   "metadata": {},
   "outputs": [
    {
     "data": {
      "text/html": [
       "<div>\n",
       "<style scoped>\n",
       "    .dataframe tbody tr th:only-of-type {\n",
       "        vertical-align: middle;\n",
       "    }\n",
       "\n",
       "    .dataframe tbody tr th {\n",
       "        vertical-align: top;\n",
       "    }\n",
       "\n",
       "    .dataframe thead th {\n",
       "        text-align: right;\n",
       "    }\n",
       "</style>\n",
       "<table border=\"1\" class=\"dataframe\">\n",
       "  <thead>\n",
       "    <tr style=\"text-align: right;\">\n",
       "      <th></th>\n",
       "      <th>Opportunity_ID</th>\n",
       "      <th>Region</th>\n",
       "      <th>Billing_Country</th>\n",
       "      <th>Account_Type</th>\n",
       "      <th>Opportunity_Type</th>\n",
       "      <th>Account_Owner</th>\n",
       "      <th>Account_Name</th>\n",
       "      <th>Conversión_USD</th>\n",
       "      <th>Delivery_Quarter</th>\n",
       "      <th>TRF</th>\n",
       "      <th>Stage</th>\n",
       "      <th>promedio_preciov_region</th>\n",
       "      <th>promedio_preciov_paises</th>\n",
       "      <th>promedio_preciov_Account</th>\n",
       "      <th>promedio_preciov_Oportunity</th>\n",
       "      <th>promedio_preciov_vendedor</th>\n",
       "      <th>Wilsonxproporcion_region</th>\n",
       "      <th>Wilsonxproporcion_paises</th>\n",
       "      <th>Wilsonxproporcion_vendedor</th>\n",
       "    </tr>\n",
       "  </thead>\n",
       "  <tbody>\n",
       "    <tr>\n",
       "      <th>0</th>\n",
       "      <td>0</td>\n",
       "      <td>EMEA</td>\n",
       "      <td>Netherlands</td>\n",
       "      <td>Account_Type_2</td>\n",
       "      <td>Opportunity_Type_1</td>\n",
       "      <td>Person_Name_51</td>\n",
       "      <td>Account_Name_619</td>\n",
       "      <td>6305214</td>\n",
       "      <td>Q2</td>\n",
       "      <td>10</td>\n",
       "      <td>Closed Lost</td>\n",
       "      <td>246888.239174</td>\n",
       "      <td>0.000000</td>\n",
       "      <td>0.000000</td>\n",
       "      <td>0.000000</td>\n",
       "      <td>0.000000</td>\n",
       "      <td>0.514817</td>\n",
       "      <td>0.513767</td>\n",
       "      <td>0.325851</td>\n",
       "    </tr>\n",
       "    <tr>\n",
       "      <th>1</th>\n",
       "      <td>1</td>\n",
       "      <td>EMEA</td>\n",
       "      <td>Netherlands</td>\n",
       "      <td>Account_Type_2</td>\n",
       "      <td>Opportunity_Type_1</td>\n",
       "      <td>Person_Name_51</td>\n",
       "      <td>Account_Name_619</td>\n",
       "      <td>57673</td>\n",
       "      <td>Q1</td>\n",
       "      <td>0</td>\n",
       "      <td>Closed Won</td>\n",
       "      <td>246888.239174</td>\n",
       "      <td>177583.146032</td>\n",
       "      <td>125034.170409</td>\n",
       "      <td>133491.432403</td>\n",
       "      <td>85165.046512</td>\n",
       "      <td>0.514817</td>\n",
       "      <td>0.513767</td>\n",
       "      <td>0.325851</td>\n",
       "    </tr>\n",
       "    <tr>\n",
       "      <th>2</th>\n",
       "      <td>2</td>\n",
       "      <td>Americas</td>\n",
       "      <td>United States</td>\n",
       "      <td>Account_Type_5</td>\n",
       "      <td>Opportunity_Type_1</td>\n",
       "      <td>Person_Name_64</td>\n",
       "      <td>Account_Name_1794</td>\n",
       "      <td>83865</td>\n",
       "      <td>Q1</td>\n",
       "      <td>0</td>\n",
       "      <td>Closed Won</td>\n",
       "      <td>422783.847183</td>\n",
       "      <td>432143.813675</td>\n",
       "      <td>958150.887348</td>\n",
       "      <td>133491.432403</td>\n",
       "      <td>75357.668421</td>\n",
       "      <td>0.445687</td>\n",
       "      <td>0.448366</td>\n",
       "      <td>0.616299</td>\n",
       "    </tr>\n",
       "    <tr>\n",
       "      <th>3</th>\n",
       "      <td>3</td>\n",
       "      <td>Americas</td>\n",
       "      <td>United States</td>\n",
       "      <td>Account_Type_5</td>\n",
       "      <td>Opportunity_Type_19</td>\n",
       "      <td>Person_Name_8</td>\n",
       "      <td>Account_Name_1201</td>\n",
       "      <td>7421881</td>\n",
       "      <td>Q1</td>\n",
       "      <td>14</td>\n",
       "      <td>Closed Lost</td>\n",
       "      <td>422783.847183</td>\n",
       "      <td>0.000000</td>\n",
       "      <td>0.000000</td>\n",
       "      <td>0.000000</td>\n",
       "      <td>0.000000</td>\n",
       "      <td>0.445687</td>\n",
       "      <td>0.448366</td>\n",
       "      <td>0.561500</td>\n",
       "    </tr>\n",
       "    <tr>\n",
       "      <th>4</th>\n",
       "      <td>4</td>\n",
       "      <td>Americas</td>\n",
       "      <td>United States</td>\n",
       "      <td>Account_Type_5</td>\n",
       "      <td>Opportunity_Type_19</td>\n",
       "      <td>Person_Name_8</td>\n",
       "      <td>Account_Name_1201</td>\n",
       "      <td>13357192</td>\n",
       "      <td>Q1</td>\n",
       "      <td>25</td>\n",
       "      <td>Closed Lost</td>\n",
       "      <td>422783.847183</td>\n",
       "      <td>0.000000</td>\n",
       "      <td>0.000000</td>\n",
       "      <td>0.000000</td>\n",
       "      <td>0.000000</td>\n",
       "      <td>0.445687</td>\n",
       "      <td>0.448366</td>\n",
       "      <td>0.561500</td>\n",
       "    </tr>\n",
       "  </tbody>\n",
       "</table>\n",
       "</div>"
      ],
      "text/plain": [
       "   Opportunity_ID    Region Billing_Country    Account_Type  \\\n",
       "0               0      EMEA     Netherlands  Account_Type_2   \n",
       "1               1      EMEA     Netherlands  Account_Type_2   \n",
       "2               2  Americas   United States  Account_Type_5   \n",
       "3               3  Americas   United States  Account_Type_5   \n",
       "4               4  Americas   United States  Account_Type_5   \n",
       "\n",
       "      Opportunity_Type   Account_Owner       Account_Name  Conversión_USD  \\\n",
       "0   Opportunity_Type_1  Person_Name_51   Account_Name_619         6305214   \n",
       "1   Opportunity_Type_1  Person_Name_51   Account_Name_619           57673   \n",
       "2   Opportunity_Type_1  Person_Name_64  Account_Name_1794           83865   \n",
       "3  Opportunity_Type_19   Person_Name_8  Account_Name_1201         7421881   \n",
       "4  Opportunity_Type_19   Person_Name_8  Account_Name_1201        13357192   \n",
       "\n",
       "  Delivery_Quarter  TRF        Stage  promedio_preciov_region  \\\n",
       "0               Q2   10  Closed Lost            246888.239174   \n",
       "1               Q1    0   Closed Won            246888.239174   \n",
       "2               Q1    0   Closed Won            422783.847183   \n",
       "3               Q1   14  Closed Lost            422783.847183   \n",
       "4               Q1   25  Closed Lost            422783.847183   \n",
       "\n",
       "   promedio_preciov_paises  promedio_preciov_Account  \\\n",
       "0                 0.000000                  0.000000   \n",
       "1            177583.146032             125034.170409   \n",
       "2            432143.813675             958150.887348   \n",
       "3                 0.000000                  0.000000   \n",
       "4                 0.000000                  0.000000   \n",
       "\n",
       "   promedio_preciov_Oportunity  promedio_preciov_vendedor  \\\n",
       "0                     0.000000                   0.000000   \n",
       "1                133491.432403               85165.046512   \n",
       "2                133491.432403               75357.668421   \n",
       "3                     0.000000                   0.000000   \n",
       "4                     0.000000                   0.000000   \n",
       "\n",
       "   Wilsonxproporcion_region  Wilsonxproporcion_paises  \\\n",
       "0                  0.514817                  0.513767   \n",
       "1                  0.514817                  0.513767   \n",
       "2                  0.445687                  0.448366   \n",
       "3                  0.445687                  0.448366   \n",
       "4                  0.445687                  0.448366   \n",
       "\n",
       "   Wilsonxproporcion_vendedor  \n",
       "0                    0.325851  \n",
       "1                    0.325851  \n",
       "2                    0.616299  \n",
       "3                    0.561500  \n",
       "4                    0.561500  "
      ]
     },
     "execution_count": 7,
     "metadata": {},
     "output_type": "execute_result"
    }
   ],
   "source": [
    "train.head()"
   ]
  },
  {
   "cell_type": "code",
   "execution_count": 8,
   "metadata": {},
   "outputs": [
    {
     "data": {
      "text/html": [
       "<div>\n",
       "<style scoped>\n",
       "    .dataframe tbody tr th:only-of-type {\n",
       "        vertical-align: middle;\n",
       "    }\n",
       "\n",
       "    .dataframe tbody tr th {\n",
       "        vertical-align: top;\n",
       "    }\n",
       "\n",
       "    .dataframe thead th {\n",
       "        text-align: right;\n",
       "    }\n",
       "</style>\n",
       "<table border=\"1\" class=\"dataframe\">\n",
       "  <thead>\n",
       "    <tr style=\"text-align: right;\">\n",
       "      <th></th>\n",
       "      <th>Opportunity_ID</th>\n",
       "      <th>Region</th>\n",
       "      <th>Billing_Country</th>\n",
       "      <th>Account_Type</th>\n",
       "      <th>Opportunity_Type</th>\n",
       "      <th>Account_Owner</th>\n",
       "      <th>Account_Name</th>\n",
       "      <th>Conversión_USD</th>\n",
       "      <th>Delivery_Quarter</th>\n",
       "      <th>TRF</th>\n",
       "      <th>Stage</th>\n",
       "      <th>promedio_preciov_region</th>\n",
       "      <th>promedio_preciov_paises</th>\n",
       "      <th>promedio_preciov_Account</th>\n",
       "      <th>promedio_preciov_Oportunity</th>\n",
       "      <th>promedio_preciov_vendedor</th>\n",
       "      <th>Wilsonxproporcion_region</th>\n",
       "      <th>Wilsonxproporcion_paises</th>\n",
       "      <th>Wilsonxproporcion_vendedor</th>\n",
       "    </tr>\n",
       "  </thead>\n",
       "  <tbody>\n",
       "    <tr>\n",
       "      <th>0</th>\n",
       "      <td>0</td>\n",
       "      <td>EMEA</td>\n",
       "      <td>Netherlands</td>\n",
       "      <td>Account_Type_2</td>\n",
       "      <td>Opportunity_Type_1</td>\n",
       "      <td>Person_Name_51</td>\n",
       "      <td>Account_Name_619</td>\n",
       "      <td>6305214</td>\n",
       "      <td>Q2</td>\n",
       "      <td>10</td>\n",
       "      <td>Closed Lost</td>\n",
       "      <td>246888.239174</td>\n",
       "      <td>0.000000</td>\n",
       "      <td>0.000000</td>\n",
       "      <td>0.000000</td>\n",
       "      <td>0.000000</td>\n",
       "      <td>0.514817</td>\n",
       "      <td>0.513767</td>\n",
       "      <td>0.325851</td>\n",
       "    </tr>\n",
       "    <tr>\n",
       "      <th>1</th>\n",
       "      <td>1</td>\n",
       "      <td>EMEA</td>\n",
       "      <td>Netherlands</td>\n",
       "      <td>Account_Type_2</td>\n",
       "      <td>Opportunity_Type_1</td>\n",
       "      <td>Person_Name_51</td>\n",
       "      <td>Account_Name_619</td>\n",
       "      <td>57673</td>\n",
       "      <td>Q1</td>\n",
       "      <td>0</td>\n",
       "      <td>Closed Won</td>\n",
       "      <td>246888.239174</td>\n",
       "      <td>177583.146032</td>\n",
       "      <td>125034.170409</td>\n",
       "      <td>133491.432403</td>\n",
       "      <td>85165.046512</td>\n",
       "      <td>0.514817</td>\n",
       "      <td>0.513767</td>\n",
       "      <td>0.325851</td>\n",
       "    </tr>\n",
       "    <tr>\n",
       "      <th>2</th>\n",
       "      <td>2</td>\n",
       "      <td>Americas</td>\n",
       "      <td>United States</td>\n",
       "      <td>Account_Type_5</td>\n",
       "      <td>Opportunity_Type_1</td>\n",
       "      <td>Person_Name_64</td>\n",
       "      <td>Account_Name_1794</td>\n",
       "      <td>83865</td>\n",
       "      <td>Q1</td>\n",
       "      <td>0</td>\n",
       "      <td>Closed Won</td>\n",
       "      <td>422783.847183</td>\n",
       "      <td>432143.813675</td>\n",
       "      <td>958150.887348</td>\n",
       "      <td>133491.432403</td>\n",
       "      <td>75357.668421</td>\n",
       "      <td>0.445687</td>\n",
       "      <td>0.448366</td>\n",
       "      <td>0.616299</td>\n",
       "    </tr>\n",
       "    <tr>\n",
       "      <th>3</th>\n",
       "      <td>3</td>\n",
       "      <td>Americas</td>\n",
       "      <td>United States</td>\n",
       "      <td>Account_Type_5</td>\n",
       "      <td>Opportunity_Type_19</td>\n",
       "      <td>Person_Name_8</td>\n",
       "      <td>Account_Name_1201</td>\n",
       "      <td>7421881</td>\n",
       "      <td>Q1</td>\n",
       "      <td>14</td>\n",
       "      <td>Closed Lost</td>\n",
       "      <td>422783.847183</td>\n",
       "      <td>0.000000</td>\n",
       "      <td>0.000000</td>\n",
       "      <td>0.000000</td>\n",
       "      <td>0.000000</td>\n",
       "      <td>0.445687</td>\n",
       "      <td>0.448366</td>\n",
       "      <td>0.561500</td>\n",
       "    </tr>\n",
       "    <tr>\n",
       "      <th>4</th>\n",
       "      <td>4</td>\n",
       "      <td>Americas</td>\n",
       "      <td>United States</td>\n",
       "      <td>Account_Type_5</td>\n",
       "      <td>Opportunity_Type_19</td>\n",
       "      <td>Person_Name_8</td>\n",
       "      <td>Account_Name_1201</td>\n",
       "      <td>13357192</td>\n",
       "      <td>Q1</td>\n",
       "      <td>25</td>\n",
       "      <td>Closed Lost</td>\n",
       "      <td>422783.847183</td>\n",
       "      <td>0.000000</td>\n",
       "      <td>0.000000</td>\n",
       "      <td>0.000000</td>\n",
       "      <td>0.000000</td>\n",
       "      <td>0.445687</td>\n",
       "      <td>0.448366</td>\n",
       "      <td>0.561500</td>\n",
       "    </tr>\n",
       "  </tbody>\n",
       "</table>\n",
       "</div>"
      ],
      "text/plain": [
       "   Opportunity_ID    Region Billing_Country    Account_Type  \\\n",
       "0               0      EMEA     Netherlands  Account_Type_2   \n",
       "1               1      EMEA     Netherlands  Account_Type_2   \n",
       "2               2  Americas   United States  Account_Type_5   \n",
       "3               3  Americas   United States  Account_Type_5   \n",
       "4               4  Americas   United States  Account_Type_5   \n",
       "\n",
       "      Opportunity_Type   Account_Owner       Account_Name  Conversión_USD  \\\n",
       "0   Opportunity_Type_1  Person_Name_51   Account_Name_619         6305214   \n",
       "1   Opportunity_Type_1  Person_Name_51   Account_Name_619           57673   \n",
       "2   Opportunity_Type_1  Person_Name_64  Account_Name_1794           83865   \n",
       "3  Opportunity_Type_19   Person_Name_8  Account_Name_1201         7421881   \n",
       "4  Opportunity_Type_19   Person_Name_8  Account_Name_1201        13357192   \n",
       "\n",
       "  Delivery_Quarter  TRF        Stage  promedio_preciov_region  \\\n",
       "0               Q2   10  Closed Lost            246888.239174   \n",
       "1               Q1    0   Closed Won            246888.239174   \n",
       "2               Q1    0   Closed Won            422783.847183   \n",
       "3               Q1   14  Closed Lost            422783.847183   \n",
       "4               Q1   25  Closed Lost            422783.847183   \n",
       "\n",
       "   promedio_preciov_paises  promedio_preciov_Account  \\\n",
       "0                 0.000000                  0.000000   \n",
       "1            177583.146032             125034.170409   \n",
       "2            432143.813675             958150.887348   \n",
       "3                 0.000000                  0.000000   \n",
       "4                 0.000000                  0.000000   \n",
       "\n",
       "   promedio_preciov_Oportunity  promedio_preciov_vendedor  \\\n",
       "0                     0.000000                   0.000000   \n",
       "1                133491.432403               85165.046512   \n",
       "2                133491.432403               75357.668421   \n",
       "3                     0.000000                   0.000000   \n",
       "4                     0.000000                   0.000000   \n",
       "\n",
       "   Wilsonxproporcion_region  Wilsonxproporcion_paises  \\\n",
       "0                  0.514817                  0.513767   \n",
       "1                  0.514817                  0.513767   \n",
       "2                  0.445687                  0.448366   \n",
       "3                  0.445687                  0.448366   \n",
       "4                  0.445687                  0.448366   \n",
       "\n",
       "   Wilsonxproporcion_vendedor  \n",
       "0                    0.325851  \n",
       "1                    0.325851  \n",
       "2                    0.616299  \n",
       "3                    0.561500  \n",
       "4                    0.561500  "
      ]
     },
     "execution_count": 8,
     "metadata": {},
     "output_type": "execute_result"
    }
   ],
   "source": [
    "train.head()"
   ]
  },
  {
   "cell_type": "code",
   "execution_count": 9,
   "metadata": {},
   "outputs": [],
   "source": [
    "###Preprocesamiento"
   ]
  },
  {
   "cell_type": "code",
   "execution_count": 10,
   "metadata": {},
   "outputs": [],
   "source": [
    "train['Stage']= (train['Stage'] == 'Closed Won') +0"
   ]
  },
  {
   "cell_type": "code",
   "execution_count": 11,
   "metadata": {},
   "outputs": [
    {
     "name": "stdout",
     "output_type": "stream",
     "text": [
      "Opportunity_ID                   int64\n",
      "Region                          object\n",
      "Billing_Country                 object\n",
      "Account_Type                    object\n",
      "Opportunity_Type                object\n",
      "Account_Owner                   object\n",
      "Account_Name                    object\n",
      "Conversión_USD                   int64\n",
      "Delivery_Quarter                object\n",
      "TRF                              int64\n",
      "Stage                          float64\n",
      "promedio_preciov_region        float64\n",
      "promedio_preciov_paises        float64\n",
      "promedio_preciov_Account       float64\n",
      "promedio_preciov_Oportunity    float64\n",
      "promedio_preciov_vendedor      float64\n",
      "Wilsonxproporcion_region       float64\n",
      "Wilsonxproporcion_paises       float64\n",
      "Wilsonxproporcion_vendedor     float64\n",
      "dtype: object\n"
     ]
    }
   ],
   "source": [
    "for column in train.columns:\n",
    "    if train[column].dtype == 'int32':\n",
    "        train[column] = train[column].astype('float64')\n",
    "print(train.dtypes)"
   ]
  },
  {
   "cell_type": "code",
   "execution_count": 12,
   "metadata": {},
   "outputs": [],
   "source": [
    "### Target meaning encoding"
   ]
  },
  {
   "cell_type": "code",
   "execution_count": 13,
   "metadata": {},
   "outputs": [],
   "source": [
    "# Import KFold\n",
    "from sklearn.model_selection import KFold"
   ]
  },
  {
   "cell_type": "code",
   "execution_count": 14,
   "metadata": {},
   "outputs": [],
   "source": [
    "def test_mean_target_encoding(train, test, target, categorical, alpha=5):\n",
    "    # Calculate global mean on the train data\n",
    "    global_mean = train[target].mean()\n",
    "    \n",
    "    # Group by the categorical feature and calculate its properties\n",
    "    train_groups = train.groupby(categorical)\n",
    "    category_sum = train_groups[target].sum()\n",
    "    category_size = train_groups.size()\n",
    "    \n",
    "    # Calculate smoothed mean target statistics\n",
    "    train_statistics = (category_sum + global_mean * alpha) / (category_size + alpha)\n",
    "   \n",
    "    # Apply statistics to the test data and fill new categories\n",
    "    test_feature = test[categorical].map(train_statistics).fillna(global_mean)\n",
    "    return test_feature.values"
   ]
  },
  {
   "cell_type": "code",
   "execution_count": 15,
   "metadata": {},
   "outputs": [],
   "source": [
    "def train_mean_target_encoding(train, target, categorical, alpha=5):\n",
    "    # Create 5-fold cross-validation\n",
    "    kf = KFold(n_splits=5, random_state=123, shuffle=True)\n",
    "    train_feature = pd.Series(index=train.index)\n",
    "    \n",
    "    # For each folds split\n",
    "    for train_index, test_index in kf.split(train):\n",
    "        cv_train, cv_test = train.iloc[train_index], train.iloc[test_index]\n",
    "      \n",
    "        # Calculate out-of-fold statistics and apply to cv_test\n",
    "        cv_test_feature = test_mean_target_encoding(cv_train, cv_test, target, categorical, alpha)\n",
    "        \n",
    "        # Save new feature for this particular fold\n",
    "        train_feature.iloc[test_index] = cv_test_feature       \n",
    "    return train_feature.values"
   ]
  },
  {
   "cell_type": "code",
   "execution_count": 16,
   "metadata": {},
   "outputs": [],
   "source": [
    "def mean_target_encoding(train, test, target, categorical, alpha=5):\n",
    "  \n",
    "    # Get the train feature\n",
    "    train_feature = train_mean_target_encoding(train, target, categorical, alpha)\n",
    "  \n",
    "    # Get the test feature\n",
    "    test_feature = test_mean_target_encoding(train, test, target, categorical, alpha)\n",
    "    \n",
    "    # Return new features to add to the model\n",
    "    return train_feature, test_feature"
   ]
  },
  {
   "cell_type": "code",
   "execution_count": 17,
   "metadata": {},
   "outputs": [
    {
     "name": "stderr",
     "output_type": "stream",
     "text": [
      "<ipython-input-15-5785e70fe0cb>:4: DeprecationWarning: The default dtype for empty Series will be 'object' instead of 'float64' in a future version. Specify a dtype explicitly to silence this warning.\n",
      "  train_feature = pd.Series(index=train.index)\n"
     ]
    }
   ],
   "source": [
    "columns = ['Region', 'Billing_Country', 'Account_Type','Opportunity_Type', 'Account_Owner', 'Account_Name','Delivery_Quarter']\n",
    "for column in columns:     \n",
    "    train[column], test[column] = mean_target_encoding(train=train,\n",
    "                                                                test=test,\n",
    "                                                                target='Stage',\n",
    "                                                                categorical=column,\n",
    "                                                                alpha=10)"
   ]
  },
  {
   "cell_type": "code",
   "execution_count": 18,
   "metadata": {},
   "outputs": [],
   "source": [
    "###Seleccion de Features"
   ]
  },
  {
   "cell_type": "code",
   "execution_count": 19,
   "metadata": {},
   "outputs": [
    {
     "data": {
      "text/plain": [
       "Index(['Opportunity_ID', 'Region', 'Billing_Country', 'Account_Type',\n",
       "       'Opportunity_Type', 'Account_Owner', 'Account_Name', 'Conversión_USD',\n",
       "       'Delivery_Quarter', 'TRF', 'Stage', 'promedio_preciov_region',\n",
       "       'promedio_preciov_paises', 'promedio_preciov_Account',\n",
       "       'promedio_preciov_Oportunity', 'promedio_preciov_vendedor',\n",
       "       'Wilsonxproporcion_region', 'Wilsonxproporcion_paises',\n",
       "       'Wilsonxproporcion_vendedor'],\n",
       "      dtype='object')"
      ]
     },
     "execution_count": 19,
     "metadata": {},
     "output_type": "execute_result"
    }
   ],
   "source": [
    "train.columns"
   ]
  },
  {
   "cell_type": "code",
   "execution_count": 20,
   "metadata": {},
   "outputs": [],
   "source": [
    "features = ['Region', 'Billing_Country', 'Account_Type',\n",
    "       'Opportunity_Type', 'Account_Owner', 'Account_Name', 'Conversión_USD',\n",
    "       'Delivery_Quarter', 'TRF', 'Wilsonxproporcion_region', 'Wilsonxproporcion_paises',\n",
    "       'Wilsonxproporcion_vendedor']"
   ]
  },
  {
   "cell_type": "code",
   "execution_count": 21,
   "metadata": {},
   "outputs": [],
   "source": [
    "### Modelos"
   ]
  },
  {
   "cell_type": "code",
   "execution_count": 22,
   "metadata": {},
   "outputs": [],
   "source": [
    "X = train.drop(['Stage'], axis=1)\n",
    "y = train['Stage']"
   ]
  },
  {
   "cell_type": "code",
   "execution_count": 23,
   "metadata": {},
   "outputs": [],
   "source": [
    "###Separando en conjuntos de entrenamiento y de testeo¶"
   ]
  },
  {
   "cell_type": "code",
   "execution_count": 24,
   "metadata": {},
   "outputs": [],
   "source": [
    "from sklearn.model_selection import train_test_split\n",
    "\n",
    "X_train, X_test, y_train, y_test = \\\n",
    "    train_test_split(X, y, test_size=0.2, random_state=123)"
   ]
  },
  {
   "cell_type": "code",
   "execution_count": 25,
   "metadata": {},
   "outputs": [],
   "source": [
    "###Entrenando los modelos"
   ]
  },
  {
   "cell_type": "code",
   "execution_count": null,
   "metadata": {},
   "outputs": [],
   "source": [
    "\n",
    "###LightGBM"
   ]
  },
  {
   "cell_type": "code",
   "execution_count": null,
   "metadata": {},
   "outputs": [],
   "source": [
    "objective: regression, binary, multiclass, etc (regression)\n",
    "num_iterations: iteraciones de boosting (100)\n",
    "learning_rate: tasa de aprendizaje (0.1)\n",
    "num_leaves: cantidad máxima de hojas en un árbol (31)\n",
    "max_depth: profundidad máxima (-1)\n",
    "min_data_in_leaf: cantidad mínima de datos en una hoja (20)\n",
    "feature_fraction: fracción de los features a utilizar en cada árbol (1.0)\n",
    "max_bin: cantidad máxima de bins a utilizar para feature continua (255)\n",
    "categorical_feature: indica cuales son las features categóricas.\n",
    "metric: métrica a evaluar en el set de test."
   ]
  },
  {
   "cell_type": "code",
   "execution_count": 26,
   "metadata": {},
   "outputs": [],
   "source": [
    "import lightgbm as lgb"
   ]
  },
  {
   "cell_type": "code",
   "execution_count": 27,
   "metadata": {},
   "outputs": [],
   "source": [
    "from sklearn.model_selection import GridSearchCV\n",
    "\n",
    "from sklearn.model_selection import cross_val_score"
   ]
  },
  {
   "cell_type": "code",
   "execution_count": 29,
   "metadata": {},
   "outputs": [],
   "source": [
    "lgb_clf = lgb.LGBMClassifier()\n",
    "param_dist = [{\"max_depth\": [5,10,15],\n",
    "              \"learning_rate\" : [0.1,0.15,0.3],\n",
    "              \"num_leaves\": [32,150,200],\n",
    "              \"n_estimators\": [300,400,1000], \n",
    "               'objective' : ['binary']\n",
    "             }]"
   ]
  },
  {
   "cell_type": "code",
   "execution_count": 30,
   "metadata": {},
   "outputs": [],
   "source": [
    "grid_search1 = GridSearchCV(lgb_clf, param_grid=param_dist, cv = 3, scoring=\"neg_log_loss\", return_train_score=True).fit(X_train[features], y_train)\n",
    "                                   "
   ]
  },
  {
   "cell_type": "code",
   "execution_count": 31,
   "metadata": {},
   "outputs": [
    {
     "data": {
      "text/plain": [
       "GridSearchCV(cv=3, estimator=LGBMClassifier(),\n",
       "             param_grid=[{'learning_rate': [0.1, 0.15, 0.3],\n",
       "                          'max_depth': [5, 10, 15],\n",
       "                          'n_estimators': [300, 400, 1000],\n",
       "                          'num_leaves': [32, 150, 200],\n",
       "                          'objective': ['binary']}],\n",
       "             return_train_score=True, scoring='neg_log_loss')"
      ]
     },
     "execution_count": 31,
     "metadata": {},
     "output_type": "execute_result"
    }
   ],
   "source": [
    "grid_search"
   ]
  },
  {
   "cell_type": "code",
   "execution_count": 32,
   "metadata": {},
   "outputs": [],
   "source": [
    "y_pred=grid_search.predict_proba(X_test[features])"
   ]
  },
  {
   "cell_type": "code",
   "execution_count": 33,
   "metadata": {},
   "outputs": [
    {
     "data": {
      "text/plain": [
       "array([[0.13896669, 0.86103331],\n",
       "       [0.98252858, 0.01747142],\n",
       "       [0.96513926, 0.03486074],\n",
       "       ...,\n",
       "       [0.29305633, 0.70694367],\n",
       "       [0.50673727, 0.49326273],\n",
       "       [0.27968992, 0.72031008]])"
      ]
     },
     "execution_count": 33,
     "metadata": {},
     "output_type": "execute_result"
    }
   ],
   "source": [
    "y_pred_opt = y_pred"
   ]
  },
  {
   "cell_type": "code",
   "execution_count": 34,
   "metadata": {},
   "outputs": [
    {
     "data": {
      "text/plain": [
       "array([-0.43037026, -0.43037026, -0.43037026, -0.43527594, -0.43527594,\n",
       "       -0.43527594, -0.4797863 , -0.4797863 , -0.4797863 , -0.44117815,\n",
       "       -0.47549755, -0.47284701, -0.45235544, -0.50628674, -0.50391441,\n",
       "       -0.54040823, -0.74153996, -0.74055279, -0.43662997, -0.53730375,\n",
       "       -0.54346183, -0.44995841, -0.5984138 , -0.60903069, -0.54216804,\n",
       "       -0.9350538 , -0.96142911, -0.43774985, -0.43774985, -0.43774985,\n",
       "       -0.44701076, -0.44701076, -0.44701076, -0.53173033, -0.53173033,\n",
       "       -0.53173033, -0.46096382, -0.53833029, -0.52954607, -0.48174999,\n",
       "       -0.59173856, -0.58507924, -0.61719239, -0.94177167, -0.93386242,\n",
       "       -0.46303715, -0.63852808, -0.65191725, -0.48182874, -0.73510081,\n",
       "       -0.76193121, -0.62400103, -1.08800463, -1.09108125, -0.48802781,\n",
       "       -0.48802781, -0.48802781, -0.51727215, -0.51727215, -0.51727215,\n",
       "       -0.69759361, -0.69759361, -0.69752345, -0.54695684, -0.75638397,\n",
       "       -0.74141803, -0.59491035, -0.87954774, -0.86008584, -0.87302392,\n",
       "       -1.18504881, -1.18329774, -0.54861889, -0.93856435, -0.97391657,\n",
       "       -0.59427436, -1.05844612, -1.06928183, -0.88874393, -1.255602  ,\n",
       "       -1.23499555])"
      ]
     },
     "execution_count": 34,
     "metadata": {},
     "output_type": "execute_result"
    }
   ],
   "source": [
    "grid_search.cv_results_['mean_test_score']"
   ]
  },
  {
   "cell_type": "code",
   "execution_count": 35,
   "metadata": {},
   "outputs": [
    {
     "data": {
      "text/plain": [
       "{'learning_rate': 0.1,\n",
       " 'max_depth': 5,\n",
       " 'n_estimators': 300,\n",
       " 'num_leaves': 32,\n",
       " 'objective': 'binary'}"
      ]
     },
     "execution_count": 35,
     "metadata": {},
     "output_type": "execute_result"
    }
   ],
   "source": [
    "grid_search.best_params_"
   ]
  },
  {
   "cell_type": "code",
   "execution_count": 37,
   "metadata": {},
   "outputs": [],
   "source": [
    "optimised_lgb= grid_search.best_estimator_"
   ]
  },
  {
   "cell_type": "code",
   "execution_count": 38,
   "metadata": {},
   "outputs": [
    {
     "data": {
      "text/plain": [
       "LGBMClassifier(max_depth=5, n_estimators=300, num_leaves=32, objective='binary')"
      ]
     },
     "execution_count": 38,
     "metadata": {},
     "output_type": "execute_result"
    }
   ],
   "source": [
    "optimised_lgb"
   ]
  },
  {
   "cell_type": "code",
   "execution_count": 39,
   "metadata": {},
   "outputs": [],
   "source": [
    "# Import log_loss from sklearn\n",
    "from sklearn.metrics import log_loss"
   ]
  },
  {
   "cell_type": "code",
   "execution_count": 40,
   "metadata": {},
   "outputs": [],
   "source": [
    "y_opt_pred = y_pred"
   ]
  },
  {
   "cell_type": "code",
   "execution_count": 41,
   "metadata": {},
   "outputs": [
    {
     "name": "stdout",
     "output_type": "stream",
     "text": [
      "Sklearn LogLoss: 0.43709\n"
     ]
    }
   ],
   "source": [
    "print('Sklearn LogLoss: {:.5f}'.format(log_loss(y_test, y_opt_pred)))"
   ]
  },
  {
   "cell_type": "code",
   "execution_count": 43,
   "metadata": {},
   "outputs": [],
   "source": [
    "lgb_clf = lgb.LGBMClassifier()\n",
    "param_dist = [{\"max_depth\": [3,5,10,15],\n",
    "              \"learning_rate\" : [0.1,0.15,0.3],\n",
    "              \"num_leaves\": [10,20,32,150,200],\n",
    "              \"n_estimators\": [50,100,300,400,1000], \n",
    "               'objective' : ['binary']\n",
    "             }]"
   ]
  },
  {
   "cell_type": "code",
   "execution_count": 44,
   "metadata": {},
   "outputs": [],
   "source": [
    "grid_search = GridSearchCV(lgb_clf, param_grid=param_dist, cv = 3, scoring=\"neg_log_loss\", return_train_score=True).fit(X_train[features], y_train)"
   ]
  },
  {
   "cell_type": "code",
   "execution_count": 45,
   "metadata": {},
   "outputs": [],
   "source": [
    "optimised_lgb= grid_search.best_estimator_"
   ]
  },
  {
   "cell_type": "code",
   "execution_count": 46,
   "metadata": {},
   "outputs": [
    {
     "data": {
      "text/plain": [
       "LGBMClassifier(max_depth=15, n_estimators=50, num_leaves=150,\n",
       "               objective='binary')"
      ]
     },
     "execution_count": 46,
     "metadata": {},
     "output_type": "execute_result"
    }
   ],
   "source": [
    "optimised_lgb"
   ]
  },
  {
   "cell_type": "code",
   "execution_count": 47,
   "metadata": {},
   "outputs": [],
   "source": [
    "y__opt_pred=optimised_lgb.predict_proba(X_test[features])\n",
    "\n",
    "print('Sklearn LogLoss: {:.5f}'.format(log_loss(y_test, y_opt_pred)))"
   ]
  },
  {
   "cell_type": "code",
   "execution_count": null,
   "metadata": {},
   "outputs": [],
   "source": [
    "Your submission scored 0.53635, which is not an improvement of your best score. Keep trying!"
   ]
  },
  {
   "cell_type": "code",
   "execution_count": 49,
   "metadata": {},
   "outputs": [],
   "source": [
    "preds_test= optimised_lgb.predict_proba(test[features])"
   ]
  },
  {
   "cell_type": "code",
   "execution_count": 50,
   "metadata": {},
   "outputs": [],
   "source": [
    "preds_test=preds_test[:, 1]"
   ]
  },
  {
   "cell_type": "code",
   "execution_count": 65,
   "metadata": {},
   "outputs": [],
   "source": [
    "test['Target']=preds_test"
   ]
  },
  {
   "cell_type": "code",
   "execution_count": 66,
   "metadata": {},
   "outputs": [
    {
     "data": {
      "text/plain": [
       "(2551,)"
      ]
     },
     "execution_count": 66,
     "metadata": {},
     "output_type": "execute_result"
    }
   ],
   "source": [
    "test['Target'].shape"
   ]
  },
  {
   "cell_type": "code",
   "execution_count": 67,
   "metadata": {},
   "outputs": [],
   "source": [
    "sub= test[['Opportunity_ID','Target']]"
   ]
  },
  {
   "cell_type": "code",
   "execution_count": 68,
   "metadata": {},
   "outputs": [],
   "source": [
    "sub1=sub.groupby(['Opportunity_ID'], as_index=False).mean()"
   ]
  },
  {
   "cell_type": "code",
   "execution_count": 69,
   "metadata": {},
   "outputs": [],
   "source": [
    "sub1[['Opportunity_ID', 'Target']].to_csv('submission10.csv', index=False)"
   ]
  },
  {
   "cell_type": "code",
   "execution_count": null,
   "metadata": {},
   "outputs": [],
   "source": [
    "Your submission scored 0.53635, which is not an improvement of your best score. Keep trying!"
   ]
  },
  {
   "cell_type": "code",
   "execution_count": 70,
   "metadata": {},
   "outputs": [],
   "source": [
    "test = test.drop(['Target'], axis=1)"
   ]
  },
  {
   "cell_type": "code",
   "execution_count": null,
   "metadata": {},
   "outputs": [],
   "source": []
  },
  {
   "cell_type": "code",
   "execution_count": null,
   "metadata": {},
   "outputs": [],
   "source": []
  },
  {
   "cell_type": "code",
   "execution_count": null,
   "metadata": {},
   "outputs": [],
   "source": []
  },
  {
   "cell_type": "code",
   "execution_count": null,
   "metadata": {},
   "outputs": [],
   "source": []
  },
  {
   "cell_type": "code",
   "execution_count": null,
   "metadata": {},
   "outputs": [],
   "source": []
  }
 ],
 "metadata": {
  "kernelspec": {
   "display_name": "Python 3",
   "language": "python",
   "name": "python3"
  },
  "language_info": {
   "codemirror_mode": {
    "name": "ipython",
    "version": 3
   },
   "file_extension": ".py",
   "mimetype": "text/x-python",
   "name": "python",
   "nbconvert_exporter": "python",
   "pygments_lexer": "ipython3",
   "version": "3.8.5"
  }
 },
 "nbformat": 4,
 "nbformat_minor": 4
}
