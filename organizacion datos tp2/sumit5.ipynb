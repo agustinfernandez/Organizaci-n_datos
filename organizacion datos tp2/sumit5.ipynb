{
 "cells": [
  {
   "cell_type": "code",
   "execution_count": null,
   "metadata": {},
   "outputs": [],
   "source": [
    "submit5 xgboost con mismos features que RF sin ht Sklearn LogLoss: 8.09987\n",
    "0.60068\n",
    "\n"
   ]
  },
  {
   "cell_type": "code",
   "execution_count": 112,
   "metadata": {},
   "outputs": [],
   "source": [
    "import xgboost as xgb\n",
    "from sklearn.ensemble import RandomForestClassifier\n",
    "from sklearn.metrics import mean_squared_error\n",
    "import pandas as pd\n",
    "import numpy as np\n",
    "%matplotlib inline\n",
    "import matplotlib.pyplot as plt\n",
    "from sklearn import tree"
   ]
  },
  {
   "cell_type": "code",
   "execution_count": 2,
   "metadata": {},
   "outputs": [],
   "source": [
    "path_dataset = 'Train_TP2_Datos_2020-2C.csv'\n",
    "train = pd.read_csv(path_dataset)"
   ]
  },
  {
   "cell_type": "code",
   "execution_count": 3,
   "metadata": {},
   "outputs": [],
   "source": [
    "path_dataset = 'Test_TP2_Datos_2020-2C.csv'\n",
    "test= pd.read_csv(path_dataset)"
   ]
  },
  {
   "cell_type": "code",
   "execution_count": 4,
   "metadata": {},
   "outputs": [],
   "source": [
    "train['Stage']= (train['Stage'] == 'Closed Won') +0"
   ]
  },
  {
   "cell_type": "code",
   "execution_count": 5,
   "metadata": {},
   "outputs": [
    {
     "data": {
      "text/html": [
       "<div>\n",
       "<style scoped>\n",
       "    .dataframe tbody tr th:only-of-type {\n",
       "        vertical-align: middle;\n",
       "    }\n",
       "\n",
       "    .dataframe tbody tr th {\n",
       "        vertical-align: top;\n",
       "    }\n",
       "\n",
       "    .dataframe thead th {\n",
       "        text-align: right;\n",
       "    }\n",
       "</style>\n",
       "<table border=\"1\" class=\"dataframe\">\n",
       "  <thead>\n",
       "    <tr style=\"text-align: right;\">\n",
       "      <th></th>\n",
       "      <th>ID</th>\n",
       "      <th>Region</th>\n",
       "      <th>Territory</th>\n",
       "      <th>Pricing, Delivery_Terms_Quote_Appr</th>\n",
       "      <th>Pricing, Delivery_Terms_Approved</th>\n",
       "      <th>Bureaucratic_Code_0_Approval</th>\n",
       "      <th>Bureaucratic_Code_0_Approved</th>\n",
       "      <th>Submitted_for_Approval</th>\n",
       "      <th>Bureaucratic_Code</th>\n",
       "      <th>Account_Created_Date</th>\n",
       "      <th>...</th>\n",
       "      <th>Delivery_Quarter</th>\n",
       "      <th>Delivery_Year</th>\n",
       "      <th>Actual_Delivery_Date</th>\n",
       "      <th>TRF</th>\n",
       "      <th>Total_Amount_Currency</th>\n",
       "      <th>Total_Amount</th>\n",
       "      <th>Total_Taxable_Amount_Currency</th>\n",
       "      <th>Total_Taxable_Amount</th>\n",
       "      <th>Stage</th>\n",
       "      <th>Prod_Category_A</th>\n",
       "    </tr>\n",
       "  </thead>\n",
       "  <tbody>\n",
       "    <tr>\n",
       "      <th>0</th>\n",
       "      <td>27761</td>\n",
       "      <td>EMEA</td>\n",
       "      <td>None</td>\n",
       "      <td>1</td>\n",
       "      <td>1</td>\n",
       "      <td>1</td>\n",
       "      <td>1</td>\n",
       "      <td>0</td>\n",
       "      <td>Bureaucratic_Code_4</td>\n",
       "      <td>6/16/2015</td>\n",
       "      <td>...</td>\n",
       "      <td>Q2</td>\n",
       "      <td>2016</td>\n",
       "      <td>NaT</td>\n",
       "      <td>10</td>\n",
       "      <td>EUR</td>\n",
       "      <td>5272800.0</td>\n",
       "      <td>EUR</td>\n",
       "      <td>5272800.0</td>\n",
       "      <td>0</td>\n",
       "      <td>Prod_Category_A_None</td>\n",
       "    </tr>\n",
       "    <tr>\n",
       "      <th>1</th>\n",
       "      <td>27760</td>\n",
       "      <td>EMEA</td>\n",
       "      <td>None</td>\n",
       "      <td>0</td>\n",
       "      <td>0</td>\n",
       "      <td>0</td>\n",
       "      <td>0</td>\n",
       "      <td>0</td>\n",
       "      <td>Bureaucratic_Code_4</td>\n",
       "      <td>6/16/2015</td>\n",
       "      <td>...</td>\n",
       "      <td>Q1</td>\n",
       "      <td>2016</td>\n",
       "      <td>NaT</td>\n",
       "      <td>0</td>\n",
       "      <td>EUR</td>\n",
       "      <td>48230.0</td>\n",
       "      <td>EUR</td>\n",
       "      <td>48230.0</td>\n",
       "      <td>1</td>\n",
       "      <td>Prod_Category_A_None</td>\n",
       "    </tr>\n",
       "    <tr>\n",
       "      <th>2</th>\n",
       "      <td>27446</td>\n",
       "      <td>Americas</td>\n",
       "      <td>NW America</td>\n",
       "      <td>0</td>\n",
       "      <td>0</td>\n",
       "      <td>0</td>\n",
       "      <td>0</td>\n",
       "      <td>0</td>\n",
       "      <td>Bureaucratic_Code_4</td>\n",
       "      <td>4/21/2015</td>\n",
       "      <td>...</td>\n",
       "      <td>Q1</td>\n",
       "      <td>2016</td>\n",
       "      <td>NaT</td>\n",
       "      <td>0</td>\n",
       "      <td>USD</td>\n",
       "      <td>83865.6</td>\n",
       "      <td>USD</td>\n",
       "      <td>83865.6</td>\n",
       "      <td>1</td>\n",
       "      <td>Prod_Category_A_None</td>\n",
       "    </tr>\n",
       "    <tr>\n",
       "      <th>3</th>\n",
       "      <td>16808</td>\n",
       "      <td>Americas</td>\n",
       "      <td>NW America</td>\n",
       "      <td>1</td>\n",
       "      <td>0</td>\n",
       "      <td>1</td>\n",
       "      <td>0</td>\n",
       "      <td>0</td>\n",
       "      <td>Bureaucratic_Code_5</td>\n",
       "      <td>7/27/2013</td>\n",
       "      <td>...</td>\n",
       "      <td>Q1</td>\n",
       "      <td>2018</td>\n",
       "      <td>NaT</td>\n",
       "      <td>14</td>\n",
       "      <td>USD</td>\n",
       "      <td>7421881.5</td>\n",
       "      <td>USD</td>\n",
       "      <td>7421881.5</td>\n",
       "      <td>0</td>\n",
       "      <td>Prod_Category_A_None</td>\n",
       "    </tr>\n",
       "    <tr>\n",
       "      <th>4</th>\n",
       "      <td>16805</td>\n",
       "      <td>Americas</td>\n",
       "      <td>NW America</td>\n",
       "      <td>1</td>\n",
       "      <td>0</td>\n",
       "      <td>1</td>\n",
       "      <td>0</td>\n",
       "      <td>0</td>\n",
       "      <td>Bureaucratic_Code_5</td>\n",
       "      <td>7/27/2013</td>\n",
       "      <td>...</td>\n",
       "      <td>Q1</td>\n",
       "      <td>2018</td>\n",
       "      <td>NaT</td>\n",
       "      <td>25</td>\n",
       "      <td>USD</td>\n",
       "      <td>13357192.5</td>\n",
       "      <td>USD</td>\n",
       "      <td>13357192.5</td>\n",
       "      <td>0</td>\n",
       "      <td>Prod_Category_A_None</td>\n",
       "    </tr>\n",
       "  </tbody>\n",
       "</table>\n",
       "<p>5 rows × 52 columns</p>\n",
       "</div>"
      ],
      "text/plain": [
       "      ID    Region   Territory  Pricing, Delivery_Terms_Quote_Appr  \\\n",
       "0  27761      EMEA        None                                   1   \n",
       "1  27760      EMEA        None                                   0   \n",
       "2  27446  Americas  NW America                                   0   \n",
       "3  16808  Americas  NW America                                   1   \n",
       "4  16805  Americas  NW America                                   1   \n",
       "\n",
       "   Pricing, Delivery_Terms_Approved  Bureaucratic_Code_0_Approval  \\\n",
       "0                                 1                             1   \n",
       "1                                 0                             0   \n",
       "2                                 0                             0   \n",
       "3                                 0                             1   \n",
       "4                                 0                             1   \n",
       "\n",
       "   Bureaucratic_Code_0_Approved  Submitted_for_Approval    Bureaucratic_Code  \\\n",
       "0                             1                       0  Bureaucratic_Code_4   \n",
       "1                             0                       0  Bureaucratic_Code_4   \n",
       "2                             0                       0  Bureaucratic_Code_4   \n",
       "3                             0                       0  Bureaucratic_Code_5   \n",
       "4                             0                       0  Bureaucratic_Code_5   \n",
       "\n",
       "  Account_Created_Date  ... Delivery_Quarter Delivery_Year  \\\n",
       "0            6/16/2015  ...               Q2          2016   \n",
       "1            6/16/2015  ...               Q1          2016   \n",
       "2            4/21/2015  ...               Q1          2016   \n",
       "3            7/27/2013  ...               Q1          2018   \n",
       "4            7/27/2013  ...               Q1          2018   \n",
       "\n",
       "  Actual_Delivery_Date TRF  Total_Amount_Currency Total_Amount  \\\n",
       "0                  NaT  10                    EUR    5272800.0   \n",
       "1                  NaT   0                    EUR      48230.0   \n",
       "2                  NaT   0                    USD      83865.6   \n",
       "3                  NaT  14                    USD    7421881.5   \n",
       "4                  NaT  25                    USD   13357192.5   \n",
       "\n",
       "  Total_Taxable_Amount_Currency Total_Taxable_Amount Stage  \\\n",
       "0                           EUR            5272800.0     0   \n",
       "1                           EUR              48230.0     1   \n",
       "2                           USD              83865.6     1   \n",
       "3                           USD            7421881.5     0   \n",
       "4                           USD           13357192.5     0   \n",
       "\n",
       "        Prod_Category_A  \n",
       "0  Prod_Category_A_None  \n",
       "1  Prod_Category_A_None  \n",
       "2  Prod_Category_A_None  \n",
       "3  Prod_Category_A_None  \n",
       "4  Prod_Category_A_None  \n",
       "\n",
       "[5 rows x 52 columns]"
      ]
     },
     "execution_count": 5,
     "metadata": {},
     "output_type": "execute_result"
    }
   ],
   "source": [
    "train.head()"
   ]
  },
  {
   "cell_type": "code",
   "execution_count": 6,
   "metadata": {},
   "outputs": [],
   "source": [
    "# Import KFold\n",
    "from sklearn.model_selection import KFold"
   ]
  },
  {
   "cell_type": "code",
   "execution_count": 7,
   "metadata": {},
   "outputs": [],
   "source": [
    "def test_mean_target_en(train, test, target, categorical, alpha=5):\n",
    "    # Calculate global mean on the train data\n",
    "    global_mean = train[target].mean()\n",
    "    \n",
    "    # Group by the categorical feature and calculate its properties\n",
    "    train_groups = train.groupby(categorical)\n",
    "    category_sum = train_groups[target].sum()\n",
    "    category_size = train_groups.size()\n",
    "    \n",
    "    # Calculate smoothed mean target statistics\n",
    "    train_statistics = (category_sum + global_mean * alpha) / (category_size + alpha)\n",
    "   \n",
    "    # Apply statistics to the test data and fill new categories\n",
    "    test_feature = test[categorical].map(train_statistics).fillna(global_mean)\n",
    "    return test_feature.values"
   ]
  },
  {
   "cell_type": "code",
   "execution_count": 8,
   "metadata": {},
   "outputs": [],
   "source": [
    "def train_mean_target_encoding(train, target, categorical, alpha=5):\n",
    "    # Create 5-fold cross-validation\n",
    "    kf = KFold(n_splits=5, random_state=123, shuffle=True)\n",
    "    train_feature = pd.Series(index=train.index)\n",
    "    \n",
    "    # For each folds split\n",
    "    for train_index, test_index in kf.split(train):\n",
    "        cv_train, cv_test = train.iloc[train_index], train.iloc[test_index]\n",
    "      \n",
    "        # Calculate out-of-fold statistics and apply to cv_test\n",
    "        cv_test_feature = test_mean_target_encoding(cv_train, cv_test, target, categorical, alpha)\n",
    "        \n",
    "        # Save new feature for this particular fold\n",
    "        train_feature.iloc[test_index] = cv_test_feature       \n",
    "    return train_feature.values"
   ]
  },
  {
   "cell_type": "code",
   "execution_count": 9,
   "metadata": {},
   "outputs": [],
   "source": [
    "def mean_target_encoding(train, test, target, categorical, alpha=5):\n",
    "  \n",
    "    # Get the train feature\n",
    "    train_feature = train_mean_target_encoding(train, target, categorical, alpha)\n",
    "  \n",
    "    # Get the test feature\n",
    "    test_feature = test_mean_target_encoding(train, test, target, categorical, alpha)\n",
    "    \n",
    "    # Return new features to add to the model\n",
    "    return train_feature, test_feature"
   ]
  },
  {
   "cell_type": "code",
   "execution_count": 10,
   "metadata": {},
   "outputs": [
    {
     "name": "stderr",
     "output_type": "stream",
     "text": [
      "<ipython-input-8-5785e70fe0cb>:4: DeprecationWarning: The default dtype for empty Series will be 'object' instead of 'float64' in a future version. Specify a dtype explicitly to silence this warning.\n",
      "  train_feature = pd.Series(index=train.index)\n"
     ]
    }
   ],
   "source": [
    "# Create mean target encoded feature\n",
    "train['Region_enc'], test['Region_enc'] = mean_target_encoding(train=train,\n",
    "                                                                     test=test,\n",
    "                                                                     target='Stage',\n",
    "                                                                     categorical='Region',\n",
    "                                                                     alpha=10)"
   ]
  },
  {
   "cell_type": "code",
   "execution_count": 11,
   "metadata": {},
   "outputs": [
    {
     "name": "stdout",
     "output_type": "stream",
     "text": [
      "         Region  Region_enc\n",
      "0          EMEA    0.529873\n",
      "8      Americas    0.454772\n",
      "17         APAC    0.581181\n",
      "46        Japan    0.679034\n",
      "65  Middle East    0.286728\n"
     ]
    }
   ],
   "source": [
    "# Look at the encoding\n",
    "print(test[['Region', 'Region_enc']].drop_duplicates())"
   ]
  },
  {
   "cell_type": "code",
   "execution_count": 12,
   "metadata": {},
   "outputs": [
    {
     "name": "stderr",
     "output_type": "stream",
     "text": [
      "<ipython-input-8-5785e70fe0cb>:4: DeprecationWarning: The default dtype for empty Series will be 'object' instead of 'float64' in a future version. Specify a dtype explicitly to silence this warning.\n",
      "  train_feature = pd.Series(index=train.index)\n"
     ]
    }
   ],
   "source": [
    "# Create mean target encoded feature\n",
    "train['Territory_enc'], test['Territory_enc'] = mean_target_encoding(train=train,\n",
    "                                                                     test=test,\n",
    "                                                                     target='Stage',\n",
    "                                                                     categorical='Territory',\n",
    "                                                                     alpha=10)"
   ]
  },
  {
   "cell_type": "code",
   "execution_count": 13,
   "metadata": {},
   "outputs": [
    {
     "name": "stdout",
     "output_type": "stream",
     "text": [
      "           Territory  Territory_enc\n",
      "0            Germany       0.607935\n",
      "8         NE America       0.343669\n",
      "9         NW America       0.620168\n",
      "17         Australia       0.576047\n",
      "46             Japan       0.798300\n",
      "47          Thailand       0.533471\n",
      "53         Singapore       0.804047\n",
      "54             India       0.463523\n",
      "59            Poland       0.380360\n",
      "63            France       0.323802\n",
      "65               KSA       0.505443\n",
      "68              None       0.606833\n",
      "85       Netherlands       0.483656\n",
      "88        Central US       0.415247\n",
      "89        SW America       0.239005\n",
      "94        SE America       0.382953\n",
      "109            Spain       0.671314\n",
      "115          Denmark       0.513025\n",
      "142      Philippines       0.400212\n",
      "152            Malta       0.664074\n",
      "159   United Kingdom       0.395124\n",
      "236        Indonesia       0.369666\n",
      "244          Belgium       0.652967\n",
      "254         Cambodia       0.544656\n",
      "271          Andorra       0.562518\n",
      "289     Saudi Arabia       0.414074\n",
      "310          Austria       0.836292\n",
      "316            Italy       0.527731\n",
      "360           Norway       0.454173\n",
      "388         Portugal       0.521384\n",
      "427           Cyprus       0.696763\n",
      "457          Finland       0.562518\n",
      "514         Mongolia       0.562518\n",
      "524           Jordan       0.344868\n",
      "638      Switzerland       0.375006\n",
      "698           Taiwan       0.340121\n",
      "749    South America       0.296062\n",
      "903           Greece       0.401325\n",
      "1017          Sweden       0.437508\n",
      "1079         Hungary       0.411189\n",
      "1274        Malaysia       0.375012\n",
      "1295      Luxembourg       0.832815\n",
      "1740       Carribean       0.454273\n",
      "1941     New Zealand       0.763025\n",
      "1943          Canada       0.340776\n",
      "2005     China (PRC)       0.910637\n",
      "2178        Bulgaria       0.441679\n"
     ]
    }
   ],
   "source": [
    "# Look at the encoding\n",
    "print(test[['Territory', 'Territory_enc']].drop_duplicates())"
   ]
  },
  {
   "cell_type": "code",
   "execution_count": 14,
   "metadata": {},
   "outputs": [],
   "source": [
    "###encoding 'Billing_Country'"
   ]
  },
  {
   "cell_type": "code",
   "execution_count": 15,
   "metadata": {},
   "outputs": [
    {
     "name": "stderr",
     "output_type": "stream",
     "text": [
      "<ipython-input-8-5785e70fe0cb>:4: DeprecationWarning: The default dtype for empty Series will be 'object' instead of 'float64' in a future version. Specify a dtype explicitly to silence this warning.\n",
      "  train_feature = pd.Series(index=train.index)\n"
     ]
    }
   ],
   "source": [
    "# Create mean target encoded feature\n",
    "train['Billing_Country_enc'], test['Billing_Country_enc'] = mean_target_encoding(train=train,\n",
    "                                                                     test=test,\n",
    "                                                                     target='Stage',\n",
    "                                                                     categorical='Billing_Country',\n",
    "                                                                     alpha=10)"
   ]
  },
  {
   "cell_type": "code",
   "execution_count": 16,
   "metadata": {},
   "outputs": [
    {
     "name": "stderr",
     "output_type": "stream",
     "text": [
      "<ipython-input-8-5785e70fe0cb>:4: DeprecationWarning: The default dtype for empty Series will be 'object' instead of 'float64' in a future version. Specify a dtype explicitly to silence this warning.\n",
      "  train_feature = pd.Series(index=train.index)\n"
     ]
    }
   ],
   "source": [
    "# Create mean target encoded feature\n",
    "train['Account_Type_enc'], test['Account_Type_enc'] = mean_target_encoding(train=train,\n",
    "                                                                     test=test,\n",
    "                                                                     target='Stage',\n",
    "                                                                     categorical='Account_Type',\n",
    "                                                                     alpha=10)"
   ]
  },
  {
   "cell_type": "code",
   "execution_count": null,
   "metadata": {},
   "outputs": [],
   "source": []
  },
  {
   "cell_type": "code",
   "execution_count": 17,
   "metadata": {},
   "outputs": [
    {
     "ename": "NameError",
     "evalue": "name 'Opportunity_Type' is not defined",
     "output_type": "error",
     "traceback": [
      "\u001b[1;31m---------------------------------------------------------------------------\u001b[0m",
      "\u001b[1;31mNameError\u001b[0m                                 Traceback (most recent call last)",
      "\u001b[1;32m<ipython-input-17-d06171675918>\u001b[0m in \u001b[0;36m<module>\u001b[1;34m\u001b[0m\n\u001b[1;32m----> 1\u001b[1;33m \u001b[0mOpportunity_Type\u001b[0m\u001b[1;33m\u001b[0m\u001b[1;33m\u001b[0m\u001b[0m\n\u001b[0m",
      "\u001b[1;31mNameError\u001b[0m: name 'Opportunity_Type' is not defined"
     ]
    }
   ],
   "source": [
    "Opportunity_Type"
   ]
  },
  {
   "cell_type": "code",
   "execution_count": 18,
   "metadata": {},
   "outputs": [
    {
     "name": "stderr",
     "output_type": "stream",
     "text": [
      "<ipython-input-8-5785e70fe0cb>:4: DeprecationWarning: The default dtype for empty Series will be 'object' instead of 'float64' in a future version. Specify a dtype explicitly to silence this warning.\n",
      "  train_feature = pd.Series(index=train.index)\n"
     ]
    }
   ],
   "source": [
    "train['Opportunity_Type_enc'], test['Opportunity_Type_enc'] = mean_target_encoding(train=train,\n",
    "                                                                     test=test,\n",
    "                                                                     target='Stage',\n",
    "                                                                     categorical='Opportunity_Type',\n",
    "                                                                     alpha=10)"
   ]
  },
  {
   "cell_type": "code",
   "execution_count": 19,
   "metadata": {},
   "outputs": [
    {
     "ename": "NameError",
     "evalue": "name 'Account_Owner' is not defined",
     "output_type": "error",
     "traceback": [
      "\u001b[1;31m---------------------------------------------------------------------------\u001b[0m",
      "\u001b[1;31mNameError\u001b[0m                                 Traceback (most recent call last)",
      "\u001b[1;32m<ipython-input-19-01fe9bb47a8d>\u001b[0m in \u001b[0;36m<module>\u001b[1;34m\u001b[0m\n\u001b[1;32m----> 1\u001b[1;33m \u001b[0mAccount_Owner\u001b[0m\u001b[1;33m\u001b[0m\u001b[1;33m\u001b[0m\u001b[0m\n\u001b[0m",
      "\u001b[1;31mNameError\u001b[0m: name 'Account_Owner' is not defined"
     ]
    }
   ],
   "source": [
    "Account_Owner"
   ]
  },
  {
   "cell_type": "code",
   "execution_count": 20,
   "metadata": {},
   "outputs": [
    {
     "name": "stderr",
     "output_type": "stream",
     "text": [
      "<ipython-input-8-5785e70fe0cb>:4: DeprecationWarning: The default dtype for empty Series will be 'object' instead of 'float64' in a future version. Specify a dtype explicitly to silence this warning.\n",
      "  train_feature = pd.Series(index=train.index)\n"
     ]
    }
   ],
   "source": [
    "train['Account_Owner_enc'], test['Account_Owner_enc'] = mean_target_encoding(train=train,\n",
    "                                                                     test=test,\n",
    "                                                                     target='Stage',\n",
    "                                                                     categorical='Account_Owner',\n",
    "                                                                     alpha=10)"
   ]
  },
  {
   "cell_type": "code",
   "execution_count": 21,
   "metadata": {},
   "outputs": [
    {
     "ename": "NameError",
     "evalue": "name 'Account_Name' is not defined",
     "output_type": "error",
     "traceback": [
      "\u001b[1;31m---------------------------------------------------------------------------\u001b[0m",
      "\u001b[1;31mNameError\u001b[0m                                 Traceback (most recent call last)",
      "\u001b[1;32m<ipython-input-21-32af70c1377b>\u001b[0m in \u001b[0;36m<module>\u001b[1;34m\u001b[0m\n\u001b[1;32m----> 1\u001b[1;33m \u001b[0mAccount_Name\u001b[0m\u001b[1;33m\u001b[0m\u001b[1;33m\u001b[0m\u001b[0m\n\u001b[0m",
      "\u001b[1;31mNameError\u001b[0m: name 'Account_Name' is not defined"
     ]
    }
   ],
   "source": [
    "Account_Name"
   ]
  },
  {
   "cell_type": "code",
   "execution_count": 22,
   "metadata": {},
   "outputs": [
    {
     "name": "stderr",
     "output_type": "stream",
     "text": [
      "<ipython-input-8-5785e70fe0cb>:4: DeprecationWarning: The default dtype for empty Series will be 'object' instead of 'float64' in a future version. Specify a dtype explicitly to silence this warning.\n",
      "  train_feature = pd.Series(index=train.index)\n"
     ]
    }
   ],
   "source": [
    "train['Account_Name_enc'], test['Account_Name_enc'] = mean_target_encoding(train=train,\n",
    "                                                                     test=test,\n",
    "                                                                     target='Stage',\n",
    "                                                                     categorical='Account_Name',\n",
    "                                                                     alpha=10)"
   ]
  },
  {
   "cell_type": "code",
   "execution_count": 23,
   "metadata": {},
   "outputs": [
    {
     "data": {
      "text/html": [
       "<div>\n",
       "<style scoped>\n",
       "    .dataframe tbody tr th:only-of-type {\n",
       "        vertical-align: middle;\n",
       "    }\n",
       "\n",
       "    .dataframe tbody tr th {\n",
       "        vertical-align: top;\n",
       "    }\n",
       "\n",
       "    .dataframe thead th {\n",
       "        text-align: right;\n",
       "    }\n",
       "</style>\n",
       "<table border=\"1\" class=\"dataframe\">\n",
       "  <thead>\n",
       "    <tr style=\"text-align: right;\">\n",
       "      <th></th>\n",
       "      <th>ID</th>\n",
       "      <th>Region</th>\n",
       "      <th>Territory</th>\n",
       "      <th>Pricing, Delivery_Terms_Quote_Appr</th>\n",
       "      <th>Pricing, Delivery_Terms_Approved</th>\n",
       "      <th>Bureaucratic_Code_0_Approval</th>\n",
       "      <th>Bureaucratic_Code_0_Approved</th>\n",
       "      <th>Submitted_for_Approval</th>\n",
       "      <th>Bureaucratic_Code</th>\n",
       "      <th>Account_Created_Date</th>\n",
       "      <th>...</th>\n",
       "      <th>Total_Taxable_Amount</th>\n",
       "      <th>Stage</th>\n",
       "      <th>Prod_Category_A</th>\n",
       "      <th>Region_enc</th>\n",
       "      <th>Territory_enc</th>\n",
       "      <th>Billing_Country_enc</th>\n",
       "      <th>Account_Type_enc</th>\n",
       "      <th>Opportunity_Type_enc</th>\n",
       "      <th>Account_Owner_enc</th>\n",
       "      <th>Account_Name_enc</th>\n",
       "    </tr>\n",
       "  </thead>\n",
       "  <tbody>\n",
       "    <tr>\n",
       "      <th>0</th>\n",
       "      <td>27761</td>\n",
       "      <td>EMEA</td>\n",
       "      <td>None</td>\n",
       "      <td>1</td>\n",
       "      <td>1</td>\n",
       "      <td>1</td>\n",
       "      <td>1</td>\n",
       "      <td>0</td>\n",
       "      <td>Bureaucratic_Code_4</td>\n",
       "      <td>6/16/2015</td>\n",
       "      <td>...</td>\n",
       "      <td>5272800.0</td>\n",
       "      <td>0</td>\n",
       "      <td>Prod_Category_A_None</td>\n",
       "      <td>0.528996</td>\n",
       "      <td>0.604688</td>\n",
       "      <td>0.566906</td>\n",
       "      <td>0.536191</td>\n",
       "      <td>0.527702</td>\n",
       "      <td>0.402094</td>\n",
       "      <td>0.643524</td>\n",
       "    </tr>\n",
       "    <tr>\n",
       "      <th>1</th>\n",
       "      <td>27760</td>\n",
       "      <td>EMEA</td>\n",
       "      <td>None</td>\n",
       "      <td>0</td>\n",
       "      <td>0</td>\n",
       "      <td>0</td>\n",
       "      <td>0</td>\n",
       "      <td>0</td>\n",
       "      <td>Bureaucratic_Code_4</td>\n",
       "      <td>6/16/2015</td>\n",
       "      <td>...</td>\n",
       "      <td>48230.0</td>\n",
       "      <td>1</td>\n",
       "      <td>Prod_Category_A_None</td>\n",
       "      <td>0.532181</td>\n",
       "      <td>0.609810</td>\n",
       "      <td>0.551745</td>\n",
       "      <td>0.540773</td>\n",
       "      <td>0.530896</td>\n",
       "      <td>0.387281</td>\n",
       "      <td>0.634526</td>\n",
       "    </tr>\n",
       "    <tr>\n",
       "      <th>2</th>\n",
       "      <td>27446</td>\n",
       "      <td>Americas</td>\n",
       "      <td>NW America</td>\n",
       "      <td>0</td>\n",
       "      <td>0</td>\n",
       "      <td>0</td>\n",
       "      <td>0</td>\n",
       "      <td>0</td>\n",
       "      <td>Bureaucratic_Code_4</td>\n",
       "      <td>4/21/2015</td>\n",
       "      <td>...</td>\n",
       "      <td>83865.6</td>\n",
       "      <td>1</td>\n",
       "      <td>Prod_Category_A_None</td>\n",
       "      <td>0.453823</td>\n",
       "      <td>0.617116</td>\n",
       "      <td>0.461336</td>\n",
       "      <td>0.300891</td>\n",
       "      <td>0.527702</td>\n",
       "      <td>0.663810</td>\n",
       "      <td>0.800132</td>\n",
       "    </tr>\n",
       "    <tr>\n",
       "      <th>3</th>\n",
       "      <td>16808</td>\n",
       "      <td>Americas</td>\n",
       "      <td>NW America</td>\n",
       "      <td>1</td>\n",
       "      <td>0</td>\n",
       "      <td>1</td>\n",
       "      <td>0</td>\n",
       "      <td>0</td>\n",
       "      <td>Bureaucratic_Code_5</td>\n",
       "      <td>7/27/2013</td>\n",
       "      <td>...</td>\n",
       "      <td>7421881.5</td>\n",
       "      <td>0</td>\n",
       "      <td>Prod_Category_A_None</td>\n",
       "      <td>0.455792</td>\n",
       "      <td>0.629018</td>\n",
       "      <td>0.462437</td>\n",
       "      <td>0.297194</td>\n",
       "      <td>0.212627</td>\n",
       "      <td>0.602113</td>\n",
       "      <td>0.399635</td>\n",
       "    </tr>\n",
       "    <tr>\n",
       "      <th>4</th>\n",
       "      <td>16805</td>\n",
       "      <td>Americas</td>\n",
       "      <td>NW America</td>\n",
       "      <td>1</td>\n",
       "      <td>0</td>\n",
       "      <td>1</td>\n",
       "      <td>0</td>\n",
       "      <td>0</td>\n",
       "      <td>Bureaucratic_Code_5</td>\n",
       "      <td>7/27/2013</td>\n",
       "      <td>...</td>\n",
       "      <td>13357192.5</td>\n",
       "      <td>0</td>\n",
       "      <td>Prod_Category_A_None</td>\n",
       "      <td>0.453823</td>\n",
       "      <td>0.617116</td>\n",
       "      <td>0.461336</td>\n",
       "      <td>0.300891</td>\n",
       "      <td>0.212401</td>\n",
       "      <td>0.581201</td>\n",
       "      <td>0.330085</td>\n",
       "    </tr>\n",
       "  </tbody>\n",
       "</table>\n",
       "<p>5 rows × 59 columns</p>\n",
       "</div>"
      ],
      "text/plain": [
       "      ID    Region   Territory  Pricing, Delivery_Terms_Quote_Appr  \\\n",
       "0  27761      EMEA        None                                   1   \n",
       "1  27760      EMEA        None                                   0   \n",
       "2  27446  Americas  NW America                                   0   \n",
       "3  16808  Americas  NW America                                   1   \n",
       "4  16805  Americas  NW America                                   1   \n",
       "\n",
       "   Pricing, Delivery_Terms_Approved  Bureaucratic_Code_0_Approval  \\\n",
       "0                                 1                             1   \n",
       "1                                 0                             0   \n",
       "2                                 0                             0   \n",
       "3                                 0                             1   \n",
       "4                                 0                             1   \n",
       "\n",
       "   Bureaucratic_Code_0_Approved  Submitted_for_Approval    Bureaucratic_Code  \\\n",
       "0                             1                       0  Bureaucratic_Code_4   \n",
       "1                             0                       0  Bureaucratic_Code_4   \n",
       "2                             0                       0  Bureaucratic_Code_4   \n",
       "3                             0                       0  Bureaucratic_Code_5   \n",
       "4                             0                       0  Bureaucratic_Code_5   \n",
       "\n",
       "  Account_Created_Date  ... Total_Taxable_Amount Stage       Prod_Category_A  \\\n",
       "0            6/16/2015  ...            5272800.0     0  Prod_Category_A_None   \n",
       "1            6/16/2015  ...              48230.0     1  Prod_Category_A_None   \n",
       "2            4/21/2015  ...              83865.6     1  Prod_Category_A_None   \n",
       "3            7/27/2013  ...            7421881.5     0  Prod_Category_A_None   \n",
       "4            7/27/2013  ...           13357192.5     0  Prod_Category_A_None   \n",
       "\n",
       "  Region_enc  Territory_enc Billing_Country_enc Account_Type_enc  \\\n",
       "0   0.528996       0.604688            0.566906         0.536191   \n",
       "1   0.532181       0.609810            0.551745         0.540773   \n",
       "2   0.453823       0.617116            0.461336         0.300891   \n",
       "3   0.455792       0.629018            0.462437         0.297194   \n",
       "4   0.453823       0.617116            0.461336         0.300891   \n",
       "\n",
       "  Opportunity_Type_enc Account_Owner_enc Account_Name_enc  \n",
       "0             0.527702          0.402094         0.643524  \n",
       "1             0.530896          0.387281         0.634526  \n",
       "2             0.527702          0.663810         0.800132  \n",
       "3             0.212627          0.602113         0.399635  \n",
       "4             0.212401          0.581201         0.330085  \n",
       "\n",
       "[5 rows x 59 columns]"
      ]
     },
     "execution_count": 23,
     "metadata": {},
     "output_type": "execute_result"
    }
   ],
   "source": [
    "train.head()"
   ]
  },
  {
   "cell_type": "code",
   "execution_count": 24,
   "metadata": {},
   "outputs": [
    {
     "data": {
      "text/plain": [
       "Index(['ID', 'Region', 'Territory', 'Pricing, Delivery_Terms_Quote_Appr',\n",
       "       'Pricing, Delivery_Terms_Approved', 'Bureaucratic_Code_0_Approval',\n",
       "       'Bureaucratic_Code_0_Approved', 'Submitted_for_Approval',\n",
       "       'Bureaucratic_Code', 'Account_Created_Date', 'Source ',\n",
       "       'Billing_Country', 'Account_Name', 'Opportunity_Name', 'Opportunity_ID',\n",
       "       'Sales_Contract_No', 'Account_Owner', 'Opportunity_Owner',\n",
       "       'Account_Type', 'Opportunity_Type', 'Quote_Type', 'Delivery_Terms',\n",
       "       'Opportunity_Created_Date', 'Brand', 'Product_Type', 'Size',\n",
       "       'Product_Category_B', 'Price', 'Currency', 'Last_Activity',\n",
       "       'Quote_Expiry_Date', 'Last_Modified_Date', 'Last_Modified_By',\n",
       "       'Product_Family', 'Product_Name', 'ASP_Currency', 'ASP',\n",
       "       'ASP_(converted)_Currency', 'ASP_(converted)',\n",
       "       'Planned_Delivery_Start_Date', 'Planned_Delivery_End_Date', 'Month',\n",
       "       'Delivery_Quarter', 'Delivery_Year', 'Actual_Delivery_Date', 'TRF',\n",
       "       'Total_Amount_Currency', 'Total_Amount',\n",
       "       'Total_Taxable_Amount_Currency', 'Total_Taxable_Amount', 'Stage',\n",
       "       'Prod_Category_A', 'Region_enc', 'Territory_enc', 'Billing_Country_enc',\n",
       "       'Account_Type_enc', 'Opportunity_Type_enc', 'Account_Owner_enc',\n",
       "       'Account_Name_enc'],\n",
       "      dtype='object')"
      ]
     },
     "execution_count": 24,
     "metadata": {},
     "output_type": "execute_result"
    }
   ],
   "source": [
    "train.columns"
   ]
  },
  {
   "cell_type": "code",
   "execution_count": 25,
   "metadata": {},
   "outputs": [
    {
     "data": {
      "text/html": [
       "<div>\n",
       "<style scoped>\n",
       "    .dataframe tbody tr th:only-of-type {\n",
       "        vertical-align: middle;\n",
       "    }\n",
       "\n",
       "    .dataframe tbody tr th {\n",
       "        vertical-align: top;\n",
       "    }\n",
       "\n",
       "    .dataframe thead th {\n",
       "        text-align: right;\n",
       "    }\n",
       "</style>\n",
       "<table border=\"1\" class=\"dataframe\">\n",
       "  <thead>\n",
       "    <tr style=\"text-align: right;\">\n",
       "      <th></th>\n",
       "      <th>ID</th>\n",
       "      <th>Region</th>\n",
       "      <th>Territory</th>\n",
       "      <th>Pricing, Delivery_Terms_Quote_Appr</th>\n",
       "      <th>Pricing, Delivery_Terms_Approved</th>\n",
       "      <th>Bureaucratic_Code_0_Approval</th>\n",
       "      <th>Bureaucratic_Code_0_Approved</th>\n",
       "      <th>Submitted_for_Approval</th>\n",
       "      <th>Bureaucratic_Code</th>\n",
       "      <th>Account_Created_Date</th>\n",
       "      <th>...</th>\n",
       "      <th>Total_Taxable_Amount</th>\n",
       "      <th>Stage</th>\n",
       "      <th>Prod_Category_A</th>\n",
       "      <th>Region_enc</th>\n",
       "      <th>Territory_enc</th>\n",
       "      <th>Billing_Country_enc</th>\n",
       "      <th>Account_Type_enc</th>\n",
       "      <th>Opportunity_Type_enc</th>\n",
       "      <th>Account_Owner_enc</th>\n",
       "      <th>Account_Name_enc</th>\n",
       "    </tr>\n",
       "  </thead>\n",
       "  <tbody>\n",
       "    <tr>\n",
       "      <th>0</th>\n",
       "      <td>27761</td>\n",
       "      <td>EMEA</td>\n",
       "      <td>None</td>\n",
       "      <td>1</td>\n",
       "      <td>1</td>\n",
       "      <td>1</td>\n",
       "      <td>1</td>\n",
       "      <td>0</td>\n",
       "      <td>Bureaucratic_Code_4</td>\n",
       "      <td>6/16/2015</td>\n",
       "      <td>...</td>\n",
       "      <td>5272800.0</td>\n",
       "      <td>0</td>\n",
       "      <td>Prod_Category_A_None</td>\n",
       "      <td>0.528996</td>\n",
       "      <td>0.604688</td>\n",
       "      <td>0.566906</td>\n",
       "      <td>0.536191</td>\n",
       "      <td>0.527702</td>\n",
       "      <td>0.402094</td>\n",
       "      <td>0.643524</td>\n",
       "    </tr>\n",
       "    <tr>\n",
       "      <th>1</th>\n",
       "      <td>27760</td>\n",
       "      <td>EMEA</td>\n",
       "      <td>None</td>\n",
       "      <td>0</td>\n",
       "      <td>0</td>\n",
       "      <td>0</td>\n",
       "      <td>0</td>\n",
       "      <td>0</td>\n",
       "      <td>Bureaucratic_Code_4</td>\n",
       "      <td>6/16/2015</td>\n",
       "      <td>...</td>\n",
       "      <td>48230.0</td>\n",
       "      <td>1</td>\n",
       "      <td>Prod_Category_A_None</td>\n",
       "      <td>0.532181</td>\n",
       "      <td>0.609810</td>\n",
       "      <td>0.551745</td>\n",
       "      <td>0.540773</td>\n",
       "      <td>0.530896</td>\n",
       "      <td>0.387281</td>\n",
       "      <td>0.634526</td>\n",
       "    </tr>\n",
       "    <tr>\n",
       "      <th>2</th>\n",
       "      <td>27446</td>\n",
       "      <td>Americas</td>\n",
       "      <td>NW America</td>\n",
       "      <td>0</td>\n",
       "      <td>0</td>\n",
       "      <td>0</td>\n",
       "      <td>0</td>\n",
       "      <td>0</td>\n",
       "      <td>Bureaucratic_Code_4</td>\n",
       "      <td>4/21/2015</td>\n",
       "      <td>...</td>\n",
       "      <td>83865.6</td>\n",
       "      <td>1</td>\n",
       "      <td>Prod_Category_A_None</td>\n",
       "      <td>0.453823</td>\n",
       "      <td>0.617116</td>\n",
       "      <td>0.461336</td>\n",
       "      <td>0.300891</td>\n",
       "      <td>0.527702</td>\n",
       "      <td>0.663810</td>\n",
       "      <td>0.800132</td>\n",
       "    </tr>\n",
       "    <tr>\n",
       "      <th>3</th>\n",
       "      <td>16808</td>\n",
       "      <td>Americas</td>\n",
       "      <td>NW America</td>\n",
       "      <td>1</td>\n",
       "      <td>0</td>\n",
       "      <td>1</td>\n",
       "      <td>0</td>\n",
       "      <td>0</td>\n",
       "      <td>Bureaucratic_Code_5</td>\n",
       "      <td>7/27/2013</td>\n",
       "      <td>...</td>\n",
       "      <td>7421881.5</td>\n",
       "      <td>0</td>\n",
       "      <td>Prod_Category_A_None</td>\n",
       "      <td>0.455792</td>\n",
       "      <td>0.629018</td>\n",
       "      <td>0.462437</td>\n",
       "      <td>0.297194</td>\n",
       "      <td>0.212627</td>\n",
       "      <td>0.602113</td>\n",
       "      <td>0.399635</td>\n",
       "    </tr>\n",
       "    <tr>\n",
       "      <th>4</th>\n",
       "      <td>16805</td>\n",
       "      <td>Americas</td>\n",
       "      <td>NW America</td>\n",
       "      <td>1</td>\n",
       "      <td>0</td>\n",
       "      <td>1</td>\n",
       "      <td>0</td>\n",
       "      <td>0</td>\n",
       "      <td>Bureaucratic_Code_5</td>\n",
       "      <td>7/27/2013</td>\n",
       "      <td>...</td>\n",
       "      <td>13357192.5</td>\n",
       "      <td>0</td>\n",
       "      <td>Prod_Category_A_None</td>\n",
       "      <td>0.453823</td>\n",
       "      <td>0.617116</td>\n",
       "      <td>0.461336</td>\n",
       "      <td>0.300891</td>\n",
       "      <td>0.212401</td>\n",
       "      <td>0.581201</td>\n",
       "      <td>0.330085</td>\n",
       "    </tr>\n",
       "  </tbody>\n",
       "</table>\n",
       "<p>5 rows × 59 columns</p>\n",
       "</div>"
      ],
      "text/plain": [
       "      ID    Region   Territory  Pricing, Delivery_Terms_Quote_Appr  \\\n",
       "0  27761      EMEA        None                                   1   \n",
       "1  27760      EMEA        None                                   0   \n",
       "2  27446  Americas  NW America                                   0   \n",
       "3  16808  Americas  NW America                                   1   \n",
       "4  16805  Americas  NW America                                   1   \n",
       "\n",
       "   Pricing, Delivery_Terms_Approved  Bureaucratic_Code_0_Approval  \\\n",
       "0                                 1                             1   \n",
       "1                                 0                             0   \n",
       "2                                 0                             0   \n",
       "3                                 0                             1   \n",
       "4                                 0                             1   \n",
       "\n",
       "   Bureaucratic_Code_0_Approved  Submitted_for_Approval    Bureaucratic_Code  \\\n",
       "0                             1                       0  Bureaucratic_Code_4   \n",
       "1                             0                       0  Bureaucratic_Code_4   \n",
       "2                             0                       0  Bureaucratic_Code_4   \n",
       "3                             0                       0  Bureaucratic_Code_5   \n",
       "4                             0                       0  Bureaucratic_Code_5   \n",
       "\n",
       "  Account_Created_Date  ... Total_Taxable_Amount Stage       Prod_Category_A  \\\n",
       "0            6/16/2015  ...            5272800.0     0  Prod_Category_A_None   \n",
       "1            6/16/2015  ...              48230.0     1  Prod_Category_A_None   \n",
       "2            4/21/2015  ...              83865.6     1  Prod_Category_A_None   \n",
       "3            7/27/2013  ...            7421881.5     0  Prod_Category_A_None   \n",
       "4            7/27/2013  ...           13357192.5     0  Prod_Category_A_None   \n",
       "\n",
       "  Region_enc  Territory_enc Billing_Country_enc Account_Type_enc  \\\n",
       "0   0.528996       0.604688            0.566906         0.536191   \n",
       "1   0.532181       0.609810            0.551745         0.540773   \n",
       "2   0.453823       0.617116            0.461336         0.300891   \n",
       "3   0.455792       0.629018            0.462437         0.297194   \n",
       "4   0.453823       0.617116            0.461336         0.300891   \n",
       "\n",
       "  Opportunity_Type_enc Account_Owner_enc Account_Name_enc  \n",
       "0             0.527702          0.402094         0.643524  \n",
       "1             0.530896          0.387281         0.634526  \n",
       "2             0.527702          0.663810         0.800132  \n",
       "3             0.212627          0.602113         0.399635  \n",
       "4             0.212401          0.581201         0.330085  \n",
       "\n",
       "[5 rows x 59 columns]"
      ]
     },
     "execution_count": 25,
     "metadata": {},
     "output_type": "execute_result"
    }
   ],
   "source": [
    "train.head()"
   ]
  },
  {
   "cell_type": "code",
   "execution_count": 26,
   "metadata": {},
   "outputs": [],
   "source": [
    "#Agrego las columnas con valores unicos a \"Columnas_a_borrar\"\n",
    "Columnas_a_borrar = ['ID', 'Region', 'Territory', 'Pricing, Delivery_Terms_Quote_Appr',\n",
    "       'Pricing, Delivery_Terms_Approved', 'Bureaucratic_Code_0_Approval',\n",
    "       'Bureaucratic_Code_0_Approved', 'Submitted_for_Approval',\n",
    "       'Bureaucratic_Code', 'Account_Created_Date', 'Source ',\n",
    "       'Billing_Country', 'Account_Name', 'Opportunity_Name',\n",
    "       'Sales_Contract_No', 'Account_Owner', 'Opportunity_Owner',\n",
    "       'Account_Type', 'Opportunity_Type', 'Quote_Type', 'Delivery_Terms',\n",
    "       'Opportunity_Created_Date', 'Brand', 'Product_Type', 'Size',\n",
    "       'Product_Category_B', 'Price', 'Currency', 'Last_Activity',\n",
    "       'Quote_Expiry_Date', 'Last_Modified_Date', 'Last_Modified_By',\n",
    "       'Product_Family', 'Product_Name', 'ASP_Currency', 'ASP',\n",
    "       'ASP_(converted)_Currency', 'ASP_(converted)',\n",
    "       'Planned_Delivery_Start_Date', 'Planned_Delivery_End_Date', 'Month',\n",
    "       'Delivery_Quarter', 'Delivery_Year', 'Actual_Delivery_Date',\n",
    "       'Total_Amount_Currency','Total_Taxable_Amount_Currency',\n",
    "       'Prod_Category_A','Total_Amount' ]"
   ]
  },
  {
   "cell_type": "code",
   "execution_count": 27,
   "metadata": {},
   "outputs": [],
   "source": [
    "#Borro las columnas train\n",
    "train.drop(columns = Columnas_a_borrar, inplace=True)"
   ]
  },
  {
   "cell_type": "code",
   "execution_count": 28,
   "metadata": {},
   "outputs": [],
   "source": [
    "#Borro las columnas test\n",
    "test.drop(columns = Columnas_a_borrar, inplace=True)"
   ]
  },
  {
   "cell_type": "code",
   "execution_count": 29,
   "metadata": {},
   "outputs": [
    {
     "name": "stdout",
     "output_type": "stream",
     "text": [
      "<class 'pandas.core.frame.DataFrame'>\n",
      "RangeIndex: 16947 entries, 0 to 16946\n",
      "Data columns (total 11 columns):\n",
      " #   Column                Non-Null Count  Dtype  \n",
      "---  ------                --------------  -----  \n",
      " 0   Opportunity_ID        16947 non-null  int64  \n",
      " 1   TRF                   16947 non-null  int64  \n",
      " 2   Total_Taxable_Amount  16947 non-null  float64\n",
      " 3   Stage                 16947 non-null  int32  \n",
      " 4   Region_enc            16947 non-null  float64\n",
      " 5   Territory_enc         16947 non-null  float64\n",
      " 6   Billing_Country_enc   16947 non-null  float64\n",
      " 7   Account_Type_enc      16947 non-null  float64\n",
      " 8   Opportunity_Type_enc  16947 non-null  float64\n",
      " 9   Account_Owner_enc     16947 non-null  float64\n",
      " 10  Account_Name_enc      16947 non-null  float64\n",
      "dtypes: float64(8), int32(1), int64(2)\n",
      "memory usage: 1.4 MB\n"
     ]
    }
   ],
   "source": [
    "train.info()"
   ]
  },
  {
   "cell_type": "code",
   "execution_count": 30,
   "metadata": {},
   "outputs": [
    {
     "name": "stdout",
     "output_type": "stream",
     "text": [
      "Opportunity_ID            int64\n",
      "TRF                       int64\n",
      "Total_Taxable_Amount    float64\n",
      "Stage                   float64\n",
      "Region_enc              float64\n",
      "Territory_enc           float64\n",
      "Billing_Country_enc     float64\n",
      "Account_Type_enc        float64\n",
      "Opportunity_Type_enc    float64\n",
      "Account_Owner_enc       float64\n",
      "Account_Name_enc        float64\n",
      "dtype: object\n"
     ]
    }
   ],
   "source": [
    "for column in train.columns:\n",
    "    if train[column].dtype == 'int32':\n",
    "        train[column] = train[column].astype('float64')\n",
    "print(train.dtypes)"
   ]
  },
  {
   "cell_type": "code",
   "execution_count": null,
   "metadata": {},
   "outputs": [],
   "source": [
    "####  Modelos"
   ]
  },
  {
   "cell_type": "code",
   "execution_count": 31,
   "metadata": {},
   "outputs": [],
   "source": [
    "X = train.drop(['Stage'], axis=1)\n",
    "y = train['Stage']"
   ]
  },
  {
   "cell_type": "code",
   "execution_count": 32,
   "metadata": {},
   "outputs": [],
   "source": [
    "from sklearn.model_selection import train_test_split\n",
    "\n",
    "X_train, X_test, y_train, y_test = \\\n",
    "    train_test_split(X, y, test_size=0.2, random_state=123)"
   ]
  },
  {
   "cell_type": "code",
   "execution_count": null,
   "metadata": {},
   "outputs": [],
   "source": [
    "###Ramdon Forest"
   ]
  },
  {
   "cell_type": "code",
   "execution_count": 79,
   "metadata": {},
   "outputs": [],
   "source": [
    "from sklearn.ensemble import RandomForestClassifier"
   ]
  },
  {
   "cell_type": "code",
   "execution_count": 80,
   "metadata": {},
   "outputs": [
    {
     "data": {
      "text/plain": [
       "RandomForestClassifier(random_state=123)"
      ]
     },
     "execution_count": 80,
     "metadata": {},
     "output_type": "execute_result"
    }
   ],
   "source": [
    "rf_model = RandomForestClassifier(random_state=123)\n",
    "rf_model.fit(X_train, y_train)"
   ]
  },
  {
   "cell_type": "code",
   "execution_count": 81,
   "metadata": {},
   "outputs": [],
   "source": [
    "preds = rf_model.predict_proba(X_test)"
   ]
  },
  {
   "cell_type": "code",
   "execution_count": 82,
   "metadata": {},
   "outputs": [
    {
     "data": {
      "text/plain": [
       "array([[0.62, 0.38],\n",
       "       [0.22, 0.78],\n",
       "       [0.01, 0.99],\n",
       "       ...,\n",
       "       [0.05, 0.95],\n",
       "       [0.88, 0.12],\n",
       "       [0.73, 0.27]])"
      ]
     },
     "execution_count": 82,
     "metadata": {},
     "output_type": "execute_result"
    }
   ],
   "source": [
    "preds"
   ]
  },
  {
   "cell_type": "code",
   "execution_count": 83,
   "metadata": {},
   "outputs": [],
   "source": [
    "preds = preds[:, 1]"
   ]
  },
  {
   "cell_type": "code",
   "execution_count": 84,
   "metadata": {},
   "outputs": [
    {
     "data": {
      "text/plain": [
       "array([0.38, 0.78, 0.99, ..., 0.95, 0.12, 0.27])"
      ]
     },
     "execution_count": 84,
     "metadata": {},
     "output_type": "execute_result"
    }
   ],
   "source": [
    "preds"
   ]
  },
  {
   "cell_type": "code",
   "execution_count": 85,
   "metadata": {},
   "outputs": [
    {
     "data": {
      "text/html": [
       "<div>\n",
       "<style scoped>\n",
       "    .dataframe tbody tr th:only-of-type {\n",
       "        vertical-align: middle;\n",
       "    }\n",
       "\n",
       "    .dataframe tbody tr th {\n",
       "        vertical-align: top;\n",
       "    }\n",
       "\n",
       "    .dataframe thead th {\n",
       "        text-align: right;\n",
       "    }\n",
       "</style>\n",
       "<table border=\"1\" class=\"dataframe\">\n",
       "  <thead>\n",
       "    <tr style=\"text-align: right;\">\n",
       "      <th></th>\n",
       "      <th>Opportunity_ID</th>\n",
       "      <th>TRF</th>\n",
       "      <th>Total_Taxable_Amount</th>\n",
       "      <th>Stage</th>\n",
       "      <th>Region_enc</th>\n",
       "      <th>Territory_enc</th>\n",
       "      <th>Billing_Country_enc</th>\n",
       "      <th>Account_Type_enc</th>\n",
       "      <th>Opportunity_Type_enc</th>\n",
       "      <th>Account_Owner_enc</th>\n",
       "      <th>Account_Name_enc</th>\n",
       "    </tr>\n",
       "  </thead>\n",
       "  <tbody>\n",
       "    <tr>\n",
       "      <th>0</th>\n",
       "      <td>0</td>\n",
       "      <td>10</td>\n",
       "      <td>5272800.0</td>\n",
       "      <td>0.0</td>\n",
       "      <td>0.528996</td>\n",
       "      <td>0.604688</td>\n",
       "      <td>0.566906</td>\n",
       "      <td>0.536191</td>\n",
       "      <td>0.527702</td>\n",
       "      <td>0.402094</td>\n",
       "      <td>0.643524</td>\n",
       "    </tr>\n",
       "    <tr>\n",
       "      <th>1</th>\n",
       "      <td>1</td>\n",
       "      <td>0</td>\n",
       "      <td>48230.0</td>\n",
       "      <td>1.0</td>\n",
       "      <td>0.532181</td>\n",
       "      <td>0.609810</td>\n",
       "      <td>0.551745</td>\n",
       "      <td>0.540773</td>\n",
       "      <td>0.530896</td>\n",
       "      <td>0.387281</td>\n",
       "      <td>0.634526</td>\n",
       "    </tr>\n",
       "    <tr>\n",
       "      <th>2</th>\n",
       "      <td>2</td>\n",
       "      <td>0</td>\n",
       "      <td>83865.6</td>\n",
       "      <td>1.0</td>\n",
       "      <td>0.453823</td>\n",
       "      <td>0.617116</td>\n",
       "      <td>0.461336</td>\n",
       "      <td>0.300891</td>\n",
       "      <td>0.527702</td>\n",
       "      <td>0.663810</td>\n",
       "      <td>0.800132</td>\n",
       "    </tr>\n",
       "    <tr>\n",
       "      <th>3</th>\n",
       "      <td>3</td>\n",
       "      <td>14</td>\n",
       "      <td>7421881.5</td>\n",
       "      <td>0.0</td>\n",
       "      <td>0.455792</td>\n",
       "      <td>0.629018</td>\n",
       "      <td>0.462437</td>\n",
       "      <td>0.297194</td>\n",
       "      <td>0.212627</td>\n",
       "      <td>0.602113</td>\n",
       "      <td>0.399635</td>\n",
       "    </tr>\n",
       "    <tr>\n",
       "      <th>4</th>\n",
       "      <td>4</td>\n",
       "      <td>25</td>\n",
       "      <td>13357192.5</td>\n",
       "      <td>0.0</td>\n",
       "      <td>0.453823</td>\n",
       "      <td>0.617116</td>\n",
       "      <td>0.461336</td>\n",
       "      <td>0.300891</td>\n",
       "      <td>0.212401</td>\n",
       "      <td>0.581201</td>\n",
       "      <td>0.330085</td>\n",
       "    </tr>\n",
       "    <tr>\n",
       "      <th>5</th>\n",
       "      <td>5</td>\n",
       "      <td>28</td>\n",
       "      <td>14838277.5</td>\n",
       "      <td>0.0</td>\n",
       "      <td>0.460034</td>\n",
       "      <td>0.619184</td>\n",
       "      <td>0.467164</td>\n",
       "      <td>0.301841</td>\n",
       "      <td>0.217643</td>\n",
       "      <td>0.602172</td>\n",
       "      <td>0.332124</td>\n",
       "    </tr>\n",
       "    <tr>\n",
       "      <th>6</th>\n",
       "      <td>6</td>\n",
       "      <td>7</td>\n",
       "      <td>2659494.6</td>\n",
       "      <td>0.0</td>\n",
       "      <td>0.455792</td>\n",
       "      <td>0.629018</td>\n",
       "      <td>0.462437</td>\n",
       "      <td>0.297194</td>\n",
       "      <td>0.212627</td>\n",
       "      <td>0.602113</td>\n",
       "      <td>0.399635</td>\n",
       "    </tr>\n",
       "    <tr>\n",
       "      <th>7</th>\n",
       "      <td>7</td>\n",
       "      <td>0</td>\n",
       "      <td>50688.0</td>\n",
       "      <td>1.0</td>\n",
       "      <td>0.455792</td>\n",
       "      <td>0.629018</td>\n",
       "      <td>0.462437</td>\n",
       "      <td>0.297194</td>\n",
       "      <td>0.525710</td>\n",
       "      <td>0.660075</td>\n",
       "      <td>0.807932</td>\n",
       "    </tr>\n",
       "    <tr>\n",
       "      <th>8</th>\n",
       "      <td>8</td>\n",
       "      <td>0</td>\n",
       "      <td>470400.0</td>\n",
       "      <td>0.0</td>\n",
       "      <td>0.679257</td>\n",
       "      <td>0.604688</td>\n",
       "      <td>0.680904</td>\n",
       "      <td>0.536191</td>\n",
       "      <td>0.684690</td>\n",
       "      <td>0.651573</td>\n",
       "      <td>0.482220</td>\n",
       "    </tr>\n",
       "    <tr>\n",
       "      <th>9</th>\n",
       "      <td>8</td>\n",
       "      <td>0</td>\n",
       "      <td>470400.0</td>\n",
       "      <td>0.0</td>\n",
       "      <td>0.685132</td>\n",
       "      <td>0.610279</td>\n",
       "      <td>0.687219</td>\n",
       "      <td>0.542096</td>\n",
       "      <td>0.687868</td>\n",
       "      <td>0.655467</td>\n",
       "      <td>0.484174</td>\n",
       "    </tr>\n",
       "    <tr>\n",
       "      <th>10</th>\n",
       "      <td>8</td>\n",
       "      <td>0</td>\n",
       "      <td>470400.0</td>\n",
       "      <td>0.0</td>\n",
       "      <td>0.685132</td>\n",
       "      <td>0.610279</td>\n",
       "      <td>0.687219</td>\n",
       "      <td>0.542096</td>\n",
       "      <td>0.687868</td>\n",
       "      <td>0.655467</td>\n",
       "      <td>0.484174</td>\n",
       "    </tr>\n",
       "    <tr>\n",
       "      <th>11</th>\n",
       "      <td>8</td>\n",
       "      <td>0</td>\n",
       "      <td>470400.0</td>\n",
       "      <td>0.0</td>\n",
       "      <td>0.679257</td>\n",
       "      <td>0.604688</td>\n",
       "      <td>0.680904</td>\n",
       "      <td>0.536191</td>\n",
       "      <td>0.684690</td>\n",
       "      <td>0.651573</td>\n",
       "      <td>0.482220</td>\n",
       "    </tr>\n",
       "    <tr>\n",
       "      <th>12</th>\n",
       "      <td>8</td>\n",
       "      <td>0</td>\n",
       "      <td>470400.0</td>\n",
       "      <td>0.0</td>\n",
       "      <td>0.685132</td>\n",
       "      <td>0.610279</td>\n",
       "      <td>0.687219</td>\n",
       "      <td>0.542096</td>\n",
       "      <td>0.687868</td>\n",
       "      <td>0.655467</td>\n",
       "      <td>0.484174</td>\n",
       "    </tr>\n",
       "    <tr>\n",
       "      <th>13</th>\n",
       "      <td>9</td>\n",
       "      <td>0</td>\n",
       "      <td>559320.0</td>\n",
       "      <td>0.0</td>\n",
       "      <td>0.680160</td>\n",
       "      <td>0.609810</td>\n",
       "      <td>0.681468</td>\n",
       "      <td>0.540773</td>\n",
       "      <td>0.683745</td>\n",
       "      <td>0.650027</td>\n",
       "      <td>0.481783</td>\n",
       "    </tr>\n",
       "    <tr>\n",
       "      <th>14</th>\n",
       "      <td>9</td>\n",
       "      <td>0</td>\n",
       "      <td>559320.0</td>\n",
       "      <td>0.0</td>\n",
       "      <td>0.674954</td>\n",
       "      <td>0.602504</td>\n",
       "      <td>0.677556</td>\n",
       "      <td>0.537053</td>\n",
       "      <td>0.681197</td>\n",
       "      <td>0.645080</td>\n",
       "      <td>0.476066</td>\n",
       "    </tr>\n",
       "    <tr>\n",
       "      <th>15</th>\n",
       "      <td>9</td>\n",
       "      <td>0</td>\n",
       "      <td>559320.0</td>\n",
       "      <td>0.0</td>\n",
       "      <td>0.685132</td>\n",
       "      <td>0.610279</td>\n",
       "      <td>0.687219</td>\n",
       "      <td>0.542096</td>\n",
       "      <td>0.687868</td>\n",
       "      <td>0.655467</td>\n",
       "      <td>0.484174</td>\n",
       "    </tr>\n",
       "    <tr>\n",
       "      <th>16</th>\n",
       "      <td>9</td>\n",
       "      <td>0</td>\n",
       "      <td>559320.0</td>\n",
       "      <td>0.0</td>\n",
       "      <td>0.680160</td>\n",
       "      <td>0.609810</td>\n",
       "      <td>0.681468</td>\n",
       "      <td>0.540773</td>\n",
       "      <td>0.683745</td>\n",
       "      <td>0.650027</td>\n",
       "      <td>0.481783</td>\n",
       "    </tr>\n",
       "    <tr>\n",
       "      <th>17</th>\n",
       "      <td>9</td>\n",
       "      <td>0</td>\n",
       "      <td>559320.0</td>\n",
       "      <td>0.0</td>\n",
       "      <td>0.675304</td>\n",
       "      <td>0.606743</td>\n",
       "      <td>0.676688</td>\n",
       "      <td>0.541605</td>\n",
       "      <td>0.680423</td>\n",
       "      <td>0.644386</td>\n",
       "      <td>0.474735</td>\n",
       "    </tr>\n",
       "    <tr>\n",
       "      <th>18</th>\n",
       "      <td>10</td>\n",
       "      <td>0</td>\n",
       "      <td>579600.0</td>\n",
       "      <td>0.0</td>\n",
       "      <td>0.675304</td>\n",
       "      <td>0.606743</td>\n",
       "      <td>0.676688</td>\n",
       "      <td>0.541605</td>\n",
       "      <td>0.680423</td>\n",
       "      <td>0.644386</td>\n",
       "      <td>0.474735</td>\n",
       "    </tr>\n",
       "    <tr>\n",
       "      <th>19</th>\n",
       "      <td>10</td>\n",
       "      <td>0</td>\n",
       "      <td>579600.0</td>\n",
       "      <td>0.0</td>\n",
       "      <td>0.685132</td>\n",
       "      <td>0.610279</td>\n",
       "      <td>0.687219</td>\n",
       "      <td>0.542096</td>\n",
       "      <td>0.687868</td>\n",
       "      <td>0.655467</td>\n",
       "      <td>0.484174</td>\n",
       "    </tr>\n",
       "    <tr>\n",
       "      <th>20</th>\n",
       "      <td>10</td>\n",
       "      <td>0</td>\n",
       "      <td>579600.0</td>\n",
       "      <td>0.0</td>\n",
       "      <td>0.685132</td>\n",
       "      <td>0.610279</td>\n",
       "      <td>0.687219</td>\n",
       "      <td>0.542096</td>\n",
       "      <td>0.687868</td>\n",
       "      <td>0.655467</td>\n",
       "      <td>0.484174</td>\n",
       "    </tr>\n",
       "    <tr>\n",
       "      <th>21</th>\n",
       "      <td>10</td>\n",
       "      <td>0</td>\n",
       "      <td>579600.0</td>\n",
       "      <td>0.0</td>\n",
       "      <td>0.685132</td>\n",
       "      <td>0.610279</td>\n",
       "      <td>0.687219</td>\n",
       "      <td>0.542096</td>\n",
       "      <td>0.687868</td>\n",
       "      <td>0.655467</td>\n",
       "      <td>0.484174</td>\n",
       "    </tr>\n",
       "    <tr>\n",
       "      <th>22</th>\n",
       "      <td>10</td>\n",
       "      <td>0</td>\n",
       "      <td>579600.0</td>\n",
       "      <td>0.0</td>\n",
       "      <td>0.680160</td>\n",
       "      <td>0.609810</td>\n",
       "      <td>0.681468</td>\n",
       "      <td>0.540773</td>\n",
       "      <td>0.683745</td>\n",
       "      <td>0.650027</td>\n",
       "      <td>0.481783</td>\n",
       "    </tr>\n",
       "    <tr>\n",
       "      <th>23</th>\n",
       "      <td>11</td>\n",
       "      <td>3</td>\n",
       "      <td>1621851.0</td>\n",
       "      <td>1.0</td>\n",
       "      <td>0.576594</td>\n",
       "      <td>0.447596</td>\n",
       "      <td>0.410028</td>\n",
       "      <td>0.537053</td>\n",
       "      <td>0.212627</td>\n",
       "      <td>0.287404</td>\n",
       "      <td>0.506326</td>\n",
       "    </tr>\n",
       "    <tr>\n",
       "      <th>24</th>\n",
       "      <td>12</td>\n",
       "      <td>0</td>\n",
       "      <td>221650.0</td>\n",
       "      <td>0.0</td>\n",
       "      <td>0.583293</td>\n",
       "      <td>0.468061</td>\n",
       "      <td>0.171018</td>\n",
       "      <td>0.542096</td>\n",
       "      <td>0.529702</td>\n",
       "      <td>0.503616</td>\n",
       "      <td>0.564358</td>\n",
       "    </tr>\n",
       "    <tr>\n",
       "      <th>25</th>\n",
       "      <td>13</td>\n",
       "      <td>0</td>\n",
       "      <td>1012920.0</td>\n",
       "      <td>0.0</td>\n",
       "      <td>0.675304</td>\n",
       "      <td>0.606743</td>\n",
       "      <td>0.676688</td>\n",
       "      <td>0.541605</td>\n",
       "      <td>0.680423</td>\n",
       "      <td>0.644386</td>\n",
       "      <td>0.474735</td>\n",
       "    </tr>\n",
       "    <tr>\n",
       "      <th>26</th>\n",
       "      <td>13</td>\n",
       "      <td>0</td>\n",
       "      <td>1012920.0</td>\n",
       "      <td>0.0</td>\n",
       "      <td>0.680160</td>\n",
       "      <td>0.609810</td>\n",
       "      <td>0.681468</td>\n",
       "      <td>0.540773</td>\n",
       "      <td>0.683745</td>\n",
       "      <td>0.650027</td>\n",
       "      <td>0.481783</td>\n",
       "    </tr>\n",
       "    <tr>\n",
       "      <th>27</th>\n",
       "      <td>13</td>\n",
       "      <td>0</td>\n",
       "      <td>1012920.0</td>\n",
       "      <td>0.0</td>\n",
       "      <td>0.680160</td>\n",
       "      <td>0.609810</td>\n",
       "      <td>0.681468</td>\n",
       "      <td>0.540773</td>\n",
       "      <td>0.683745</td>\n",
       "      <td>0.650027</td>\n",
       "      <td>0.481783</td>\n",
       "    </tr>\n",
       "    <tr>\n",
       "      <th>28</th>\n",
       "      <td>13</td>\n",
       "      <td>0</td>\n",
       "      <td>1012920.0</td>\n",
       "      <td>0.0</td>\n",
       "      <td>0.674954</td>\n",
       "      <td>0.602504</td>\n",
       "      <td>0.677556</td>\n",
       "      <td>0.537053</td>\n",
       "      <td>0.681197</td>\n",
       "      <td>0.645080</td>\n",
       "      <td>0.476066</td>\n",
       "    </tr>\n",
       "    <tr>\n",
       "      <th>29</th>\n",
       "      <td>13</td>\n",
       "      <td>0</td>\n",
       "      <td>1012920.0</td>\n",
       "      <td>0.0</td>\n",
       "      <td>0.680160</td>\n",
       "      <td>0.609810</td>\n",
       "      <td>0.681468</td>\n",
       "      <td>0.540773</td>\n",
       "      <td>0.683745</td>\n",
       "      <td>0.650027</td>\n",
       "      <td>0.481783</td>\n",
       "    </tr>\n",
       "  </tbody>\n",
       "</table>\n",
       "</div>"
      ],
      "text/plain": [
       "    Opportunity_ID  TRF  Total_Taxable_Amount  Stage  Region_enc  \\\n",
       "0                0   10             5272800.0    0.0    0.528996   \n",
       "1                1    0               48230.0    1.0    0.532181   \n",
       "2                2    0               83865.6    1.0    0.453823   \n",
       "3                3   14             7421881.5    0.0    0.455792   \n",
       "4                4   25            13357192.5    0.0    0.453823   \n",
       "5                5   28            14838277.5    0.0    0.460034   \n",
       "6                6    7             2659494.6    0.0    0.455792   \n",
       "7                7    0               50688.0    1.0    0.455792   \n",
       "8                8    0              470400.0    0.0    0.679257   \n",
       "9                8    0              470400.0    0.0    0.685132   \n",
       "10               8    0              470400.0    0.0    0.685132   \n",
       "11               8    0              470400.0    0.0    0.679257   \n",
       "12               8    0              470400.0    0.0    0.685132   \n",
       "13               9    0              559320.0    0.0    0.680160   \n",
       "14               9    0              559320.0    0.0    0.674954   \n",
       "15               9    0              559320.0    0.0    0.685132   \n",
       "16               9    0              559320.0    0.0    0.680160   \n",
       "17               9    0              559320.0    0.0    0.675304   \n",
       "18              10    0              579600.0    0.0    0.675304   \n",
       "19              10    0              579600.0    0.0    0.685132   \n",
       "20              10    0              579600.0    0.0    0.685132   \n",
       "21              10    0              579600.0    0.0    0.685132   \n",
       "22              10    0              579600.0    0.0    0.680160   \n",
       "23              11    3             1621851.0    1.0    0.576594   \n",
       "24              12    0              221650.0    0.0    0.583293   \n",
       "25              13    0             1012920.0    0.0    0.675304   \n",
       "26              13    0             1012920.0    0.0    0.680160   \n",
       "27              13    0             1012920.0    0.0    0.680160   \n",
       "28              13    0             1012920.0    0.0    0.674954   \n",
       "29              13    0             1012920.0    0.0    0.680160   \n",
       "\n",
       "    Territory_enc  Billing_Country_enc  Account_Type_enc  \\\n",
       "0        0.604688             0.566906          0.536191   \n",
       "1        0.609810             0.551745          0.540773   \n",
       "2        0.617116             0.461336          0.300891   \n",
       "3        0.629018             0.462437          0.297194   \n",
       "4        0.617116             0.461336          0.300891   \n",
       "5        0.619184             0.467164          0.301841   \n",
       "6        0.629018             0.462437          0.297194   \n",
       "7        0.629018             0.462437          0.297194   \n",
       "8        0.604688             0.680904          0.536191   \n",
       "9        0.610279             0.687219          0.542096   \n",
       "10       0.610279             0.687219          0.542096   \n",
       "11       0.604688             0.680904          0.536191   \n",
       "12       0.610279             0.687219          0.542096   \n",
       "13       0.609810             0.681468          0.540773   \n",
       "14       0.602504             0.677556          0.537053   \n",
       "15       0.610279             0.687219          0.542096   \n",
       "16       0.609810             0.681468          0.540773   \n",
       "17       0.606743             0.676688          0.541605   \n",
       "18       0.606743             0.676688          0.541605   \n",
       "19       0.610279             0.687219          0.542096   \n",
       "20       0.610279             0.687219          0.542096   \n",
       "21       0.610279             0.687219          0.542096   \n",
       "22       0.609810             0.681468          0.540773   \n",
       "23       0.447596             0.410028          0.537053   \n",
       "24       0.468061             0.171018          0.542096   \n",
       "25       0.606743             0.676688          0.541605   \n",
       "26       0.609810             0.681468          0.540773   \n",
       "27       0.609810             0.681468          0.540773   \n",
       "28       0.602504             0.677556          0.537053   \n",
       "29       0.609810             0.681468          0.540773   \n",
       "\n",
       "    Opportunity_Type_enc  Account_Owner_enc  Account_Name_enc  \n",
       "0               0.527702           0.402094          0.643524  \n",
       "1               0.530896           0.387281          0.634526  \n",
       "2               0.527702           0.663810          0.800132  \n",
       "3               0.212627           0.602113          0.399635  \n",
       "4               0.212401           0.581201          0.330085  \n",
       "5               0.217643           0.602172          0.332124  \n",
       "6               0.212627           0.602113          0.399635  \n",
       "7               0.525710           0.660075          0.807932  \n",
       "8               0.684690           0.651573          0.482220  \n",
       "9               0.687868           0.655467          0.484174  \n",
       "10              0.687868           0.655467          0.484174  \n",
       "11              0.684690           0.651573          0.482220  \n",
       "12              0.687868           0.655467          0.484174  \n",
       "13              0.683745           0.650027          0.481783  \n",
       "14              0.681197           0.645080          0.476066  \n",
       "15              0.687868           0.655467          0.484174  \n",
       "16              0.683745           0.650027          0.481783  \n",
       "17              0.680423           0.644386          0.474735  \n",
       "18              0.680423           0.644386          0.474735  \n",
       "19              0.687868           0.655467          0.484174  \n",
       "20              0.687868           0.655467          0.484174  \n",
       "21              0.687868           0.655467          0.484174  \n",
       "22              0.683745           0.650027          0.481783  \n",
       "23              0.212627           0.287404          0.506326  \n",
       "24              0.529702           0.503616          0.564358  \n",
       "25              0.680423           0.644386          0.474735  \n",
       "26              0.683745           0.650027          0.481783  \n",
       "27              0.683745           0.650027          0.481783  \n",
       "28              0.681197           0.645080          0.476066  \n",
       "29              0.683745           0.650027          0.481783  "
      ]
     },
     "execution_count": 85,
     "metadata": {},
     "output_type": "execute_result"
    }
   ],
   "source": [
    "train.head(30)"
   ]
  },
  {
   "cell_type": "code",
   "execution_count": 86,
   "metadata": {},
   "outputs": [
    {
     "data": {
      "text/plain": [
       "array([[0.91, 0.09],\n",
       "       [0.12, 0.88],\n",
       "       [0.06, 0.94],\n",
       "       ...,\n",
       "       [0.02, 0.98],\n",
       "       [0.93, 0.07],\n",
       "       [0.97, 0.03]])"
      ]
     },
     "execution_count": 86,
     "metadata": {},
     "output_type": "execute_result"
    }
   ],
   "source": [
    "rf_model.predict_proba(X)"
   ]
  },
  {
   "cell_type": "code",
   "execution_count": 42,
   "metadata": {},
   "outputs": [],
   "source": [
    "# Import log_loss from sklearn\n",
    "from sklearn.metrics import log_loss"
   ]
  },
  {
   "cell_type": "code",
   "execution_count": 87,
   "metadata": {},
   "outputs": [
    {
     "name": "stdout",
     "output_type": "stream",
     "text": [
      "Sklearn LogLoss: 0.30678\n"
     ]
    }
   ],
   "source": [
    "print('Sklearn LogLoss: {:.5f}'.format(log_loss(y_test, preds)))"
   ]
  },
  {
   "cell_type": "code",
   "execution_count": null,
   "metadata": {},
   "outputs": [],
   "source": [
    "### esta aca train ahora predigo en test"
   ]
  },
  {
   "cell_type": "code",
   "execution_count": 47,
   "metadata": {},
   "outputs": [],
   "source": [
    "preds_test = rf_model.predict_proba(test)"
   ]
  },
  {
   "cell_type": "code",
   "execution_count": 88,
   "metadata": {},
   "outputs": [],
   "source": [
    "preds_test = preds_test[:, 1]"
   ]
  },
  {
   "cell_type": "code",
   "execution_count": 89,
   "metadata": {},
   "outputs": [
    {
     "data": {
      "text/plain": [
       "array([0.6 , 0.6 , 0.6 , ..., 0.35, 0.39, 0.21])"
      ]
     },
     "execution_count": 89,
     "metadata": {},
     "output_type": "execute_result"
    }
   ],
   "source": [
    "preds_test"
   ]
  },
  {
   "cell_type": "code",
   "execution_count": 90,
   "metadata": {},
   "outputs": [
    {
     "data": {
      "text/plain": [
       "(2551,)"
      ]
     },
     "execution_count": 90,
     "metadata": {},
     "output_type": "execute_result"
    }
   ],
   "source": [
    "preds_test.shape"
   ]
  },
  {
   "cell_type": "code",
   "execution_count": 98,
   "metadata": {},
   "outputs": [],
   "source": [
    "test['Target']=preds_test"
   ]
  },
  {
   "cell_type": "code",
   "execution_count": 100,
   "metadata": {},
   "outputs": [],
   "source": [
    "test['Target']=preds_test\n",
    "sub= test[['Opportunity_ID','Target']]\n",
    "sub1=sub.groupby(['Opportunity_ID'], as_index=False).mean()\n",
    "sub1[['Opportunity_ID', 'Target']].to_csv('submission2.csv', index=False)"
   ]
  },
  {
   "cell_type": "code",
   "execution_count": 101,
   "metadata": {},
   "outputs": [
    {
     "data": {
      "text/html": [
       "<div>\n",
       "<style scoped>\n",
       "    .dataframe tbody tr th:only-of-type {\n",
       "        vertical-align: middle;\n",
       "    }\n",
       "\n",
       "    .dataframe tbody tr th {\n",
       "        vertical-align: top;\n",
       "    }\n",
       "\n",
       "    .dataframe thead th {\n",
       "        text-align: right;\n",
       "    }\n",
       "</style>\n",
       "<table border=\"1\" class=\"dataframe\">\n",
       "  <thead>\n",
       "    <tr style=\"text-align: right;\">\n",
       "      <th></th>\n",
       "      <th>Opportunity_ID</th>\n",
       "      <th>Target</th>\n",
       "    </tr>\n",
       "  </thead>\n",
       "  <tbody>\n",
       "    <tr>\n",
       "      <th>0</th>\n",
       "      <td>10689</td>\n",
       "      <td>0.60</td>\n",
       "    </tr>\n",
       "    <tr>\n",
       "      <th>1</th>\n",
       "      <td>10689</td>\n",
       "      <td>0.60</td>\n",
       "    </tr>\n",
       "    <tr>\n",
       "      <th>2</th>\n",
       "      <td>10689</td>\n",
       "      <td>0.60</td>\n",
       "    </tr>\n",
       "    <tr>\n",
       "      <th>3</th>\n",
       "      <td>10690</td>\n",
       "      <td>0.25</td>\n",
       "    </tr>\n",
       "    <tr>\n",
       "      <th>4</th>\n",
       "      <td>10690</td>\n",
       "      <td>0.68</td>\n",
       "    </tr>\n",
       "    <tr>\n",
       "      <th>...</th>\n",
       "      <td>...</td>\n",
       "      <td>...</td>\n",
       "    </tr>\n",
       "    <tr>\n",
       "      <th>2546</th>\n",
       "      <td>12364</td>\n",
       "      <td>0.65</td>\n",
       "    </tr>\n",
       "    <tr>\n",
       "      <th>2547</th>\n",
       "      <td>12365</td>\n",
       "      <td>0.35</td>\n",
       "    </tr>\n",
       "    <tr>\n",
       "      <th>2548</th>\n",
       "      <td>12366</td>\n",
       "      <td>0.35</td>\n",
       "    </tr>\n",
       "    <tr>\n",
       "      <th>2549</th>\n",
       "      <td>12367</td>\n",
       "      <td>0.39</td>\n",
       "    </tr>\n",
       "    <tr>\n",
       "      <th>2550</th>\n",
       "      <td>12368</td>\n",
       "      <td>0.21</td>\n",
       "    </tr>\n",
       "  </tbody>\n",
       "</table>\n",
       "<p>2551 rows × 2 columns</p>\n",
       "</div>"
      ],
      "text/plain": [
       "      Opportunity_ID  Target\n",
       "0              10689    0.60\n",
       "1              10689    0.60\n",
       "2              10689    0.60\n",
       "3              10690    0.25\n",
       "4              10690    0.68\n",
       "...              ...     ...\n",
       "2546           12364    0.65\n",
       "2547           12365    0.35\n",
       "2548           12366    0.35\n",
       "2549           12367    0.39\n",
       "2550           12368    0.21\n",
       "\n",
       "[2551 rows x 2 columns]"
      ]
     },
     "execution_count": 101,
     "metadata": {},
     "output_type": "execute_result"
    }
   ],
   "source": [
    "sub"
   ]
  },
  {
   "cell_type": "code",
   "execution_count": 108,
   "metadata": {},
   "outputs": [],
   "source": [
    "sub1=sub.groupby(['Opportunity_ID'], as_index=False).mean()"
   ]
  },
  {
   "cell_type": "code",
   "execution_count": 109,
   "metadata": {},
   "outputs": [
    {
     "data": {
      "text/plain": [
       "(1567, 2)"
      ]
     },
     "execution_count": 109,
     "metadata": {},
     "output_type": "execute_result"
    }
   ],
   "source": [
    "sub1.shape"
   ]
  },
  {
   "cell_type": "code",
   "execution_count": 110,
   "metadata": {},
   "outputs": [
    {
     "data": {
      "text/html": [
       "<div>\n",
       "<style scoped>\n",
       "    .dataframe tbody tr th:only-of-type {\n",
       "        vertical-align: middle;\n",
       "    }\n",
       "\n",
       "    .dataframe tbody tr th {\n",
       "        vertical-align: top;\n",
       "    }\n",
       "\n",
       "    .dataframe thead th {\n",
       "        text-align: right;\n",
       "    }\n",
       "</style>\n",
       "<table border=\"1\" class=\"dataframe\">\n",
       "  <thead>\n",
       "    <tr style=\"text-align: right;\">\n",
       "      <th></th>\n",
       "      <th>Opportunity_ID</th>\n",
       "      <th>Target</th>\n",
       "    </tr>\n",
       "  </thead>\n",
       "  <tbody>\n",
       "    <tr>\n",
       "      <th>0</th>\n",
       "      <td>10689</td>\n",
       "      <td>0.600</td>\n",
       "    </tr>\n",
       "    <tr>\n",
       "      <th>1</th>\n",
       "      <td>10690</td>\n",
       "      <td>0.594</td>\n",
       "    </tr>\n",
       "    <tr>\n",
       "      <th>2</th>\n",
       "      <td>10691</td>\n",
       "      <td>0.800</td>\n",
       "    </tr>\n",
       "    <tr>\n",
       "      <th>3</th>\n",
       "      <td>10692</td>\n",
       "      <td>0.480</td>\n",
       "    </tr>\n",
       "    <tr>\n",
       "      <th>4</th>\n",
       "      <td>10693</td>\n",
       "      <td>0.960</td>\n",
       "    </tr>\n",
       "    <tr>\n",
       "      <th>...</th>\n",
       "      <td>...</td>\n",
       "      <td>...</td>\n",
       "    </tr>\n",
       "    <tr>\n",
       "      <th>1562</th>\n",
       "      <td>12364</td>\n",
       "      <td>0.650</td>\n",
       "    </tr>\n",
       "    <tr>\n",
       "      <th>1563</th>\n",
       "      <td>12365</td>\n",
       "      <td>0.350</td>\n",
       "    </tr>\n",
       "    <tr>\n",
       "      <th>1564</th>\n",
       "      <td>12366</td>\n",
       "      <td>0.350</td>\n",
       "    </tr>\n",
       "    <tr>\n",
       "      <th>1565</th>\n",
       "      <td>12367</td>\n",
       "      <td>0.390</td>\n",
       "    </tr>\n",
       "    <tr>\n",
       "      <th>1566</th>\n",
       "      <td>12368</td>\n",
       "      <td>0.210</td>\n",
       "    </tr>\n",
       "  </tbody>\n",
       "</table>\n",
       "<p>1567 rows × 2 columns</p>\n",
       "</div>"
      ],
      "text/plain": [
       "      Opportunity_ID  Target\n",
       "0              10689   0.600\n",
       "1              10690   0.594\n",
       "2              10691   0.800\n",
       "3              10692   0.480\n",
       "4              10693   0.960\n",
       "...              ...     ...\n",
       "1562           12364   0.650\n",
       "1563           12365   0.350\n",
       "1564           12366   0.350\n",
       "1565           12367   0.390\n",
       "1566           12368   0.210\n",
       "\n",
       "[1567 rows x 2 columns]"
      ]
     },
     "execution_count": 110,
     "metadata": {},
     "output_type": "execute_result"
    }
   ],
   "source": [
    "sub1"
   ]
  },
  {
   "cell_type": "code",
   "execution_count": 111,
   "metadata": {},
   "outputs": [],
   "source": [
    "sub1[['Opportunity_ID', 'Target']].to_csv('submission2.csv', index=False)"
   ]
  },
  {
   "cell_type": "code",
   "execution_count": 95,
   "metadata": {},
   "outputs": [
    {
     "data": {
      "text/html": [
       "<div>\n",
       "<style scoped>\n",
       "    .dataframe tbody tr th:only-of-type {\n",
       "        vertical-align: middle;\n",
       "    }\n",
       "\n",
       "    .dataframe tbody tr th {\n",
       "        vertical-align: top;\n",
       "    }\n",
       "\n",
       "    .dataframe thead th {\n",
       "        text-align: right;\n",
       "    }\n",
       "</style>\n",
       "<table border=\"1\" class=\"dataframe\">\n",
       "  <thead>\n",
       "    <tr style=\"text-align: right;\">\n",
       "      <th></th>\n",
       "      <th>Opportunity_ID</th>\n",
       "      <th>TRF</th>\n",
       "      <th>Total_Taxable_Amount</th>\n",
       "      <th>Region_enc</th>\n",
       "      <th>Territory_enc</th>\n",
       "      <th>Billing_Country_enc</th>\n",
       "      <th>Account_Type_enc</th>\n",
       "      <th>Opportunity_Type_enc</th>\n",
       "      <th>Account_Owner_enc</th>\n",
       "      <th>Account_Name_enc</th>\n",
       "      <th>target</th>\n",
       "    </tr>\n",
       "  </thead>\n",
       "  <tbody>\n",
       "    <tr>\n",
       "      <th>0</th>\n",
       "      <td>10689</td>\n",
       "      <td>0</td>\n",
       "      <td>367419.0</td>\n",
       "      <td>0.529873</td>\n",
       "      <td>0.607935</td>\n",
       "      <td>0.566931</td>\n",
       "      <td>0.706639</td>\n",
       "      <td>0.701380</td>\n",
       "      <td>0.670123</td>\n",
       "      <td>0.501715</td>\n",
       "      <td>0.60</td>\n",
       "    </tr>\n",
       "    <tr>\n",
       "      <th>1</th>\n",
       "      <td>10689</td>\n",
       "      <td>0</td>\n",
       "      <td>367419.0</td>\n",
       "      <td>0.529873</td>\n",
       "      <td>0.607935</td>\n",
       "      <td>0.566931</td>\n",
       "      <td>0.706639</td>\n",
       "      <td>0.701380</td>\n",
       "      <td>0.670123</td>\n",
       "      <td>0.501715</td>\n",
       "      <td>0.60</td>\n",
       "    </tr>\n",
       "    <tr>\n",
       "      <th>2</th>\n",
       "      <td>10689</td>\n",
       "      <td>0</td>\n",
       "      <td>367419.0</td>\n",
       "      <td>0.529873</td>\n",
       "      <td>0.607935</td>\n",
       "      <td>0.566931</td>\n",
       "      <td>0.706639</td>\n",
       "      <td>0.701380</td>\n",
       "      <td>0.670123</td>\n",
       "      <td>0.501715</td>\n",
       "      <td>0.60</td>\n",
       "    </tr>\n",
       "    <tr>\n",
       "      <th>3</th>\n",
       "      <td>10690</td>\n",
       "      <td>1</td>\n",
       "      <td>757783.5</td>\n",
       "      <td>0.529873</td>\n",
       "      <td>0.607935</td>\n",
       "      <td>0.566931</td>\n",
       "      <td>0.706639</td>\n",
       "      <td>0.701380</td>\n",
       "      <td>0.670123</td>\n",
       "      <td>0.501715</td>\n",
       "      <td>0.25</td>\n",
       "    </tr>\n",
       "    <tr>\n",
       "      <th>4</th>\n",
       "      <td>10690</td>\n",
       "      <td>0</td>\n",
       "      <td>757783.5</td>\n",
       "      <td>0.529873</td>\n",
       "      <td>0.607935</td>\n",
       "      <td>0.566931</td>\n",
       "      <td>0.706639</td>\n",
       "      <td>0.701380</td>\n",
       "      <td>0.670123</td>\n",
       "      <td>0.501715</td>\n",
       "      <td>0.68</td>\n",
       "    </tr>\n",
       "    <tr>\n",
       "      <th>...</th>\n",
       "      <td>...</td>\n",
       "      <td>...</td>\n",
       "      <td>...</td>\n",
       "      <td>...</td>\n",
       "      <td>...</td>\n",
       "      <td>...</td>\n",
       "      <td>...</td>\n",
       "      <td>...</td>\n",
       "      <td>...</td>\n",
       "      <td>...</td>\n",
       "      <td>...</td>\n",
       "    </tr>\n",
       "    <tr>\n",
       "      <th>2546</th>\n",
       "      <td>12364</td>\n",
       "      <td>0</td>\n",
       "      <td>147750.0</td>\n",
       "      <td>0.529873</td>\n",
       "      <td>0.505443</td>\n",
       "      <td>0.592399</td>\n",
       "      <td>0.706639</td>\n",
       "      <td>0.530477</td>\n",
       "      <td>0.670123</td>\n",
       "      <td>0.619327</td>\n",
       "      <td>0.65</td>\n",
       "    </tr>\n",
       "    <tr>\n",
       "      <th>2547</th>\n",
       "      <td>12365</td>\n",
       "      <td>0</td>\n",
       "      <td>45054.9</td>\n",
       "      <td>0.454772</td>\n",
       "      <td>0.382953</td>\n",
       "      <td>0.461864</td>\n",
       "      <td>0.539541</td>\n",
       "      <td>0.530477</td>\n",
       "      <td>0.361980</td>\n",
       "      <td>0.539074</td>\n",
       "      <td>0.35</td>\n",
       "    </tr>\n",
       "    <tr>\n",
       "      <th>2548</th>\n",
       "      <td>12366</td>\n",
       "      <td>0</td>\n",
       "      <td>100122.0</td>\n",
       "      <td>0.454772</td>\n",
       "      <td>0.382953</td>\n",
       "      <td>0.461864</td>\n",
       "      <td>0.539541</td>\n",
       "      <td>0.530477</td>\n",
       "      <td>0.361980</td>\n",
       "      <td>0.539074</td>\n",
       "      <td>0.35</td>\n",
       "    </tr>\n",
       "    <tr>\n",
       "      <th>2549</th>\n",
       "      <td>12367</td>\n",
       "      <td>0</td>\n",
       "      <td>143220.0</td>\n",
       "      <td>0.454772</td>\n",
       "      <td>0.343669</td>\n",
       "      <td>0.461864</td>\n",
       "      <td>0.539541</td>\n",
       "      <td>0.683635</td>\n",
       "      <td>0.360420</td>\n",
       "      <td>0.562518</td>\n",
       "      <td>0.39</td>\n",
       "    </tr>\n",
       "    <tr>\n",
       "      <th>2550</th>\n",
       "      <td>12368</td>\n",
       "      <td>3</td>\n",
       "      <td>871020.8</td>\n",
       "      <td>0.529873</td>\n",
       "      <td>0.652967</td>\n",
       "      <td>0.648118</td>\n",
       "      <td>0.706639</td>\n",
       "      <td>0.530477</td>\n",
       "      <td>0.546351</td>\n",
       "      <td>0.656916</td>\n",
       "      <td>0.21</td>\n",
       "    </tr>\n",
       "  </tbody>\n",
       "</table>\n",
       "<p>2551 rows × 11 columns</p>\n",
       "</div>"
      ],
      "text/plain": [
       "      Opportunity_ID  TRF  Total_Taxable_Amount  Region_enc  Territory_enc  \\\n",
       "0              10689    0              367419.0    0.529873       0.607935   \n",
       "1              10689    0              367419.0    0.529873       0.607935   \n",
       "2              10689    0              367419.0    0.529873       0.607935   \n",
       "3              10690    1              757783.5    0.529873       0.607935   \n",
       "4              10690    0              757783.5    0.529873       0.607935   \n",
       "...              ...  ...                   ...         ...            ...   \n",
       "2546           12364    0              147750.0    0.529873       0.505443   \n",
       "2547           12365    0               45054.9    0.454772       0.382953   \n",
       "2548           12366    0              100122.0    0.454772       0.382953   \n",
       "2549           12367    0              143220.0    0.454772       0.343669   \n",
       "2550           12368    3              871020.8    0.529873       0.652967   \n",
       "\n",
       "      Billing_Country_enc  Account_Type_enc  Opportunity_Type_enc  \\\n",
       "0                0.566931          0.706639              0.701380   \n",
       "1                0.566931          0.706639              0.701380   \n",
       "2                0.566931          0.706639              0.701380   \n",
       "3                0.566931          0.706639              0.701380   \n",
       "4                0.566931          0.706639              0.701380   \n",
       "...                   ...               ...                   ...   \n",
       "2546             0.592399          0.706639              0.530477   \n",
       "2547             0.461864          0.539541              0.530477   \n",
       "2548             0.461864          0.539541              0.530477   \n",
       "2549             0.461864          0.539541              0.683635   \n",
       "2550             0.648118          0.706639              0.530477   \n",
       "\n",
       "      Account_Owner_enc  Account_Name_enc  target  \n",
       "0              0.670123          0.501715    0.60  \n",
       "1              0.670123          0.501715    0.60  \n",
       "2              0.670123          0.501715    0.60  \n",
       "3              0.670123          0.501715    0.25  \n",
       "4              0.670123          0.501715    0.68  \n",
       "...                 ...               ...     ...  \n",
       "2546           0.670123          0.619327    0.65  \n",
       "2547           0.361980          0.539074    0.35  \n",
       "2548           0.361980          0.539074    0.35  \n",
       "2549           0.360420          0.562518    0.39  \n",
       "2550           0.546351          0.656916    0.21  \n",
       "\n",
       "[2551 rows x 11 columns]"
      ]
     },
     "execution_count": 95,
     "metadata": {},
     "output_type": "execute_result"
    }
   ],
   "source": [
    "test"
   ]
  },
  {
   "cell_type": "code",
   "execution_count": null,
   "metadata": {},
   "outputs": [],
   "source": [
    "###xgboost"
   ]
  },
  {
   "cell_type": "code",
   "execution_count": 113,
   "metadata": {},
   "outputs": [],
   "source": [
    "xg_reg = xgb.XGBClassifier(objective ='reg:squaredlogerror', \n",
    "                colsample_bytree = 0.3, learning_rate = 0.1,\n",
    "                max_depth = 5, alpha = 10, n_estimators = 10)"
   ]
  },
  {
   "cell_type": "code",
   "execution_count": 117,
   "metadata": {},
   "outputs": [
    {
     "name": "stderr",
     "output_type": "stream",
     "text": [
      "C:\\Users\\Julia\\anaconda3\\lib\\site-packages\\xgboost\\sklearn.py:888: UserWarning: The use of label encoder in XGBClassifier is deprecated and will be removed in a future release. To remove this warning, do the following: 1) Pass option use_label_encoder=False when constructing XGBClassifier object; and 2) Encode your labels (y) as integers starting with 0, i.e. 0, 1, 2, ..., [num_class - 1].\n",
      "  warnings.warn(label_encoder_deprecation_msg, UserWarning)\n"
     ]
    },
    {
     "data": {
      "text/plain": [
       "XGBClassifier(alpha=10, base_score=0.5, booster='gbtree', colsample_bylevel=1,\n",
       "              colsample_bynode=1, colsample_bytree=0.3, gamma=0, gpu_id=-1,\n",
       "              importance_type='gain', interaction_constraints='',\n",
       "              learning_rate=0.1, max_delta_step=0, max_depth=5,\n",
       "              min_child_weight=1, missing=nan, monotone_constraints='()',\n",
       "              n_estimators=10, n_jobs=4, num_parallel_tree=1,\n",
       "              objective='reg:squaredlogerror', random_state=0, reg_alpha=10,\n",
       "              reg_lambda=1, scale_pos_weight=1, subsample=1,\n",
       "              tree_method='exact', validate_parameters=1, verbosity=None)"
      ]
     },
     "execution_count": 117,
     "metadata": {},
     "output_type": "execute_result"
    }
   ],
   "source": [
    "xg_reg.fit(X_train,y_train)"
   ]
  },
  {
   "cell_type": "code",
   "execution_count": 119,
   "metadata": {},
   "outputs": [],
   "source": [
    "preds = xg_reg.predict(X_test)"
   ]
  },
  {
   "cell_type": "code",
   "execution_count": 120,
   "metadata": {},
   "outputs": [
    {
     "name": "stdout",
     "output_type": "stream",
     "text": [
      "Sklearn LogLoss: 8.09987\n"
     ]
    }
   ],
   "source": [
    "print('Sklearn LogLoss: {:.5f}'.format(log_loss(y_test, preds)))"
   ]
  },
  {
   "cell_type": "code",
   "execution_count": 127,
   "metadata": {},
   "outputs": [],
   "source": [
    "test= test.drop(['target'], axis=1)"
   ]
  },
  {
   "cell_type": "code",
   "execution_count": 128,
   "metadata": {},
   "outputs": [
    {
     "ename": "KeyError",
     "evalue": "\"['Target'] not found in axis\"",
     "output_type": "error",
     "traceback": [
      "\u001b[1;31m---------------------------------------------------------------------------\u001b[0m",
      "\u001b[1;31mKeyError\u001b[0m                                  Traceback (most recent call last)",
      "\u001b[1;32m<ipython-input-128-28446c5d3411>\u001b[0m in \u001b[0;36m<module>\u001b[1;34m\u001b[0m\n\u001b[1;32m----> 1\u001b[1;33m \u001b[0mtest\u001b[0m \u001b[1;33m=\u001b[0m \u001b[0mtest\u001b[0m\u001b[1;33m.\u001b[0m\u001b[0mdrop\u001b[0m\u001b[1;33m(\u001b[0m\u001b[1;33m[\u001b[0m\u001b[1;34m'Target'\u001b[0m\u001b[1;33m]\u001b[0m\u001b[1;33m,\u001b[0m \u001b[0maxis\u001b[0m\u001b[1;33m=\u001b[0m\u001b[1;36m1\u001b[0m\u001b[1;33m)\u001b[0m\u001b[1;33m\u001b[0m\u001b[1;33m\u001b[0m\u001b[0m\n\u001b[0m",
      "\u001b[1;32m~\\anaconda3\\lib\\site-packages\\pandas\\core\\frame.py\u001b[0m in \u001b[0;36mdrop\u001b[1;34m(self, labels, axis, index, columns, level, inplace, errors)\u001b[0m\n\u001b[0;32m   4161\u001b[0m                 \u001b[0mweight\u001b[0m  \u001b[1;36m1.0\u001b[0m     \u001b[1;36m0.8\u001b[0m\u001b[1;33m\u001b[0m\u001b[1;33m\u001b[0m\u001b[0m\n\u001b[0;32m   4162\u001b[0m         \"\"\"\n\u001b[1;32m-> 4163\u001b[1;33m         return super().drop(\n\u001b[0m\u001b[0;32m   4164\u001b[0m             \u001b[0mlabels\u001b[0m\u001b[1;33m=\u001b[0m\u001b[0mlabels\u001b[0m\u001b[1;33m,\u001b[0m\u001b[1;33m\u001b[0m\u001b[1;33m\u001b[0m\u001b[0m\n\u001b[0;32m   4165\u001b[0m             \u001b[0maxis\u001b[0m\u001b[1;33m=\u001b[0m\u001b[0maxis\u001b[0m\u001b[1;33m,\u001b[0m\u001b[1;33m\u001b[0m\u001b[1;33m\u001b[0m\u001b[0m\n",
      "\u001b[1;32m~\\anaconda3\\lib\\site-packages\\pandas\\core\\generic.py\u001b[0m in \u001b[0;36mdrop\u001b[1;34m(self, labels, axis, index, columns, level, inplace, errors)\u001b[0m\n\u001b[0;32m   3885\u001b[0m         \u001b[1;32mfor\u001b[0m \u001b[0maxis\u001b[0m\u001b[1;33m,\u001b[0m \u001b[0mlabels\u001b[0m \u001b[1;32min\u001b[0m \u001b[0maxes\u001b[0m\u001b[1;33m.\u001b[0m\u001b[0mitems\u001b[0m\u001b[1;33m(\u001b[0m\u001b[1;33m)\u001b[0m\u001b[1;33m:\u001b[0m\u001b[1;33m\u001b[0m\u001b[1;33m\u001b[0m\u001b[0m\n\u001b[0;32m   3886\u001b[0m             \u001b[1;32mif\u001b[0m \u001b[0mlabels\u001b[0m \u001b[1;32mis\u001b[0m \u001b[1;32mnot\u001b[0m \u001b[1;32mNone\u001b[0m\u001b[1;33m:\u001b[0m\u001b[1;33m\u001b[0m\u001b[1;33m\u001b[0m\u001b[0m\n\u001b[1;32m-> 3887\u001b[1;33m                 \u001b[0mobj\u001b[0m \u001b[1;33m=\u001b[0m \u001b[0mobj\u001b[0m\u001b[1;33m.\u001b[0m\u001b[0m_drop_axis\u001b[0m\u001b[1;33m(\u001b[0m\u001b[0mlabels\u001b[0m\u001b[1;33m,\u001b[0m \u001b[0maxis\u001b[0m\u001b[1;33m,\u001b[0m \u001b[0mlevel\u001b[0m\u001b[1;33m=\u001b[0m\u001b[0mlevel\u001b[0m\u001b[1;33m,\u001b[0m \u001b[0merrors\u001b[0m\u001b[1;33m=\u001b[0m\u001b[0merrors\u001b[0m\u001b[1;33m)\u001b[0m\u001b[1;33m\u001b[0m\u001b[1;33m\u001b[0m\u001b[0m\n\u001b[0m\u001b[0;32m   3888\u001b[0m \u001b[1;33m\u001b[0m\u001b[0m\n\u001b[0;32m   3889\u001b[0m         \u001b[1;32mif\u001b[0m \u001b[0minplace\u001b[0m\u001b[1;33m:\u001b[0m\u001b[1;33m\u001b[0m\u001b[1;33m\u001b[0m\u001b[0m\n",
      "\u001b[1;32m~\\anaconda3\\lib\\site-packages\\pandas\\core\\generic.py\u001b[0m in \u001b[0;36m_drop_axis\u001b[1;34m(self, labels, axis, level, errors)\u001b[0m\n\u001b[0;32m   3919\u001b[0m                 \u001b[0mnew_axis\u001b[0m \u001b[1;33m=\u001b[0m \u001b[0maxis\u001b[0m\u001b[1;33m.\u001b[0m\u001b[0mdrop\u001b[0m\u001b[1;33m(\u001b[0m\u001b[0mlabels\u001b[0m\u001b[1;33m,\u001b[0m \u001b[0mlevel\u001b[0m\u001b[1;33m=\u001b[0m\u001b[0mlevel\u001b[0m\u001b[1;33m,\u001b[0m \u001b[0merrors\u001b[0m\u001b[1;33m=\u001b[0m\u001b[0merrors\u001b[0m\u001b[1;33m)\u001b[0m\u001b[1;33m\u001b[0m\u001b[1;33m\u001b[0m\u001b[0m\n\u001b[0;32m   3920\u001b[0m             \u001b[1;32melse\u001b[0m\u001b[1;33m:\u001b[0m\u001b[1;33m\u001b[0m\u001b[1;33m\u001b[0m\u001b[0m\n\u001b[1;32m-> 3921\u001b[1;33m                 \u001b[0mnew_axis\u001b[0m \u001b[1;33m=\u001b[0m \u001b[0maxis\u001b[0m\u001b[1;33m.\u001b[0m\u001b[0mdrop\u001b[0m\u001b[1;33m(\u001b[0m\u001b[0mlabels\u001b[0m\u001b[1;33m,\u001b[0m \u001b[0merrors\u001b[0m\u001b[1;33m=\u001b[0m\u001b[0merrors\u001b[0m\u001b[1;33m)\u001b[0m\u001b[1;33m\u001b[0m\u001b[1;33m\u001b[0m\u001b[0m\n\u001b[0m\u001b[0;32m   3922\u001b[0m             \u001b[0mresult\u001b[0m \u001b[1;33m=\u001b[0m \u001b[0mself\u001b[0m\u001b[1;33m.\u001b[0m\u001b[0mreindex\u001b[0m\u001b[1;33m(\u001b[0m\u001b[1;33m**\u001b[0m\u001b[1;33m{\u001b[0m\u001b[0maxis_name\u001b[0m\u001b[1;33m:\u001b[0m \u001b[0mnew_axis\u001b[0m\u001b[1;33m}\u001b[0m\u001b[1;33m)\u001b[0m\u001b[1;33m\u001b[0m\u001b[1;33m\u001b[0m\u001b[0m\n\u001b[0;32m   3923\u001b[0m \u001b[1;33m\u001b[0m\u001b[0m\n",
      "\u001b[1;32m~\\anaconda3\\lib\\site-packages\\pandas\\core\\indexes\\base.py\u001b[0m in \u001b[0;36mdrop\u001b[1;34m(self, labels, errors)\u001b[0m\n\u001b[0;32m   5280\u001b[0m         \u001b[1;32mif\u001b[0m \u001b[0mmask\u001b[0m\u001b[1;33m.\u001b[0m\u001b[0many\u001b[0m\u001b[1;33m(\u001b[0m\u001b[1;33m)\u001b[0m\u001b[1;33m:\u001b[0m\u001b[1;33m\u001b[0m\u001b[1;33m\u001b[0m\u001b[0m\n\u001b[0;32m   5281\u001b[0m             \u001b[1;32mif\u001b[0m \u001b[0merrors\u001b[0m \u001b[1;33m!=\u001b[0m \u001b[1;34m\"ignore\"\u001b[0m\u001b[1;33m:\u001b[0m\u001b[1;33m\u001b[0m\u001b[1;33m\u001b[0m\u001b[0m\n\u001b[1;32m-> 5282\u001b[1;33m                 \u001b[1;32mraise\u001b[0m \u001b[0mKeyError\u001b[0m\u001b[1;33m(\u001b[0m\u001b[1;34mf\"{labels[mask]} not found in axis\"\u001b[0m\u001b[1;33m)\u001b[0m\u001b[1;33m\u001b[0m\u001b[1;33m\u001b[0m\u001b[0m\n\u001b[0m\u001b[0;32m   5283\u001b[0m             \u001b[0mindexer\u001b[0m \u001b[1;33m=\u001b[0m \u001b[0mindexer\u001b[0m\u001b[1;33m[\u001b[0m\u001b[1;33m~\u001b[0m\u001b[0mmask\u001b[0m\u001b[1;33m]\u001b[0m\u001b[1;33m\u001b[0m\u001b[1;33m\u001b[0m\u001b[0m\n\u001b[0;32m   5284\u001b[0m         \u001b[1;32mreturn\u001b[0m \u001b[0mself\u001b[0m\u001b[1;33m.\u001b[0m\u001b[0mdelete\u001b[0m\u001b[1;33m(\u001b[0m\u001b[0mindexer\u001b[0m\u001b[1;33m)\u001b[0m\u001b[1;33m\u001b[0m\u001b[1;33m\u001b[0m\u001b[0m\n",
      "\u001b[1;31mKeyError\u001b[0m: \"['Target'] not found in axis\""
     ]
    }
   ],
   "source": [
    "test = test.drop(['Target'], axis=1)"
   ]
  },
  {
   "cell_type": "code",
   "execution_count": 129,
   "metadata": {},
   "outputs": [],
   "source": [
    "preds_test = xg_reg.predict_proba(test)"
   ]
  },
  {
   "cell_type": "code",
   "execution_count": 130,
   "metadata": {},
   "outputs": [
    {
     "data": {
      "text/html": [
       "<div>\n",
       "<style scoped>\n",
       "    .dataframe tbody tr th:only-of-type {\n",
       "        vertical-align: middle;\n",
       "    }\n",
       "\n",
       "    .dataframe tbody tr th {\n",
       "        vertical-align: top;\n",
       "    }\n",
       "\n",
       "    .dataframe thead th {\n",
       "        text-align: right;\n",
       "    }\n",
       "</style>\n",
       "<table border=\"1\" class=\"dataframe\">\n",
       "  <thead>\n",
       "    <tr style=\"text-align: right;\">\n",
       "      <th></th>\n",
       "      <th>Opportunity_ID</th>\n",
       "      <th>TRF</th>\n",
       "      <th>Total_Taxable_Amount</th>\n",
       "      <th>Region_enc</th>\n",
       "      <th>Territory_enc</th>\n",
       "      <th>Billing_Country_enc</th>\n",
       "      <th>Account_Type_enc</th>\n",
       "      <th>Opportunity_Type_enc</th>\n",
       "      <th>Account_Owner_enc</th>\n",
       "      <th>Account_Name_enc</th>\n",
       "    </tr>\n",
       "  </thead>\n",
       "  <tbody>\n",
       "    <tr>\n",
       "      <th>0</th>\n",
       "      <td>10689</td>\n",
       "      <td>0</td>\n",
       "      <td>367419.0</td>\n",
       "      <td>0.529873</td>\n",
       "      <td>0.607935</td>\n",
       "      <td>0.566931</td>\n",
       "      <td>0.706639</td>\n",
       "      <td>0.70138</td>\n",
       "      <td>0.670123</td>\n",
       "      <td>0.501715</td>\n",
       "    </tr>\n",
       "    <tr>\n",
       "      <th>1</th>\n",
       "      <td>10689</td>\n",
       "      <td>0</td>\n",
       "      <td>367419.0</td>\n",
       "      <td>0.529873</td>\n",
       "      <td>0.607935</td>\n",
       "      <td>0.566931</td>\n",
       "      <td>0.706639</td>\n",
       "      <td>0.70138</td>\n",
       "      <td>0.670123</td>\n",
       "      <td>0.501715</td>\n",
       "    </tr>\n",
       "    <tr>\n",
       "      <th>2</th>\n",
       "      <td>10689</td>\n",
       "      <td>0</td>\n",
       "      <td>367419.0</td>\n",
       "      <td>0.529873</td>\n",
       "      <td>0.607935</td>\n",
       "      <td>0.566931</td>\n",
       "      <td>0.706639</td>\n",
       "      <td>0.70138</td>\n",
       "      <td>0.670123</td>\n",
       "      <td>0.501715</td>\n",
       "    </tr>\n",
       "    <tr>\n",
       "      <th>3</th>\n",
       "      <td>10690</td>\n",
       "      <td>1</td>\n",
       "      <td>757783.5</td>\n",
       "      <td>0.529873</td>\n",
       "      <td>0.607935</td>\n",
       "      <td>0.566931</td>\n",
       "      <td>0.706639</td>\n",
       "      <td>0.70138</td>\n",
       "      <td>0.670123</td>\n",
       "      <td>0.501715</td>\n",
       "    </tr>\n",
       "    <tr>\n",
       "      <th>4</th>\n",
       "      <td>10690</td>\n",
       "      <td>0</td>\n",
       "      <td>757783.5</td>\n",
       "      <td>0.529873</td>\n",
       "      <td>0.607935</td>\n",
       "      <td>0.566931</td>\n",
       "      <td>0.706639</td>\n",
       "      <td>0.70138</td>\n",
       "      <td>0.670123</td>\n",
       "      <td>0.501715</td>\n",
       "    </tr>\n",
       "  </tbody>\n",
       "</table>\n",
       "</div>"
      ],
      "text/plain": [
       "   Opportunity_ID  TRF  Total_Taxable_Amount  Region_enc  Territory_enc  \\\n",
       "0           10689    0              367419.0    0.529873       0.607935   \n",
       "1           10689    0              367419.0    0.529873       0.607935   \n",
       "2           10689    0              367419.0    0.529873       0.607935   \n",
       "3           10690    1              757783.5    0.529873       0.607935   \n",
       "4           10690    0              757783.5    0.529873       0.607935   \n",
       "\n",
       "   Billing_Country_enc  Account_Type_enc  Opportunity_Type_enc  \\\n",
       "0             0.566931          0.706639               0.70138   \n",
       "1             0.566931          0.706639               0.70138   \n",
       "2             0.566931          0.706639               0.70138   \n",
       "3             0.566931          0.706639               0.70138   \n",
       "4             0.566931          0.706639               0.70138   \n",
       "\n",
       "   Account_Owner_enc  Account_Name_enc  \n",
       "0           0.670123          0.501715  \n",
       "1           0.670123          0.501715  \n",
       "2           0.670123          0.501715  \n",
       "3           0.670123          0.501715  \n",
       "4           0.670123          0.501715  "
      ]
     },
     "execution_count": 130,
     "metadata": {},
     "output_type": "execute_result"
    }
   ],
   "source": [
    "test.head()"
   ]
  },
  {
   "cell_type": "code",
   "execution_count": 131,
   "metadata": {},
   "outputs": [],
   "source": [
    "preds_test = preds_test[:, 1]"
   ]
  },
  {
   "cell_type": "code",
   "execution_count": 132,
   "metadata": {},
   "outputs": [],
   "source": [
    "preds_test = preds_test[:, 1]\n",
    "test['Target']=preds_test\n",
    "sub= test[['Opportunity_ID','Target']]\n",
    "sub1=sub.groupby(['Opportunity_ID'], as_index=False).mean()\n",
    "sub1[['Opportunity_ID', 'Target']].to_csv('submission5.csv', index=False)"
   ]
  },
  {
   "cell_type": "code",
   "execution_count": null,
   "metadata": {},
   "outputs": [],
   "source": [
    "###fin de submission"
   ]
  },
  {
   "cell_type": "code",
   "execution_count": null,
   "metadata": {},
   "outputs": [],
   "source": []
  },
  {
   "cell_type": "code",
   "execution_count": 49,
   "metadata": {},
   "outputs": [
    {
     "data": {
      "text/plain": [
       "array([[0.4 , 0.6 ],\n",
       "       [0.4 , 0.6 ],\n",
       "       [0.4 , 0.6 ],\n",
       "       ...,\n",
       "       [0.65, 0.35],\n",
       "       [0.61, 0.39],\n",
       "       [0.79, 0.21]])"
      ]
     },
     "execution_count": 49,
     "metadata": {},
     "output_type": "execute_result"
    }
   ],
   "source": [
    "preds_test"
   ]
  },
  {
   "cell_type": "code",
   "execution_count": 72,
   "metadata": {},
   "outputs": [
    {
     "data": {
      "text/plain": [
       "array([[0.4 , 0.6 ],\n",
       "       [0.4 , 0.6 ],\n",
       "       [0.4 , 0.6 ],\n",
       "       ...,\n",
       "       [0.65, 0.35],\n",
       "       [0.61, 0.39],\n",
       "       [0.79, 0.21]])"
      ]
     },
     "execution_count": 72,
     "metadata": {},
     "output_type": "execute_result"
    }
   ],
   "source": [
    "preds_test "
   ]
  },
  {
   "cell_type": "code",
   "execution_count": null,
   "metadata": {},
   "outputs": [],
   "source": []
  },
  {
   "cell_type": "code",
   "execution_count": 74,
   "metadata": {},
   "outputs": [],
   "source": [
    "# Define your own LogLoss function\n",
    "def own_logloss(y_true, prob_pred):\n",
    "  \t# Find loss for each observation\n",
    "    terms = y_true * np.log(prob_pred) + (1 - y_true) * np.log(1 - prob_pred)\n",
    "    # Find mean over all observations\n",
    "    err = np.mean(terms)   \n",
    "    return -err\n"
   ]
  },
  {
   "cell_type": "code",
   "execution_count": 75,
   "metadata": {},
   "outputs": [
    {
     "name": "stderr",
     "output_type": "stream",
     "text": [
      "<ipython-input-74-3858206bf2f4>:4: RuntimeWarning: divide by zero encountered in log\n",
      "  terms = y_true * np.log(prob_pred) + (1 - y_true) * np.log(1 - prob_pred)\n",
      "<ipython-input-74-3858206bf2f4>:4: RuntimeWarning: invalid value encountered in log\n",
      "  terms = y_true * np.log(prob_pred) + (1 - y_true) * np.log(1 - prob_pred)\n"
     ]
    },
    {
     "ename": "TypeError",
     "evalue": "unsupported format string passed to Series.__format__",
     "output_type": "error",
     "traceback": [
      "\u001b[1;31m---------------------------------------------------------------------------\u001b[0m",
      "\u001b[1;31mTypeError\u001b[0m                                 Traceback (most recent call last)",
      "\u001b[1;32m<ipython-input-75-5d4e35924b19>\u001b[0m in \u001b[0;36m<module>\u001b[1;34m\u001b[0m\n\u001b[1;32m----> 1\u001b[1;33m \u001b[0mprint\u001b[0m\u001b[1;33m(\u001b[0m\u001b[1;34m'Your LogLoss: {:.5f}'\u001b[0m\u001b[1;33m.\u001b[0m\u001b[0mformat\u001b[0m\u001b[1;33m(\u001b[0m\u001b[0mown_logloss\u001b[0m\u001b[1;33m(\u001b[0m\u001b[0my_test\u001b[0m\u001b[1;33m,\u001b[0m \u001b[0mpreds\u001b[0m\u001b[1;33m)\u001b[0m\u001b[1;33m)\u001b[0m\u001b[1;33m)\u001b[0m\u001b[1;33m\u001b[0m\u001b[1;33m\u001b[0m\u001b[0m\n\u001b[0m",
      "\u001b[1;31mTypeError\u001b[0m: unsupported format string passed to Series.__format__"
     ]
    }
   ],
   "source": [
    "print('Your LogLoss: {:.5f}'.format(own_logloss(y_test, preds)))"
   ]
  },
  {
   "cell_type": "code",
   "execution_count": 39,
   "metadata": {},
   "outputs": [
    {
     "data": {
      "text/plain": [
       "(3390, 2)"
      ]
     },
     "execution_count": 39,
     "metadata": {},
     "output_type": "execute_result"
    }
   ],
   "source": [
    "preds.shape"
   ]
  },
  {
   "cell_type": "code",
   "execution_count": 40,
   "metadata": {},
   "outputs": [
    {
     "data": {
      "text/plain": [
       "(3390,)"
      ]
     },
     "execution_count": 40,
     "metadata": {},
     "output_type": "execute_result"
    }
   ],
   "source": [
    "y_test.shape"
   ]
  },
  {
   "cell_type": "code",
   "execution_count": null,
   "metadata": {},
   "outputs": [],
   "source": [
    "preds = rf_model.predict(test)"
   ]
  },
  {
   "cell_type": "code",
   "execution_count": null,
   "metadata": {},
   "outputs": [],
   "source": [
    "len(preds)"
   ]
  },
  {
   "cell_type": "code",
   "execution_count": null,
   "metadata": {},
   "outputs": [],
   "source": [
    "test['Stage'] = preds"
   ]
  },
  {
   "cell_type": "code",
   "execution_count": 64,
   "metadata": {},
   "outputs": [],
   "source": [
    "from sklearn.ensemble import RandomForestRegressor\n",
    "from sklearn.metrics import mean_squared_error"
   ]
  },
  {
   "cell_type": "code",
   "execution_count": 65,
   "metadata": {},
   "outputs": [
    {
     "data": {
      "text/plain": [
       "RandomForestRegressor(random_state=1)"
      ]
     },
     "execution_count": 65,
     "metadata": {},
     "output_type": "execute_result"
    }
   ],
   "source": [
    "rf_model = RandomForestRegressor(random_state=1)\n",
    "rf_model.fit(X_train, y_train)"
   ]
  },
  {
   "cell_type": "code",
   "execution_count": 70,
   "metadata": {},
   "outputs": [],
   "source": [
    "preds = rf_model.predict=(X_test)"
   ]
  },
  {
   "cell_type": "code",
   "execution_count": 67,
   "metadata": {},
   "outputs": [
    {
     "data": {
      "text/plain": [
       "array([0.51, 0.84, 1.  , ..., 0.99, 0.08, 0.11])"
      ]
     },
     "execution_count": 67,
     "metadata": {},
     "output_type": "execute_result"
    }
   ],
   "source": [
    "preds"
   ]
  },
  {
   "cell_type": "code",
   "execution_count": 68,
   "metadata": {},
   "outputs": [
    {
     "name": "stdout",
     "output_type": "stream",
     "text": [
      "RMSE: 0.296379\n"
     ]
    }
   ],
   "source": [
    "rmse = np.sqrt(mean_squared_error(y_test, preds))\n",
    "print(\"RMSE: %f\" % (rmse))"
   ]
  },
  {
   "cell_type": "code",
   "execution_count": 71,
   "metadata": {},
   "outputs": [
    {
     "ename": "ValueError",
     "evalue": "y_true and y_pred contain different number of classes 2, 10. Please provide the true labels explicitly through the labels argument. Classes found in y_true: [0. 1.]",
     "output_type": "error",
     "traceback": [
      "\u001b[1;31m---------------------------------------------------------------------------\u001b[0m",
      "\u001b[1;31mValueError\u001b[0m                                Traceback (most recent call last)",
      "\u001b[1;32m<ipython-input-71-58af3faddb1a>\u001b[0m in \u001b[0;36m<module>\u001b[1;34m\u001b[0m\n\u001b[1;32m----> 1\u001b[1;33m \u001b[0mprint\u001b[0m\u001b[1;33m(\u001b[0m\u001b[1;34m'Sklearn LogLoss: {:.5f}'\u001b[0m\u001b[1;33m.\u001b[0m\u001b[0mformat\u001b[0m\u001b[1;33m(\u001b[0m\u001b[0mlog_loss\u001b[0m\u001b[1;33m(\u001b[0m\u001b[0my_test\u001b[0m\u001b[1;33m,\u001b[0m \u001b[0mpreds\u001b[0m\u001b[1;33m)\u001b[0m\u001b[1;33m)\u001b[0m\u001b[1;33m)\u001b[0m\u001b[1;33m\u001b[0m\u001b[1;33m\u001b[0m\u001b[0m\n\u001b[0m",
      "\u001b[1;32m~\\anaconda3\\lib\\site-packages\\sklearn\\utils\\validation.py\u001b[0m in \u001b[0;36minner_f\u001b[1;34m(*args, **kwargs)\u001b[0m\n\u001b[0;32m     70\u001b[0m                           FutureWarning)\n\u001b[0;32m     71\u001b[0m         \u001b[0mkwargs\u001b[0m\u001b[1;33m.\u001b[0m\u001b[0mupdate\u001b[0m\u001b[1;33m(\u001b[0m\u001b[1;33m{\u001b[0m\u001b[0mk\u001b[0m\u001b[1;33m:\u001b[0m \u001b[0marg\u001b[0m \u001b[1;32mfor\u001b[0m \u001b[0mk\u001b[0m\u001b[1;33m,\u001b[0m \u001b[0marg\u001b[0m \u001b[1;32min\u001b[0m \u001b[0mzip\u001b[0m\u001b[1;33m(\u001b[0m\u001b[0msig\u001b[0m\u001b[1;33m.\u001b[0m\u001b[0mparameters\u001b[0m\u001b[1;33m,\u001b[0m \u001b[0margs\u001b[0m\u001b[1;33m)\u001b[0m\u001b[1;33m}\u001b[0m\u001b[1;33m)\u001b[0m\u001b[1;33m\u001b[0m\u001b[1;33m\u001b[0m\u001b[0m\n\u001b[1;32m---> 72\u001b[1;33m         \u001b[1;32mreturn\u001b[0m \u001b[0mf\u001b[0m\u001b[1;33m(\u001b[0m\u001b[1;33m**\u001b[0m\u001b[0mkwargs\u001b[0m\u001b[1;33m)\u001b[0m\u001b[1;33m\u001b[0m\u001b[1;33m\u001b[0m\u001b[0m\n\u001b[0m\u001b[0;32m     73\u001b[0m     \u001b[1;32mreturn\u001b[0m \u001b[0minner_f\u001b[0m\u001b[1;33m\u001b[0m\u001b[1;33m\u001b[0m\u001b[0m\n\u001b[0;32m     74\u001b[0m \u001b[1;33m\u001b[0m\u001b[0m\n",
      "\u001b[1;32m~\\anaconda3\\lib\\site-packages\\sklearn\\metrics\\_classification.py\u001b[0m in \u001b[0;36mlog_loss\u001b[1;34m(y_true, y_pred, eps, normalize, sample_weight, labels)\u001b[0m\n\u001b[0;32m   2224\u001b[0m     \u001b[1;32mif\u001b[0m \u001b[0mlen\u001b[0m\u001b[1;33m(\u001b[0m\u001b[0mlb\u001b[0m\u001b[1;33m.\u001b[0m\u001b[0mclasses_\u001b[0m\u001b[1;33m)\u001b[0m \u001b[1;33m!=\u001b[0m \u001b[0my_pred\u001b[0m\u001b[1;33m.\u001b[0m\u001b[0mshape\u001b[0m\u001b[1;33m[\u001b[0m\u001b[1;36m1\u001b[0m\u001b[1;33m]\u001b[0m\u001b[1;33m:\u001b[0m\u001b[1;33m\u001b[0m\u001b[1;33m\u001b[0m\u001b[0m\n\u001b[0;32m   2225\u001b[0m         \u001b[1;32mif\u001b[0m \u001b[0mlabels\u001b[0m \u001b[1;32mis\u001b[0m \u001b[1;32mNone\u001b[0m\u001b[1;33m:\u001b[0m\u001b[1;33m\u001b[0m\u001b[1;33m\u001b[0m\u001b[0m\n\u001b[1;32m-> 2226\u001b[1;33m             raise ValueError(\"y_true and y_pred contain different number of \"\n\u001b[0m\u001b[0;32m   2227\u001b[0m                              \u001b[1;34m\"classes {0}, {1}. Please provide the true \"\u001b[0m\u001b[1;33m\u001b[0m\u001b[1;33m\u001b[0m\u001b[0m\n\u001b[0;32m   2228\u001b[0m                              \u001b[1;34m\"labels explicitly through the labels argument. \"\u001b[0m\u001b[1;33m\u001b[0m\u001b[1;33m\u001b[0m\u001b[0m\n",
      "\u001b[1;31mValueError\u001b[0m: y_true and y_pred contain different number of classes 2, 10. Please provide the true labels explicitly through the labels argument. Classes found in y_true: [0. 1.]"
     ]
    }
   ],
   "source": [
    "print('Sklearn LogLoss: {:.5f}'.format(log_loss(y_test, preds)))"
   ]
  }
 ],
 "metadata": {
  "kernelspec": {
   "display_name": "Python 3",
   "language": "python",
   "name": "python3"
  },
  "language_info": {
   "codemirror_mode": {
    "name": "ipython",
    "version": 3
   },
   "file_extension": ".py",
   "mimetype": "text/x-python",
   "name": "python",
   "nbconvert_exporter": "python",
   "pygments_lexer": "ipython3",
   "version": "3.8.5"
  }
 },
 "nbformat": 4,
 "nbformat_minor": 4
}
