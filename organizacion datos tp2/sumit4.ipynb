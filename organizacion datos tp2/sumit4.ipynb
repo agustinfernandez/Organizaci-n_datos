{
 "cells": [
  {
   "cell_type": "code",
   "execution_count": null,
   "metadata": {},
   "outputs": [],
   "source": []
  },
  {
   "cell_type": "code",
   "execution_count": 1,
   "metadata": {},
   "outputs": [],
   "source": [
    "### xgboost xgboost se quitaron features de promedio sin HT\n",
    "0.60179 \n",
    "sumit 4\n",
    "\n"
   ]
  },
  {
   "cell_type": "code",
   "execution_count": 2,
   "metadata": {},
   "outputs": [],
   "source": [
    "import xgboost as xgb\n",
    "from sklearn.ensemble import RandomForestClassifier\n",
    "from sklearn.metrics import mean_squared_error\n",
    "import pandas as pd\n",
    "import numpy as np\n",
    "%matplotlib inline\n",
    "import matplotlib.pyplot as plt\n",
    "from sklearn import tree"
   ]
  },
  {
   "cell_type": "code",
   "execution_count": 4,
   "metadata": {},
   "outputs": [],
   "source": [
    "path_dataset = 'train.csv'\n",
    "train = pd.read_csv(path_dataset)"
   ]
  },
  {
   "cell_type": "code",
   "execution_count": 3,
   "metadata": {},
   "outputs": [],
   "source": [
    "path_dataset = 'test.csv'\n",
    "test = pd.read_csv(path_dataset)"
   ]
  },
  {
   "cell_type": "code",
   "execution_count": 15,
   "metadata": {},
   "outputs": [],
   "source": [
    "#Modificar dimensiones predeterminadas de visibilidad de columnas y filas\n",
    "x = 52\n",
    "pd.set_option('display.max_columns', x) #Maximo de columnas a ver\n",
    "pd.set_option('display.max_rows', x) #Maximo de Filas a ver"
   ]
  },
  {
   "cell_type": "code",
   "execution_count": 5,
   "metadata": {},
   "outputs": [],
   "source": [
    "train['Stage']= (train['Stage'] == 'Closed Won') +0"
   ]
  },
  {
   "cell_type": "code",
   "execution_count": 9,
   "metadata": {},
   "outputs": [
    {
     "name": "stdout",
     "output_type": "stream",
     "text": [
      "Opportunity_ID                   int64\n",
      "Region                          object\n",
      "Billing_Country                 object\n",
      "Account_Type                    object\n",
      "Opportunity_Type                object\n",
      "Account_Owner                   object\n",
      "Account_Name                    object\n",
      "Conversión_USD                   int64\n",
      "Delivery_Quarter                object\n",
      "TRF                              int64\n",
      "Stage                          float64\n",
      "promedio_preciov_region        float64\n",
      "promedio_preciov_paises        float64\n",
      "promedio_preciov_Account       float64\n",
      "promedio_preciov_Oportunity    float64\n",
      "promedio_preciov_vendedor      float64\n",
      "Wilsonxproporcion_region       float64\n",
      "Wilsonxproporcion_paises       float64\n",
      "Wilsonxproporcion_vendedor     float64\n",
      "dtype: object\n"
     ]
    }
   ],
   "source": [
    "for column in train.columns:\n",
    "    if train[column].dtype == 'int32':\n",
    "        train[column] = train[column].astype('float64')\n",
    "print(train.dtypes)"
   ]
  },
  {
   "cell_type": "code",
   "execution_count": null,
   "metadata": {},
   "outputs": [],
   "source": [
    "['Region', 'Billing_Country', 'Account_Type','Opportunity_Type', 'Account_Owner', 'Account_Name','Delivery_Quarter']"
   ]
  },
  {
   "cell_type": "code",
   "execution_count": 6,
   "metadata": {},
   "outputs": [
    {
     "data": {
      "text/plain": [
       "(16942, 19)"
      ]
     },
     "execution_count": 6,
     "metadata": {},
     "output_type": "execute_result"
    }
   ],
   "source": [
    "train.shape"
   ]
  },
  {
   "cell_type": "code",
   "execution_count": 7,
   "metadata": {},
   "outputs": [
    {
     "data": {
      "text/plain": [
       "(2551, 18)"
      ]
     },
     "execution_count": 7,
     "metadata": {},
     "output_type": "execute_result"
    }
   ],
   "source": [
    "test.shape"
   ]
  },
  {
   "cell_type": "code",
   "execution_count": 10,
   "metadata": {},
   "outputs": [],
   "source": [
    "### Target meaning encoding"
   ]
  },
  {
   "cell_type": "code",
   "execution_count": 11,
   "metadata": {},
   "outputs": [],
   "source": [
    "# Import KFold\n",
    "from sklearn.model_selection import KFold"
   ]
  },
  {
   "cell_type": "code",
   "execution_count": 23,
   "metadata": {},
   "outputs": [],
   "source": [
    "def test_mean_target_encoding(train, test, target, categorical, alpha=5):\n",
    "    # Calculate global mean on the train data\n",
    "    global_mean = train[target].mean()\n",
    "    \n",
    "    # Group by the categorical feature and calculate its properties\n",
    "    train_groups = train.groupby(categorical)\n",
    "    category_sum = train_groups[target].sum()\n",
    "    category_size = train_groups.size()\n",
    "    \n",
    "    # Calculate smoothed mean target statistics\n",
    "    train_statistics = (category_sum + global_mean * alpha) / (category_size + alpha)\n",
    "   \n",
    "    # Apply statistics to the test data and fill new categories\n",
    "    test_feature = test[categorical].map(train_statistics).fillna(global_mean)\n",
    "    return test_feature.values"
   ]
  },
  {
   "cell_type": "code",
   "execution_count": 24,
   "metadata": {},
   "outputs": [],
   "source": [
    "def train_mean_target_encoding(train, target, categorical, alpha=5):\n",
    "    # Create 5-fold cross-validation\n",
    "    kf = KFold(n_splits=5, random_state=123, shuffle=True)\n",
    "    train_feature = pd.Series(index=train.index)\n",
    "    \n",
    "    # For each folds split\n",
    "    for train_index, test_index in kf.split(train):\n",
    "        cv_train, cv_test = train.iloc[train_index], train.iloc[test_index]\n",
    "      \n",
    "        # Calculate out-of-fold statistics and apply to cv_test\n",
    "        cv_test_feature = test_mean_target_encoding(cv_train, cv_test, target, categorical, alpha)\n",
    "        \n",
    "        # Save new feature for this particular fold\n",
    "        train_feature.iloc[test_index] = cv_test_feature       \n",
    "    return train_feature.values"
   ]
  },
  {
   "cell_type": "code",
   "execution_count": 25,
   "metadata": {},
   "outputs": [],
   "source": [
    "def mean_target_encoding(train, test, target, categorical, alpha=5):\n",
    "  \n",
    "    # Get the train feature\n",
    "    train_feature = train_mean_target_encoding(train, target, categorical, alpha)\n",
    "  \n",
    "    # Get the test feature\n",
    "    test_feature = test_mean_target_encoding(train, test, target, categorical, alpha)\n",
    "    \n",
    "    # Return new features to add to the model\n",
    "    return train_feature, test_feature"
   ]
  },
  {
   "cell_type": "code",
   "execution_count": 26,
   "metadata": {},
   "outputs": [
    {
     "data": {
      "text/plain": [
       "Index(['Opportunity_ID', 'Region', 'Billing_Country', 'Account_Type',\n",
       "       'Opportunity_Type', 'Account_Owner', 'Account_Name', 'Conversión_USD',\n",
       "       'Delivery_Quarter', 'TRF', 'Stage', 'promedio_preciov_region',\n",
       "       'promedio_preciov_paises', 'promedio_preciov_Account',\n",
       "       'promedio_preciov_Oportunity', 'promedio_preciov_vendedor',\n",
       "       'Wilsonxproporcion_region', 'Wilsonxproporcion_paises',\n",
       "       'Wilsonxproporcion_vendedor'],\n",
       "      dtype='object')"
      ]
     },
     "execution_count": 26,
     "metadata": {},
     "output_type": "execute_result"
    }
   ],
   "source": [
    "train.columns"
   ]
  },
  {
   "cell_type": "code",
   "execution_count": 27,
   "metadata": {},
   "outputs": [
    {
     "name": "stderr",
     "output_type": "stream",
     "text": [
      "<ipython-input-24-5785e70fe0cb>:4: DeprecationWarning: The default dtype for empty Series will be 'object' instead of 'float64' in a future version. Specify a dtype explicitly to silence this warning.\n",
      "  train_feature = pd.Series(index=train.index)\n"
     ]
    }
   ],
   "source": [
    "columns = ['Region', 'Billing_Country', 'Account_Type','Opportunity_Type', 'Account_Owner', 'Account_Name','Delivery_Quarter']\n",
    "for column in columns:     \n",
    "    train[column], test[column] = mean_target_encoding(train=train,\n",
    "                                                                test=test,\n",
    "                                                                target='Stage',\n",
    "                                                                categorical=column,\n",
    "                                                                alpha=10)"
   ]
  },
  {
   "cell_type": "code",
   "execution_count": 28,
   "metadata": {},
   "outputs": [
    {
     "name": "stdout",
     "output_type": "stream",
     "text": [
      "<class 'pandas.core.frame.DataFrame'>\n",
      "RangeIndex: 16942 entries, 0 to 16941\n",
      "Data columns (total 19 columns):\n",
      " #   Column                       Non-Null Count  Dtype  \n",
      "---  ------                       --------------  -----  \n",
      " 0   Opportunity_ID               16942 non-null  int64  \n",
      " 1   Region                       16942 non-null  float64\n",
      " 2   Billing_Country              16942 non-null  float64\n",
      " 3   Account_Type                 16942 non-null  float64\n",
      " 4   Opportunity_Type             16942 non-null  float64\n",
      " 5   Account_Owner                16942 non-null  float64\n",
      " 6   Account_Name                 16942 non-null  float64\n",
      " 7   Conversión_USD               16942 non-null  int64  \n",
      " 8   Delivery_Quarter             16942 non-null  float64\n",
      " 9   TRF                          16942 non-null  int64  \n",
      " 10  Stage                        16942 non-null  float64\n",
      " 11  promedio_preciov_region      16942 non-null  float64\n",
      " 12  promedio_preciov_paises      16942 non-null  float64\n",
      " 13  promedio_preciov_Account     16942 non-null  float64\n",
      " 14  promedio_preciov_Oportunity  16942 non-null  float64\n",
      " 15  promedio_preciov_vendedor    16942 non-null  float64\n",
      " 16  Wilsonxproporcion_region     16942 non-null  float64\n",
      " 17  Wilsonxproporcion_paises     16941 non-null  float64\n",
      " 18  Wilsonxproporcion_vendedor   16942 non-null  float64\n",
      "dtypes: float64(16), int64(3)\n",
      "memory usage: 2.5 MB\n"
     ]
    }
   ],
   "source": [
    "train.info()"
   ]
  },
  {
   "cell_type": "code",
   "execution_count": 29,
   "metadata": {},
   "outputs": [
    {
     "name": "stdout",
     "output_type": "stream",
     "text": [
      "<class 'pandas.core.frame.DataFrame'>\n",
      "RangeIndex: 2551 entries, 0 to 2550\n",
      "Data columns (total 18 columns):\n",
      " #   Column                       Non-Null Count  Dtype  \n",
      "---  ------                       --------------  -----  \n",
      " 0   Opportunity_ID               2551 non-null   int64  \n",
      " 1   Region                       2551 non-null   float64\n",
      " 2   Billing_Country              2551 non-null   float64\n",
      " 3   Account_Type                 2551 non-null   float64\n",
      " 4   Opportunity_Type             2551 non-null   float64\n",
      " 5   Account_Owner                2551 non-null   float64\n",
      " 6   Account_Name                 2551 non-null   float64\n",
      " 7   Conversión_USD               2551 non-null   int64  \n",
      " 8   Delivery_Quarter             2551 non-null   float64\n",
      " 9   TRF                          2551 non-null   int64  \n",
      " 10  promedio_preciov_region      2551 non-null   float64\n",
      " 11  promedio_preciov_paises      2534 non-null   float64\n",
      " 12  promedio_preciov_Account     2551 non-null   float64\n",
      " 13  promedio_preciov_Oportunity  2550 non-null   float64\n",
      " 14  promedio_preciov_vendedor    2481 non-null   float64\n",
      " 15  Wilsonxproporcion_region     2551 non-null   float64\n",
      " 16  Wilsonxproporcion_paises     2544 non-null   float64\n",
      " 17  Wilsonxproporcion_vendedor   2551 non-null   float64\n",
      "dtypes: float64(15), int64(3)\n",
      "memory usage: 358.9 KB\n"
     ]
    }
   ],
   "source": [
    "test.info()"
   ]
  },
  {
   "cell_type": "code",
   "execution_count": 30,
   "metadata": {},
   "outputs": [],
   "source": [
    "### Modelos"
   ]
  },
  {
   "cell_type": "code",
   "execution_count": 31,
   "metadata": {},
   "outputs": [],
   "source": [
    "X = train.drop(['Stage'], axis=1)\n",
    "y = train['Stage']"
   ]
  },
  {
   "cell_type": "code",
   "execution_count": 33,
   "metadata": {},
   "outputs": [],
   "source": [
    "from sklearn.model_selection import train_test_split\n",
    "\n",
    "X_train, X_test, y_train, y_test = \\\n",
    "    train_test_split(X, y, test_size=0.2, random_state=123)"
   ]
  },
  {
   "cell_type": "code",
   "execution_count": null,
   "metadata": {},
   "outputs": [],
   "source": [
    "from sklearn.metrics import log_loss"
   ]
  },
  {
   "cell_type": "code",
   "execution_count": 34,
   "metadata": {},
   "outputs": [],
   "source": [
    "xg_reg = xgb.XGBClassifier(objective ='reg:squaredlogerror', \n",
    "                colsample_bytree = 0.3, learning_rate = 0.1,\n",
    "                max_depth = 5, alpha = 10, n_estimators = 10)"
   ]
  },
  {
   "cell_type": "code",
   "execution_count": 35,
   "metadata": {},
   "outputs": [
    {
     "name": "stderr",
     "output_type": "stream",
     "text": [
      "C:\\Users\\Julia\\anaconda3\\lib\\site-packages\\xgboost\\sklearn.py:888: UserWarning: The use of label encoder in XGBClassifier is deprecated and will be removed in a future release. To remove this warning, do the following: 1) Pass option use_label_encoder=False when constructing XGBClassifier object; and 2) Encode your labels (y) as integers starting with 0, i.e. 0, 1, 2, ..., [num_class - 1].\n",
      "  warnings.warn(label_encoder_deprecation_msg, UserWarning)\n"
     ]
    },
    {
     "data": {
      "text/plain": [
       "XGBClassifier(alpha=10, base_score=0.5, booster='gbtree', colsample_bylevel=1,\n",
       "              colsample_bynode=1, colsample_bytree=0.3, gamma=0, gpu_id=-1,\n",
       "              importance_type='gain', interaction_constraints='',\n",
       "              learning_rate=0.1, max_delta_step=0, max_depth=5,\n",
       "              min_child_weight=1, missing=nan, monotone_constraints='()',\n",
       "              n_estimators=10, n_jobs=4, num_parallel_tree=1,\n",
       "              objective='reg:squaredlogerror', random_state=0, reg_alpha=10,\n",
       "              reg_lambda=1, scale_pos_weight=1, subsample=1,\n",
       "              tree_method='exact', validate_parameters=1, verbosity=None)"
      ]
     },
     "execution_count": 35,
     "metadata": {},
     "output_type": "execute_result"
    }
   ],
   "source": [
    "xg_reg.fit(X_train,y_train)"
   ]
  },
  {
   "cell_type": "code",
   "execution_count": 36,
   "metadata": {},
   "outputs": [],
   "source": [
    "preds = xg_reg.predict_proba(X_test)"
   ]
  },
  {
   "cell_type": "code",
   "execution_count": 37,
   "metadata": {},
   "outputs": [
    {
     "data": {
      "text/plain": [
       "array([[0.2527727 , 0.7472273 ],\n",
       "       [0.895456  , 0.10454397],\n",
       "       [0.895456  , 0.10454397],\n",
       "       ...,\n",
       "       [0.26887232, 0.7311277 ],\n",
       "       [0.25981343, 0.7401866 ],\n",
       "       [0.24191505, 0.75808495]], dtype=float32)"
      ]
     },
     "execution_count": 37,
     "metadata": {},
     "output_type": "execute_result"
    }
   ],
   "source": [
    "preds"
   ]
  },
  {
   "cell_type": "code",
   "execution_count": 38,
   "metadata": {},
   "outputs": [
    {
     "data": {
      "text/html": [
       "<div>\n",
       "<style scoped>\n",
       "    .dataframe tbody tr th:only-of-type {\n",
       "        vertical-align: middle;\n",
       "    }\n",
       "\n",
       "    .dataframe tbody tr th {\n",
       "        vertical-align: top;\n",
       "    }\n",
       "\n",
       "    .dataframe thead th {\n",
       "        text-align: right;\n",
       "    }\n",
       "</style>\n",
       "<table border=\"1\" class=\"dataframe\">\n",
       "  <thead>\n",
       "    <tr style=\"text-align: right;\">\n",
       "      <th></th>\n",
       "      <th>Opportunity_ID</th>\n",
       "      <th>Region</th>\n",
       "      <th>Billing_Country</th>\n",
       "      <th>Account_Type</th>\n",
       "      <th>Opportunity_Type</th>\n",
       "      <th>Account_Owner</th>\n",
       "      <th>Account_Name</th>\n",
       "      <th>Conversión_USD</th>\n",
       "      <th>Delivery_Quarter</th>\n",
       "      <th>TRF</th>\n",
       "      <th>promedio_preciov_region</th>\n",
       "      <th>promedio_preciov_paises</th>\n",
       "      <th>promedio_preciov_Account</th>\n",
       "      <th>promedio_preciov_Oportunity</th>\n",
       "      <th>promedio_preciov_vendedor</th>\n",
       "      <th>Wilsonxproporcion_region</th>\n",
       "      <th>Wilsonxproporcion_paises</th>\n",
       "      <th>Wilsonxproporcion_vendedor</th>\n",
       "    </tr>\n",
       "  </thead>\n",
       "  <tbody>\n",
       "    <tr>\n",
       "      <th>9900</th>\n",
       "      <td>6260</td>\n",
       "      <td>0.455400</td>\n",
       "      <td>0.463823</td>\n",
       "      <td>0.709296</td>\n",
       "      <td>0.686869</td>\n",
       "      <td>0.589056</td>\n",
       "      <td>0.710135</td>\n",
       "      <td>231918</td>\n",
       "      <td>0.514946</td>\n",
       "      <td>1</td>\n",
       "      <td>422783.847183</td>\n",
       "      <td>432143.813675</td>\n",
       "      <td>116533.133558</td>\n",
       "      <td>1.024004e+05</td>\n",
       "      <td>684165.342071</td>\n",
       "      <td>0.445687</td>\n",
       "      <td>0.448366</td>\n",
       "      <td>0.561500</td>\n",
       "    </tr>\n",
       "    <tr>\n",
       "      <th>1006</th>\n",
       "      <td>540</td>\n",
       "      <td>0.455400</td>\n",
       "      <td>0.463823</td>\n",
       "      <td>0.541830</td>\n",
       "      <td>0.216479</td>\n",
       "      <td>0.274424</td>\n",
       "      <td>0.340130</td>\n",
       "      <td>4126027</td>\n",
       "      <td>0.549676</td>\n",
       "      <td>11</td>\n",
       "      <td>422783.847183</td>\n",
       "      <td>0.000000</td>\n",
       "      <td>0.000000</td>\n",
       "      <td>0.000000e+00</td>\n",
       "      <td>0.000000</td>\n",
       "      <td>0.445687</td>\n",
       "      <td>0.448366</td>\n",
       "      <td>0.250712</td>\n",
       "    </tr>\n",
       "    <tr>\n",
       "      <th>4878</th>\n",
       "      <td>2898</td>\n",
       "      <td>0.585016</td>\n",
       "      <td>0.434141</td>\n",
       "      <td>0.296494</td>\n",
       "      <td>0.216479</td>\n",
       "      <td>0.486625</td>\n",
       "      <td>0.513271</td>\n",
       "      <td>4682427</td>\n",
       "      <td>0.514946</td>\n",
       "      <td>12</td>\n",
       "      <td>108927.857068</td>\n",
       "      <td>0.000000</td>\n",
       "      <td>0.000000</td>\n",
       "      <td>0.000000e+00</td>\n",
       "      <td>0.000000</td>\n",
       "      <td>0.560352</td>\n",
       "      <td>0.391691</td>\n",
       "      <td>0.453016</td>\n",
       "    </tr>\n",
       "    <tr>\n",
       "      <th>2604</th>\n",
       "      <td>1451</td>\n",
       "      <td>0.531415</td>\n",
       "      <td>0.275834</td>\n",
       "      <td>0.709296</td>\n",
       "      <td>0.531780</td>\n",
       "      <td>0.285128</td>\n",
       "      <td>0.513271</td>\n",
       "      <td>302241</td>\n",
       "      <td>0.565722</td>\n",
       "      <td>1</td>\n",
       "      <td>246888.239174</td>\n",
       "      <td>0.000000</td>\n",
       "      <td>0.000000</td>\n",
       "      <td>0.000000e+00</td>\n",
       "      <td>0.000000</td>\n",
       "      <td>0.514817</td>\n",
       "      <td>0.255594</td>\n",
       "      <td>0.262807</td>\n",
       "    </tr>\n",
       "    <tr>\n",
       "      <th>2415</th>\n",
       "      <td>1356</td>\n",
       "      <td>0.683098</td>\n",
       "      <td>0.684943</td>\n",
       "      <td>0.541830</td>\n",
       "      <td>0.686869</td>\n",
       "      <td>0.651691</td>\n",
       "      <td>0.482957</td>\n",
       "      <td>143</td>\n",
       "      <td>0.565722</td>\n",
       "      <td>0</td>\n",
       "      <td>35814.954559</td>\n",
       "      <td>0.000000</td>\n",
       "      <td>0.000000</td>\n",
       "      <td>0.000000e+00</td>\n",
       "      <td>0.000000</td>\n",
       "      <td>0.662223</td>\n",
       "      <td>0.666422</td>\n",
       "      <td>0.631065</td>\n",
       "    </tr>\n",
       "    <tr>\n",
       "      <th>...</th>\n",
       "      <td>...</td>\n",
       "      <td>...</td>\n",
       "      <td>...</td>\n",
       "      <td>...</td>\n",
       "      <td>...</td>\n",
       "      <td>...</td>\n",
       "      <td>...</td>\n",
       "      <td>...</td>\n",
       "      <td>...</td>\n",
       "      <td>...</td>\n",
       "      <td>...</td>\n",
       "      <td>...</td>\n",
       "      <td>...</td>\n",
       "      <td>...</td>\n",
       "      <td>...</td>\n",
       "      <td>...</td>\n",
       "      <td>...</td>\n",
       "      <td>...</td>\n",
       "    </tr>\n",
       "    <tr>\n",
       "      <th>15404</th>\n",
       "      <td>9824</td>\n",
       "      <td>0.455400</td>\n",
       "      <td>0.463823</td>\n",
       "      <td>0.541830</td>\n",
       "      <td>0.686869</td>\n",
       "      <td>0.352513</td>\n",
       "      <td>0.508587</td>\n",
       "      <td>31680</td>\n",
       "      <td>0.629957</td>\n",
       "      <td>0</td>\n",
       "      <td>422783.847183</td>\n",
       "      <td>432143.813675</td>\n",
       "      <td>125034.170409</td>\n",
       "      <td>1.024004e+05</td>\n",
       "      <td>259652.060345</td>\n",
       "      <td>0.445687</td>\n",
       "      <td>0.448366</td>\n",
       "      <td>0.322673</td>\n",
       "    </tr>\n",
       "    <tr>\n",
       "      <th>8185</th>\n",
       "      <td>5124</td>\n",
       "      <td>0.531415</td>\n",
       "      <td>0.566547</td>\n",
       "      <td>0.709296</td>\n",
       "      <td>0.686869</td>\n",
       "      <td>0.540692</td>\n",
       "      <td>0.864422</td>\n",
       "      <td>61344</td>\n",
       "      <td>0.565722</td>\n",
       "      <td>0</td>\n",
       "      <td>246888.239174</td>\n",
       "      <td>0.000000</td>\n",
       "      <td>0.000000</td>\n",
       "      <td>0.000000e+00</td>\n",
       "      <td>0.000000</td>\n",
       "      <td>0.514817</td>\n",
       "      <td>0.513767</td>\n",
       "      <td>0.514016</td>\n",
       "    </tr>\n",
       "    <tr>\n",
       "      <th>7694</th>\n",
       "      <td>4753</td>\n",
       "      <td>0.531415</td>\n",
       "      <td>0.566547</td>\n",
       "      <td>0.296494</td>\n",
       "      <td>0.216479</td>\n",
       "      <td>0.540692</td>\n",
       "      <td>0.657589</td>\n",
       "      <td>1894371</td>\n",
       "      <td>0.629957</td>\n",
       "      <td>4</td>\n",
       "      <td>246888.239174</td>\n",
       "      <td>177583.146032</td>\n",
       "      <td>958150.887348</td>\n",
       "      <td>1.629803e+06</td>\n",
       "      <td>184917.073702</td>\n",
       "      <td>0.514817</td>\n",
       "      <td>0.513767</td>\n",
       "      <td>0.514016</td>\n",
       "    </tr>\n",
       "    <tr>\n",
       "      <th>2667</th>\n",
       "      <td>1485</td>\n",
       "      <td>0.683098</td>\n",
       "      <td>0.684943</td>\n",
       "      <td>0.541830</td>\n",
       "      <td>0.686869</td>\n",
       "      <td>0.651691</td>\n",
       "      <td>0.482957</td>\n",
       "      <td>14</td>\n",
       "      <td>0.565722</td>\n",
       "      <td>0</td>\n",
       "      <td>35814.954559</td>\n",
       "      <td>34454.245862</td>\n",
       "      <td>125034.170409</td>\n",
       "      <td>1.024004e+05</td>\n",
       "      <td>10595.669831</td>\n",
       "      <td>0.662223</td>\n",
       "      <td>0.666422</td>\n",
       "      <td>0.631065</td>\n",
       "    </tr>\n",
       "    <tr>\n",
       "      <th>14325</th>\n",
       "      <td>8807</td>\n",
       "      <td>0.683098</td>\n",
       "      <td>0.684943</td>\n",
       "      <td>0.541830</td>\n",
       "      <td>0.531780</td>\n",
       "      <td>0.626258</td>\n",
       "      <td>0.553832</td>\n",
       "      <td>79412</td>\n",
       "      <td>0.629957</td>\n",
       "      <td>0</td>\n",
       "      <td>35814.954559</td>\n",
       "      <td>34454.245862</td>\n",
       "      <td>125034.170409</td>\n",
       "      <td>1.334914e+05</td>\n",
       "      <td>96375.627907</td>\n",
       "      <td>0.662223</td>\n",
       "      <td>0.666422</td>\n",
       "      <td>0.559587</td>\n",
       "    </tr>\n",
       "  </tbody>\n",
       "</table>\n",
       "<p>3389 rows × 18 columns</p>\n",
       "</div>"
      ],
      "text/plain": [
       "       Opportunity_ID    Region  Billing_Country  Account_Type  \\\n",
       "9900             6260  0.455400         0.463823      0.709296   \n",
       "1006              540  0.455400         0.463823      0.541830   \n",
       "4878             2898  0.585016         0.434141      0.296494   \n",
       "2604             1451  0.531415         0.275834      0.709296   \n",
       "2415             1356  0.683098         0.684943      0.541830   \n",
       "...               ...       ...              ...           ...   \n",
       "15404            9824  0.455400         0.463823      0.541830   \n",
       "8185             5124  0.531415         0.566547      0.709296   \n",
       "7694             4753  0.531415         0.566547      0.296494   \n",
       "2667             1485  0.683098         0.684943      0.541830   \n",
       "14325            8807  0.683098         0.684943      0.541830   \n",
       "\n",
       "       Opportunity_Type  Account_Owner  Account_Name  Conversión_USD  \\\n",
       "9900           0.686869       0.589056      0.710135          231918   \n",
       "1006           0.216479       0.274424      0.340130         4126027   \n",
       "4878           0.216479       0.486625      0.513271         4682427   \n",
       "2604           0.531780       0.285128      0.513271          302241   \n",
       "2415           0.686869       0.651691      0.482957             143   \n",
       "...                 ...            ...           ...             ...   \n",
       "15404          0.686869       0.352513      0.508587           31680   \n",
       "8185           0.686869       0.540692      0.864422           61344   \n",
       "7694           0.216479       0.540692      0.657589         1894371   \n",
       "2667           0.686869       0.651691      0.482957              14   \n",
       "14325          0.531780       0.626258      0.553832           79412   \n",
       "\n",
       "       Delivery_Quarter  TRF  promedio_preciov_region  \\\n",
       "9900           0.514946    1            422783.847183   \n",
       "1006           0.549676   11            422783.847183   \n",
       "4878           0.514946   12            108927.857068   \n",
       "2604           0.565722    1            246888.239174   \n",
       "2415           0.565722    0             35814.954559   \n",
       "...                 ...  ...                      ...   \n",
       "15404          0.629957    0            422783.847183   \n",
       "8185           0.565722    0            246888.239174   \n",
       "7694           0.629957    4            246888.239174   \n",
       "2667           0.565722    0             35814.954559   \n",
       "14325          0.629957    0             35814.954559   \n",
       "\n",
       "       promedio_preciov_paises  promedio_preciov_Account  \\\n",
       "9900             432143.813675             116533.133558   \n",
       "1006                  0.000000                  0.000000   \n",
       "4878                  0.000000                  0.000000   \n",
       "2604                  0.000000                  0.000000   \n",
       "2415                  0.000000                  0.000000   \n",
       "...                        ...                       ...   \n",
       "15404            432143.813675             125034.170409   \n",
       "8185                  0.000000                  0.000000   \n",
       "7694             177583.146032             958150.887348   \n",
       "2667              34454.245862             125034.170409   \n",
       "14325             34454.245862             125034.170409   \n",
       "\n",
       "       promedio_preciov_Oportunity  promedio_preciov_vendedor  \\\n",
       "9900                  1.024004e+05              684165.342071   \n",
       "1006                  0.000000e+00                   0.000000   \n",
       "4878                  0.000000e+00                   0.000000   \n",
       "2604                  0.000000e+00                   0.000000   \n",
       "2415                  0.000000e+00                   0.000000   \n",
       "...                            ...                        ...   \n",
       "15404                 1.024004e+05              259652.060345   \n",
       "8185                  0.000000e+00                   0.000000   \n",
       "7694                  1.629803e+06              184917.073702   \n",
       "2667                  1.024004e+05               10595.669831   \n",
       "14325                 1.334914e+05               96375.627907   \n",
       "\n",
       "       Wilsonxproporcion_region  Wilsonxproporcion_paises  \\\n",
       "9900                   0.445687                  0.448366   \n",
       "1006                   0.445687                  0.448366   \n",
       "4878                   0.560352                  0.391691   \n",
       "2604                   0.514817                  0.255594   \n",
       "2415                   0.662223                  0.666422   \n",
       "...                         ...                       ...   \n",
       "15404                  0.445687                  0.448366   \n",
       "8185                   0.514817                  0.513767   \n",
       "7694                   0.514817                  0.513767   \n",
       "2667                   0.662223                  0.666422   \n",
       "14325                  0.662223                  0.666422   \n",
       "\n",
       "       Wilsonxproporcion_vendedor  \n",
       "9900                     0.561500  \n",
       "1006                     0.250712  \n",
       "4878                     0.453016  \n",
       "2604                     0.262807  \n",
       "2415                     0.631065  \n",
       "...                           ...  \n",
       "15404                    0.322673  \n",
       "8185                     0.514016  \n",
       "7694                     0.514016  \n",
       "2667                     0.631065  \n",
       "14325                    0.559587  \n",
       "\n",
       "[3389 rows x 18 columns]"
      ]
     },
     "execution_count": 38,
     "metadata": {},
     "output_type": "execute_result"
    }
   ],
   "source": [
    "X_test"
   ]
  },
  {
   "cell_type": "code",
   "execution_count": null,
   "metadata": {},
   "outputs": [],
   "source": []
  },
  {
   "cell_type": "code",
   "execution_count": 40,
   "metadata": {},
   "outputs": [],
   "source": [
    "# Import log_loss from sklearn\n",
    "from sklearn.metrics import log_loss"
   ]
  },
  {
   "cell_type": "code",
   "execution_count": 41,
   "metadata": {},
   "outputs": [
    {
     "name": "stdout",
     "output_type": "stream",
     "text": [
      "Sklearn LogLoss: 0.21124\n"
     ]
    }
   ],
   "source": [
    "print('Sklearn LogLoss: {:.5f}'.format(log_loss(y_test, preds)))"
   ]
  },
  {
   "cell_type": "code",
   "execution_count": 42,
   "metadata": {},
   "outputs": [],
   "source": [
    "preds = preds[:, 1]"
   ]
  },
  {
   "cell_type": "code",
   "execution_count": 43,
   "metadata": {},
   "outputs": [
    {
     "name": "stdout",
     "output_type": "stream",
     "text": [
      "Sklearn LogLoss: 0.21124\n"
     ]
    }
   ],
   "source": [
    "print('Sklearn LogLoss: {:.5f}'.format(log_loss(y_test, preds)))"
   ]
  },
  {
   "cell_type": "code",
   "execution_count": null,
   "metadata": {},
   "outputs": [],
   "source": [
    "###Predict en test"
   ]
  },
  {
   "cell_type": "code",
   "execution_count": 44,
   "metadata": {},
   "outputs": [],
   "source": [
    "preds_test = xg_reg.predict_proba(test)"
   ]
  },
  {
   "cell_type": "code",
   "execution_count": 45,
   "metadata": {},
   "outputs": [],
   "source": [
    "preds_test = preds_test[:, 1]"
   ]
  },
  {
   "cell_type": "code",
   "execution_count": 46,
   "metadata": {},
   "outputs": [],
   "source": [
    "test['Target']=preds_test"
   ]
  },
  {
   "cell_type": "code",
   "execution_count": 47,
   "metadata": {},
   "outputs": [],
   "source": [
    "sub= test[['Opportunity_ID','Target']]"
   ]
  },
  {
   "cell_type": "code",
   "execution_count": 48,
   "metadata": {},
   "outputs": [],
   "source": [
    "sub1=sub.groupby(['Opportunity_ID'], as_index=False).mean()"
   ]
  },
  {
   "cell_type": "code",
   "execution_count": 50,
   "metadata": {},
   "outputs": [
    {
     "data": {
      "text/plain": [
       "(1567, 2)"
      ]
     },
     "execution_count": 50,
     "metadata": {},
     "output_type": "execute_result"
    }
   ],
   "source": [
    "sub1.shape"
   ]
  },
  {
   "cell_type": "code",
   "execution_count": 49,
   "metadata": {},
   "outputs": [],
   "source": [
    "sub1[['Opportunity_ID', 'Target']].to_csv('submission3.csv', index=False)"
   ]
  },
  {
   "cell_type": "code",
   "execution_count": null,
   "metadata": {
    "scrolled": true
   },
   "outputs": [],
   "source": [
    "Your submission scored 0.80485, which is not an improvement of your best score. Keep trying!"
   ]
  },
  {
   "cell_type": "code",
   "execution_count": 52,
   "metadata": {},
   "outputs": [],
   "source": [
    "features = ['Opportunity_ID', 'Region', 'Billing_Country', 'Account_Type','Opportunity_Type', 'Account_Owner', 'Account_Name', 'Conversión_USD',\n",
    "       'Delivery_Quarter', 'TRF','Wilsonxproporcion_region', 'Wilsonxproporcion_paises', 'Wilsonxproporcion_vendedor']"
   ]
  },
  {
   "cell_type": "code",
   "execution_count": 70,
   "metadata": {},
   "outputs": [],
   "source": [
    "xg_reg4 = xgb.XGBClassifier(objective ='reg:squaredlogerror', \n",
    "                colsample_bytree = 0.3, learning_rate = 0.1,\n",
    "                max_depth = 5, alpha = 10, n_estimators = 10)"
   ]
  },
  {
   "cell_type": "code",
   "execution_count": 75,
   "metadata": {},
   "outputs": [
    {
     "name": "stderr",
     "output_type": "stream",
     "text": [
      "C:\\Users\\Julia\\anaconda3\\lib\\site-packages\\xgboost\\sklearn.py:888: UserWarning: The use of label encoder in XGBClassifier is deprecated and will be removed in a future release. To remove this warning, do the following: 1) Pass option use_label_encoder=False when constructing XGBClassifier object; and 2) Encode your labels (y) as integers starting with 0, i.e. 0, 1, 2, ..., [num_class - 1].\n",
      "  warnings.warn(label_encoder_deprecation_msg, UserWarning)\n"
     ]
    },
    {
     "data": {
      "text/plain": [
       "XGBClassifier(alpha=10, base_score=0.5, booster='gbtree', colsample_bylevel=1,\n",
       "              colsample_bynode=1, colsample_bytree=0.3, gamma=0, gpu_id=-1,\n",
       "              importance_type='gain', interaction_constraints='',\n",
       "              learning_rate=0.1, max_delta_step=0, max_depth=5,\n",
       "              min_child_weight=1, missing=nan, monotone_constraints='()',\n",
       "              n_estimators=10, n_jobs=4, num_parallel_tree=1,\n",
       "              objective='reg:squaredlogerror', random_state=0, reg_alpha=10,\n",
       "              reg_lambda=1, scale_pos_weight=1, subsample=1,\n",
       "              tree_method='exact', validate_parameters=1, verbosity=None)"
      ]
     },
     "execution_count": 75,
     "metadata": {},
     "output_type": "execute_result"
    }
   ],
   "source": [
    "xg_reg4.fit(X_train[features],y_train)"
   ]
  },
  {
   "cell_type": "code",
   "execution_count": 76,
   "metadata": {},
   "outputs": [],
   "source": [
    "preds = xg_reg4.predict(X_test[features])"
   ]
  },
  {
   "cell_type": "code",
   "execution_count": 77,
   "metadata": {},
   "outputs": [
    {
     "name": "stdout",
     "output_type": "stream",
     "text": [
      "Sklearn LogLoss: 7.73536\n"
     ]
    }
   ],
   "source": [
    "print('Sklearn LogLoss: {:.5f}'.format(log_loss(y_test, preds)))"
   ]
  },
  {
   "cell_type": "code",
   "execution_count": 78,
   "metadata": {},
   "outputs": [],
   "source": [
    "preds_test = xg_reg4.predict_proba(test[features])"
   ]
  },
  {
   "cell_type": "code",
   "execution_count": 79,
   "metadata": {},
   "outputs": [],
   "source": [
    "preds_test = preds_test[:, 1]"
   ]
  },
  {
   "cell_type": "code",
   "execution_count": 80,
   "metadata": {},
   "outputs": [],
   "source": [
    "test['Target']=preds_test"
   ]
  },
  {
   "cell_type": "code",
   "execution_count": 81,
   "metadata": {},
   "outputs": [],
   "source": [
    "sub= test[['Opportunity_ID','Target']]"
   ]
  },
  {
   "cell_type": "code",
   "execution_count": 82,
   "metadata": {},
   "outputs": [],
   "source": [
    "sub1=sub.groupby(['Opportunity_ID'], as_index=False).mean()"
   ]
  },
  {
   "cell_type": "code",
   "execution_count": 83,
   "metadata": {},
   "outputs": [
    {
     "data": {
      "text/plain": [
       "(1567, 2)"
      ]
     },
     "execution_count": 83,
     "metadata": {},
     "output_type": "execute_result"
    }
   ],
   "source": [
    "sub1.shape"
   ]
  },
  {
   "cell_type": "code",
   "execution_count": 84,
   "metadata": {},
   "outputs": [],
   "source": [
    "sub1[['Opportunity_ID', 'Target']].to_csv('submission4.csv', index=False)"
   ]
  },
  {
   "cell_type": "code",
   "execution_count": null,
   "metadata": {},
   "outputs": [],
   "source": []
  }
 ],
 "metadata": {
  "kernelspec": {
   "display_name": "Python 3",
   "language": "python",
   "name": "python3"
  },
  "language_info": {
   "codemirror_mode": {
    "name": "ipython",
    "version": 3
   },
   "file_extension": ".py",
   "mimetype": "text/x-python",
   "name": "python",
   "nbconvert_exporter": "python",
   "pygments_lexer": "ipython3",
   "version": "3.8.5"
  }
 },
 "nbformat": 4,
 "nbformat_minor": 4
}
